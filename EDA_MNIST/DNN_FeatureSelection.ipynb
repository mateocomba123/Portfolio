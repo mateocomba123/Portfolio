{
 "cells": [
  {
   "cell_type": "markdown",
   "metadata": {},
   "source": [
    "# Los Datos <a class=\"anchor\" id=\"losdatos\"></a>\n",
    "\n",
    "MNIST es una base de datos con 70 mil capturas de dígitos escritos a mano, del 0 al 9.  La misma fue creada en su momento por empleados del *US Census Bureau* de Estados Unidos y por estudiantes con el objetivo de crear un sistema capaz de reconocer los números de los códigos postales.   \n",
    "\n",
    "La gente de Scikit-Learn guarda una versión a la cual podemos acceder libremente."
   ]
  },
  {
   "cell_type": "markdown",
   "metadata": {},
   "source": [
    "**Segunda Parte**:  \n",
    "\n",
    "Esta segunda parte es similar a la primera pero incluye elementos vistos en la materia **Práctica Profesionalizante 3** y se utilizará para evaluar dicha materia.  \n",
    "\n",
    "Luego de observar las imágenes, Ud supone que algunos pixels de la misma tienen poca relevancia para determinar qué número está escrito en ellas. \n",
    "\n",
    "1- Con los métodos vistos en PP3 (esencialmente filtros) deberá generar un conjunto de **a lo sumo 200 pixels** con los cuales deberá repetir la primera parte.  \n",
    "2- Al modelo de producción de esta segunda parte deberá llamarlo **produccion_2**  \n",
    "3- Deberá comparar los resultados obtenidos con los anteriores y anotar cómo funciona mejor.   \n",
    "4- Finalmente con produccion_2 deberá etiquetar las 10 mil imágenes y guardar las etiquetas como *suApellido_2.npy*  \n",
    "\n",
    "Nota: Debe documentar su trabajo para luego poder explicarlo, no genere código sin explicaciones!"
   ]
  },
  {
   "cell_type": "markdown",
   "metadata": {},
   "source": [
    "##### Para realizar la tarea de seleccion de features, vamos a utilizar el F-test Anova entre cada pixel y la variable target, para comprobar que existe una relacion entre estas, es decir, nuestras Xs, explican nuestras Ys. Este test es el adecuado debido a que poseemos features continuas y target categorico en nuestro problema"
   ]
  },
  {
   "cell_type": "markdown",
   "metadata": {},
   "source": [
    "### Con cuantas variables tendriamos un nivel de accuracy aceptable? Veamos que obtenemos al respecto"
   ]
  },
  {
   "cell_type": "markdown",
   "metadata": {},
   "source": [
    "Haremos la prueba con decision tree porque funciona rapido, asi probaremos para determinadas cantidades de parametros, cuando accuracy vamos obteniendo, para determinar un buen numero para entrenar"
   ]
  },
  {
   "cell_type": "code",
   "execution_count": 2,
   "metadata": {},
   "outputs": [],
   "source": [
    "import numpy as np\n",
    "import pandas as pd\n",
    "X_train=np.load('Alumno/X_MNIST_60_mil.npy', allow_pickle=True)\n",
    "y_train=np.load('Alumno/Y_MNIST_60_mil.npy', allow_pickle=True)\n",
    "X_test=np.load('Alumno/X_MNIST_10_mil.npy', allow_pickle=True)\n",
    "#y_test se lo guardo el profe"
   ]
  },
  {
   "cell_type": "code",
   "execution_count": 77,
   "metadata": {},
   "outputs": [
    {
     "data": {
      "text/plain": [
       "(60000, 784)"
      ]
     },
     "execution_count": 77,
     "metadata": {},
     "output_type": "execute_result"
    }
   ],
   "source": [
    "X_train.shape"
   ]
  },
  {
   "cell_type": "code",
   "execution_count": 78,
   "metadata": {},
   "outputs": [
    {
     "data": {
      "text/plain": [
       "(10000, 784)"
      ]
     },
     "execution_count": 78,
     "metadata": {},
     "output_type": "execute_result"
    }
   ],
   "source": [
    "X_test.shape"
   ]
  },
  {
   "cell_type": "code",
   "execution_count": 79,
   "metadata": {},
   "outputs": [
    {
     "data": {
      "text/plain": [
       "(60000,)"
      ]
     },
     "execution_count": 79,
     "metadata": {},
     "output_type": "execute_result"
    }
   ],
   "source": [
    "y_train.shape"
   ]
  },
  {
   "cell_type": "code",
   "execution_count": 80,
   "metadata": {},
   "outputs": [],
   "source": [
    "X_train = pd.DataFrame(X_train)\n",
    "X_test = pd.DataFrame(X_test)"
   ]
  },
  {
   "cell_type": "code",
   "execution_count": 81,
   "metadata": {},
   "outputs": [],
   "source": [
    "from sklearn.model_selection import train_test_split\n",
    "\n",
    "X_val_train,X_val_test,y_val_train,y_val_test=train_test_split(X_train,y_train,test_size=0.2,random_state=123)"
   ]
  },
  {
   "cell_type": "code",
   "execution_count": 82,
   "metadata": {},
   "outputs": [],
   "source": [
    "X_val_train = X_val_train.to_numpy()"
   ]
  },
  {
   "cell_type": "code",
   "execution_count": 83,
   "metadata": {},
   "outputs": [],
   "source": [
    "X_val_test = X_val_test.to_numpy()"
   ]
  },
  {
   "cell_type": "code",
   "execution_count": 84,
   "metadata": {},
   "outputs": [
    {
     "name": "stderr",
     "output_type": "stream",
     "text": [
      "C:\\Users\\Mateio\\Anaconda3\\lib\\site-packages\\sklearn\\feature_selection\\_univariate_selection.py:114: UserWarning: Features [  0   1   2   3   4   5   6   7   8   9  10  11  14  15  16  17  18  19\n",
      "  20  21  22  23  24  25  26  27  28  29  30  31  52  53  54  55  56  57\n",
      "  82  83  84  85 111 112 140 168 392 476 560 644 671 672 673 699 700 701\n",
      " 727 728 729 730 753 754 755 756 757 758 759 780 781 782 783] are constant.\n",
      "  UserWarning)\n",
      "C:\\Users\\Mateio\\Anaconda3\\lib\\site-packages\\sklearn\\feature_selection\\_univariate_selection.py:115: RuntimeWarning: invalid value encountered in true_divide\n",
      "  f = msb / msw\n"
     ]
    }
   ],
   "source": [
    "from sklearn.feature_selection import f_classif\n",
    "\n",
    "f = f_classif(X_train, y_train)[0]"
   ]
  },
  {
   "cell_type": "code",
   "execution_count": 85,
   "metadata": {},
   "outputs": [],
   "source": [
    "from sklearn.feature_selection import mutual_info_classif\n",
    "\n",
    "mi = mutual_info_classif(X_train, y_train)"
   ]
  },
  {
   "cell_type": "markdown",
   "metadata": {},
   "source": [
    "El siguiente codigo entrenara y evaluara modelos entrenados segun distintos valores de K top variables, elegidas con ANOVA y mutual information, con el objetivo de realizar un grafico que nos permita ver en que momento la ganancia de informacion se estabiliza. De esta forma, podremos entrenar con ese numero de parametros y no todos los disponibles, porque ya sabemos de antemano que, por ejemplo, las esquinas de las imagenes, son una constante, dado que por la naturaleza del problema, los numeros no estan presentes en ese lugar."
   ]
  },
  {
   "cell_type": "code",
   "execution_count": 86,
   "metadata": {},
   "outputs": [],
   "source": [
    "import numpy as np\n",
    "\n",
    "ranking = pd.DataFrame(index = range(X_val_train.shape[1]))\n",
    "\n",
    "ranking['f'] = pd.Series(f, index = ranking.index).fillna(0).rank(ascending = False)\n",
    "ranking['mi'] = pd.Series(mi, index = ranking.index).fillna(0).rank(ascending = False)\n",
    "\n",
    "ranking = ranking.replace(to_replace = ranking.max(), value = X_val_train.shape[1])\n",
    "ranking.to_csv('ranking.csv', index = False)"
   ]
  },
  {
   "cell_type": "code",
   "execution_count": 87,
   "metadata": {},
   "outputs": [],
   "source": [
    "from sklearn.metrics import accuracy_score, roc_auc_score\n",
    "from sklearn.model_selection import cross_val_score\n",
    "from sklearn.tree import DecisionTreeClassifier\n",
    "algos = ['f','mi']\n",
    "ks = [20,40,80,120,160,200,300,400]\n",
    "\n",
    "accuracy = pd.DataFrame(index = ks, columns = algos)\n",
    "\n",
    "for algo in algos:\n",
    "    \n",
    "    for k in ks:\n",
    "    \n",
    "        cols = ranking[algo].sort_values().head(k).index.to_list()\n",
    "                \n",
    "        clf = DecisionTreeClassifier().fit(\n",
    "            X_val_train[:, cols], y_val_train)\n",
    "                \n",
    "        accuracy.loc[k, algo] = accuracy_score(\n",
    "            y_true = y_val_test, y_pred = clf.predict(X_val_test[:, cols]))\n",
    "        \n",
    "accuracy.to_csv('accuracy.csv', index = True)"
   ]
  },
  {
   "cell_type": "code",
   "execution_count": 89,
   "metadata": {},
   "outputs": [
    {
     "data": {
      "image/png": "[encoded data removed]",
      "text/plain": [
       "<Figure size 360x360 with 1 Axes>"
      ]
     },
     "metadata": {
      "needs_background": "light"
     },
     "output_type": "display_data"
    }
   ],
   "source": [
    "for algo, label, color in zip(\n",
    "    ['f','mi'],\n",
    "    ['F-statistic','MRMR'],\n",
    "    ['orangered','blue']):\n",
    "        plt.plot(accuracy.index, accuracy[algo], label = label, color = color, lw = 3)\n",
    "\n",
    "plt.plot(\n",
    "    [1, 400], [pd.Series(y_val_test).value_counts(normalize = True).iloc[0]] * 2, \n",
    "    label = '[Random]', color = 'grey', ls = '--', lw = 3\n",
    ")\n",
    "\n",
    "plt.legend(fontsize = 13, loc = 'center left', bbox_to_anchor = (1, 0.5))\n",
    "plt.grid()\n",
    "plt.yticks(np.linspace(0, 1, 11), ['{:.0%}'.format(i) for i in np.linspace(0, 1, 11)], fontsize = 13)\n",
    "plt.xticks([1] + list(range(0, 400, 40)), fontsize = 10)\n",
    "plt.xlim(-1, 400)\n",
    "plt.ylim(-.05, 1.05)\n",
    "plt.xlabel('Number of features', fontsize = 7)\n",
    "plt.ylabel('Accuracy', fontsize = 13)\n",
    "plt.savefig('accuracy.png', dpi = 300, bbox_inches = 'tight')"
   ]
  },
  {
   "cell_type": "markdown",
   "metadata": {},
   "source": [
    "#### Conclusiones: con 200 variables, tanto por el metodo de ANOVA como Mutual Information, podemos ver que el accuracy del modelo se estabiliza, entonces, entrenamos con esta cantidad."
   ]
  },
  {
   "cell_type": "markdown",
   "metadata": {},
   "source": [
    "### Modelizacion post feature selection"
   ]
  },
  {
   "cell_type": "markdown",
   "metadata": {},
   "source": [
    "Cambiar el K, determinando con que top de variables queremos quedarnos"
   ]
  },
  {
   "cell_type": "code",
   "execution_count": 116,
   "metadata": {},
   "outputs": [],
   "source": [
    "import numpy as np\n",
    "import pandas as pd\n",
    "X_train=np.load('Alumno/X_MNIST_60_mil.npy', allow_pickle=True)\n",
    "y_train=np.load('Alumno/Y_MNIST_60_mil.npy', allow_pickle=True)\n",
    "X_test=np.load('Alumno/X_MNIST_10_mil.npy', allow_pickle=True)\n",
    "#y_test se lo guardo el profe"
   ]
  },
  {
   "cell_type": "code",
   "execution_count": 3,
   "metadata": {},
   "outputs": [],
   "source": [
    "X_train = pd.DataFrame(X_train)\n",
    "X_test = pd.DataFrame(X_test)"
   ]
  },
  {
   "cell_type": "code",
   "execution_count": 4,
   "metadata": {},
   "outputs": [],
   "source": [
    "K = 196"
   ]
  },
  {
   "cell_type": "code",
   "execution_count": 5,
   "metadata": {},
   "outputs": [
    {
     "name": "stdout",
     "output_type": "stream",
     "text": [
      "[98, 99, 100, 101, 102, 125, 126, 127, 128, 150, 151, 152, 153, 154, 155, 156, 157, 178, 179, 180, 181, 182, 183, 184, 185, 236, 262, 263, 264, 267, 270, 271, 272, 289, 290, 291, 295, 298, 299, 300, 301, 302, 316, 317, 318, 319, 322, 323, 325, 326, 327, 329, 330, 331, 344, 345, 346, 347, 348, 349, 350, 351, 353, 354, 357, 358, 359, 371, 372, 373, 374, 375, 376, 377, 378, 379, 380, 381, 382, 385, 386, 387, 398, 399, 400, 401, 402, 403, 404, 405, 406, 407, 408, 409, 410, 412, 413, 414, 415, 426, 427, 428, 429, 430, 431, 432, 433, 434, 435, 436, 437, 438, 440, 441, 442, 454, 455, 456, 457, 458, 459, 460, 461, 462, 463, 464, 465, 468, 469, 470, 482, 483, 484, 485, 486, 487, 488, 489, 490, 491, 492, 495, 496, 497, 509, 510, 511, 512, 513, 514, 515, 516, 517, 518, 522, 523, 524, 538, 539, 540, 541, 542, 543, 544, 545, 550, 551, 552, 566, 567, 568, 569, 570, 571, 572, 577, 578, 594, 595, 596, 597, 598, 623, 624, 625, 626, 627, 628, 654, 655, 656, 657, 658, 711, 712, 713]\n"
     ]
    },
    {
     "name": "stderr",
     "output_type": "stream",
     "text": [
      "C:\\Users\\Mateio\\Anaconda3\\lib\\site-packages\\sklearn\\feature_selection\\_univariate_selection.py:114: UserWarning: Features [  0   1   2   3   4   5   6   7   8   9  10  11  14  15  16  17  18  19\n",
      "  20  21  22  23  24  25  26  27  28  29  30  31  52  53  54  55  56  57\n",
      "  82  83  84  85 111 112 140 168 392 476 560 644 671 672 673 699 700 701\n",
      " 727 728 729 730 753 754 755 756 757 758 759 780 781 782 783] are constant.\n",
      "  UserWarning)\n",
      "C:\\Users\\Mateio\\Anaconda3\\lib\\site-packages\\sklearn\\feature_selection\\_univariate_selection.py:115: RuntimeWarning: invalid value encountered in true_divide\n",
      "  f = msb / msw\n"
     ]
    }
   ],
   "source": [
    "from sklearn.feature_selection import SelectKBest\n",
    "from sklearn.feature_selection import f_classif\n",
    "\n",
    "selector = SelectKBest(score_func=f_classif, k=K)\n",
    "\n",
    "selector.fit(X_train, y_train)\n",
    "\n",
    "vector_names = list(X_train.columns[selector.get_support(indices=True)])\n",
    "print(vector_names)"
   ]
  },
  {
   "cell_type": "markdown",
   "metadata": {},
   "source": [
    "Creo dataframe con los promedios para luego asignar un color"
   ]
  },
  {
   "cell_type": "code",
   "execution_count": 7,
   "metadata": {},
   "outputs": [
    {
     "data": {
      "text/html": [
       "<div>\n",
       "<style scoped>\n",
       "    .dataframe tbody tr th:only-of-type {\n",
       "        vertical-align: middle;\n",
       "    }\n",
       "\n",
       "    .dataframe tbody tr th {\n",
       "        vertical-align: top;\n",
       "    }\n",
       "\n",
       "    .dataframe thead th {\n",
       "        text-align: right;\n",
       "    }\n",
       "</style>\n",
       "<table border=\"1\" class=\"dataframe\">\n",
       "  <thead>\n",
       "    <tr style=\"text-align: right;\">\n",
       "      <th></th>\n",
       "      <th>Promedio</th>\n",
       "    </tr>\n",
       "  </thead>\n",
       "  <tbody>\n",
       "    <tr>\n",
       "      <th>0</th>\n",
       "      <td>0.000000</td>\n",
       "    </tr>\n",
       "    <tr>\n",
       "      <th>1</th>\n",
       "      <td>0.000000</td>\n",
       "    </tr>\n",
       "    <tr>\n",
       "      <th>2</th>\n",
       "      <td>0.000000</td>\n",
       "    </tr>\n",
       "    <tr>\n",
       "      <th>3</th>\n",
       "      <td>0.000000</td>\n",
       "    </tr>\n",
       "    <tr>\n",
       "      <th>4</th>\n",
       "      <td>0.000000</td>\n",
       "    </tr>\n",
       "    <tr>\n",
       "      <th>...</th>\n",
       "      <td>...</td>\n",
       "    </tr>\n",
       "    <tr>\n",
       "      <th>779</th>\n",
       "      <td>0.000967</td>\n",
       "    </tr>\n",
       "    <tr>\n",
       "      <th>780</th>\n",
       "      <td>0.000000</td>\n",
       "    </tr>\n",
       "    <tr>\n",
       "      <th>781</th>\n",
       "      <td>0.000000</td>\n",
       "    </tr>\n",
       "    <tr>\n",
       "      <th>782</th>\n",
       "      <td>0.000000</td>\n",
       "    </tr>\n",
       "    <tr>\n",
       "      <th>783</th>\n",
       "      <td>0.000000</td>\n",
       "    </tr>\n",
       "  </tbody>\n",
       "</table>\n",
       "<p>784 rows × 1 columns</p>\n",
       "</div>"
      ],
      "text/plain": [
       "     Promedio\n",
       "0    0.000000\n",
       "1    0.000000\n",
       "2    0.000000\n",
       "3    0.000000\n",
       "4    0.000000\n",
       "..        ...\n",
       "779  0.000967\n",
       "780  0.000000\n",
       "781  0.000000\n",
       "782  0.000000\n",
       "783  0.000000\n",
       "\n",
       "[784 rows x 1 columns]"
      ]
     },
     "execution_count": 7,
     "metadata": {},
     "output_type": "execute_result"
    }
   ],
   "source": [
    "promedios = np.mean(X_train)\n",
    "promedios = pd.DataFrame(promedios,columns=['Promedio'])\n",
    "promedios"
   ]
  },
  {
   "cell_type": "code",
   "execution_count": 8,
   "metadata": {},
   "outputs": [],
   "source": [
    "promedios[~promedios.index.isin(vector_names)] = 0  #Accedo a las features que no estaban entre las elegidas y les doy el valor 0\n",
    "promedios[promedios.index.isin(vector_names)] = 255 #Accedo a las que si estaban seleccionadas y les doy valor 255"
   ]
  },
  {
   "cell_type": "code",
   "execution_count": 9,
   "metadata": {},
   "outputs": [],
   "source": [
    "promedios = promedios.to_numpy() #Convierto a numpy array"
   ]
  },
  {
   "cell_type": "code",
   "execution_count": 10,
   "metadata": {},
   "outputs": [],
   "source": [
    "promedios = promedios.reshape(28,28) #Le doy formato de imagen 28x28"
   ]
  },
  {
   "cell_type": "markdown",
   "metadata": {},
   "source": [
    "La imagen se debe interpretar como top K pixeles que explican que una observacion (una imagen) sea alguna de las posibilidades de y"
   ]
  },
  {
   "cell_type": "code",
   "execution_count": 11,
   "metadata": {
    "scrolled": true
   },
   "outputs": [
    {
     "data": {
      "image/png": "[encoded data removed]",
      "text/plain": [
       "<Figure size 360x360 with 1 Axes>"
      ]
     },
     "metadata": {
      "needs_background": "light"
     },
     "output_type": "display_data"
    }
   ],
   "source": [
    "import matplotlib.pyplot as plt\n",
    "plt.figure(figsize = (5,5))\n",
    "plt.imshow(promedios, cmap='binary', vmin=0, vmax=255) \n",
    "plt.show()"
   ]
  },
  {
   "cell_type": "markdown",
   "metadata": {},
   "source": [
    "### Modelizacion con el nuevo dataframe reducido"
   ]
  },
  {
   "cell_type": "markdown",
   "metadata": {},
   "source": [
    "Obtengo los dataframes para entrenar los nuevos modelos y chequeo que tengan el tamaño deseado"
   ]
  },
  {
   "cell_type": "code",
   "execution_count": 6,
   "metadata": {},
   "outputs": [
    {
     "name": "stdout",
     "output_type": "stream",
     "text": [
      "(60000, 196)\n",
      "(10000, 196)\n"
     ]
    }
   ],
   "source": [
    "X_train_best = X_train[vector_names]\n",
    "X_test_best = X_test[vector_names]\n",
    "\n",
    "print(X_train_best.shape)\n",
    "print(X_test_best.shape)"
   ]
  },
  {
   "cell_type": "code",
   "execution_count": 7,
   "metadata": {},
   "outputs": [],
   "source": [
    "X_train_best = X_train_best / 255\n",
    "X_test_best = X_test_best / 255"
   ]
  },
  {
   "cell_type": "code",
   "execution_count": 8,
   "metadata": {},
   "outputs": [],
   "source": [
    "from sklearn.model_selection import train_test_split\n",
    "X_val_train,X_val_test,y_val_train,y_val_test=train_test_split(X_train_best,y_train,test_size=0.2,random_state=123)"
   ]
  },
  {
   "cell_type": "markdown",
   "metadata": {},
   "source": [
    "## Modelizacion clasica con GridSearchCV - Tuning de hiperparametros"
   ]
  },
  {
   "cell_type": "code",
   "execution_count": 17,
   "metadata": {},
   "outputs": [],
   "source": [
    "from sklearn.model_selection import cross_validate\n",
    "from sklearn.model_selection import GridSearchCV"
   ]
  },
  {
   "cell_type": "markdown",
   "metadata": {},
   "source": [
    "### Modelización Regresión Logística Ridge <a class=\"anchor\" id=\"GS-RL\"></a>"
   ]
  },
  {
   "cell_type": "code",
   "execution_count": 18,
   "metadata": {},
   "outputs": [],
   "source": [
    "from sklearn.linear_model import LogisticRegression"
   ]
  },
  {
   "cell_type": "code",
   "execution_count": 19,
   "metadata": {},
   "outputs": [
    {
     "name": "stdout",
     "output_type": "stream",
     "text": [
      "Fitting 3 folds for each of 5 candidates, totalling 15 fits\n"
     ]
    },
    {
     "name": "stderr",
     "output_type": "stream",
     "text": [
      "[Parallel(n_jobs=-1)]: Using backend LokyBackend with 4 concurrent workers.\n",
      "[Parallel(n_jobs=-1)]: Done  15 out of  15 | elapsed:  2.5min finished\n"
     ]
    }
   ],
   "source": [
    "# Creamos el modelo con los parámetros que no cambiarán, observe que no le pasamos el valor de C de regulrización\n",
    "Log_Ridge=LogisticRegression(penalty='l2', max_iter=10000, tol=0.0001) \n",
    "\n",
    "# Armamos el diccionario con el  nombre y valores para los Hiperparámetros\n",
    "parametros_RL = {'C':[0.01,0.1,1,10,100]}   \n",
    "\n",
    "# Armamos el GridSearchCV\n",
    "grid_RL = GridSearchCV(estimator = Log_Ridge,param_grid = parametros_RL,scoring = 'accuracy', cv = 3, verbose = 1,\n",
    "                        n_jobs = -1)\n",
    "\n",
    "# Lo entrenamos en el Train Set (él lo dividirá internamente y en cada fold estarán en ValTrain y ValTest)\n",
    "grid_RL.fit(X_val_train, y_val_train);"
   ]
  },
  {
   "cell_type": "code",
   "execution_count": 20,
   "metadata": {},
   "outputs": [
    {
     "data": {
      "text/plain": [
       "0.8580208333333333"
      ]
     },
     "execution_count": 20,
     "metadata": {},
     "output_type": "execute_result"
    }
   ],
   "source": [
    "# Obtenemos el mejor AC \n",
    "AC_RL_best=grid_RL.best_score_\n",
    "AC_RL_best"
   ]
  },
  {
   "cell_type": "code",
   "execution_count": 21,
   "metadata": {},
   "outputs": [
    {
     "data": {
      "text/plain": [
       "{'C': 100}"
      ]
     },
     "execution_count": 21,
     "metadata": {},
     "output_type": "execute_result"
    }
   ],
   "source": [
    "#Mejor regularizacion C\n",
    "parametros_RL_best=grid_RL.best_params_\n",
    "parametros_RL_best"
   ]
  },
  {
   "cell_type": "code",
   "execution_count": 22,
   "metadata": {},
   "outputs": [
    {
     "data": {
      "text/plain": [
       "LogisticRegression(C=100, class_weight=None, dual=False, fit_intercept=True,\n",
       "                   intercept_scaling=1, l1_ratio=None, max_iter=10000,\n",
       "                   multi_class='auto', n_jobs=None, penalty='l2',\n",
       "                   random_state=None, solver='lbfgs', tol=0.0001, verbose=0,\n",
       "                   warm_start=False)"
      ]
     },
     "execution_count": 22,
     "metadata": {},
     "output_type": "execute_result"
    }
   ],
   "source": [
    "#Mejor modelo RL\n",
    "modelo_RL_best=grid_RL.best_estimator_\n",
    "modelo_RL_best"
   ]
  },
  {
   "cell_type": "code",
   "execution_count": 23,
   "metadata": {},
   "outputs": [
    {
     "data": {
      "text/plain": [
       "0.003808342450754952"
      ]
     },
     "execution_count": 23,
     "metadata": {},
     "output_type": "execute_result"
    }
   ],
   "source": [
    "# Podemos calcular el desvío standard para el mejor caso:\n",
    "desvios_RL = grid_RL.cv_results_['std_test_score'] \n",
    "desvio_mejor_RL=desvios_RL[grid_RL.best_index_]\n",
    "desvio_mejor_RL"
   ]
  },
  {
   "cell_type": "code",
   "execution_count": 24,
   "metadata": {},
   "outputs": [
    {
     "name": "stdout",
     "output_type": "stream",
     "text": [
      "Modelo de Regresión Logística  con Regularización Ridge\n",
      "Mejor Accuracy:  0.858  +/-  0.008 ( 95% )\n",
      "Lectura del intervalo: Con un 95% de confianza, podemos decir que el modelo clasificará correctamente en producción entre el:  85.0 % y el  87.0 % de las observaciones\n"
     ]
    }
   ],
   "source": [
    "print(\"Modelo de Regresión Logística  con Regularización Ridge\")\n",
    "\n",
    "print(\"Mejor Accuracy: \",round(AC_RL_best,3),' +/- ', round(2*desvio_mejor_RL,3), '( 95% )')\n",
    "\n",
    "print(\"Lectura del intervalo: Con un 95% de confianza, podemos decir que el modelo clasificará correctamente en producción entre el: \",round(AC_RL_best - desvio_mejor_RL,2)*100,'% y el ',round(AC_RL_best + 2*desvio_mejor_RL,2)*100 , '% de las observaciones')"
   ]
  },
  {
   "cell_type": "markdown",
   "metadata": {},
   "source": [
    "### Modelización kNN  <a class=\"anchor\" id=\"GS-kNN\"></a>"
   ]
  },
  {
   "cell_type": "code",
   "execution_count": 25,
   "metadata": {},
   "outputs": [
    {
     "name": "stdout",
     "output_type": "stream",
     "text": [
      "Evaluación modelo kNN en el Validation\n",
      "Fitting 3 folds for each of 6 candidates, totalling 18 fits\n"
     ]
    },
    {
     "name": "stderr",
     "output_type": "stream",
     "text": [
      "[Parallel(n_jobs=-1)]: Using backend LokyBackend with 4 concurrent workers.\n",
      "[Parallel(n_jobs=-1)]: Done  18 out of  18 | elapsed: 37.3min finished\n"
     ]
    }
   ],
   "source": [
    "from sklearn import neighbors \n",
    "from sklearn.metrics import confusion_matrix, accuracy_score, f1_score\n",
    "\n",
    "import warnings\n",
    "warnings.simplefilter('ignore')\n",
    "\n",
    "print(\"Evaluación modelo kNN en el Validation\")\n",
    "\n",
    "# Creamos el modelo con los parámetros que no cambiarán, observe que no le pasamos el valor de C de regulrización\n",
    "kNN=neighbors.KNeighborsClassifier()\n",
    "\n",
    "# Armamos el diccionario con el  nombre y valores para los Hiperparámetros\n",
    "parametros_kNN = {'n_neighbors':np.arange(2,5,1),'weights':['uniform','distance']}\n",
    "\n",
    "# Armamos el GridSearchCV\n",
    "grid_kNN = GridSearchCV(estimator = kNN,param_grid = parametros_kNN,scoring = 'accuracy', cv = 3, verbose = 1,\n",
    "                        n_jobs = -1)\n",
    "\n",
    "# Lo entrenamos en el Train Set (él lo dividirá internamente y en cada fold estarán en ValTrain y ValTest)\n",
    "grid_kNN.fit(X_val_train, y_val_train);"
   ]
  },
  {
   "cell_type": "code",
   "execution_count": 26,
   "metadata": {},
   "outputs": [
    {
     "data": {
      "text/plain": [
       "0.9551041666666666"
      ]
     },
     "execution_count": 26,
     "metadata": {},
     "output_type": "execute_result"
    }
   ],
   "source": [
    "# Obtenemos el mejor AC \n",
    "AC_kNN_best=grid_kNN.best_score_\n",
    "AC_kNN_best"
   ]
  },
  {
   "cell_type": "code",
   "execution_count": 27,
   "metadata": {},
   "outputs": [
    {
     "data": {
      "text/plain": [
       "{'n_neighbors': 4, 'weights': 'distance'}"
      ]
     },
     "execution_count": 27,
     "metadata": {},
     "output_type": "execute_result"
    }
   ],
   "source": [
    "parametros_kNN_best=grid_kNN.best_params_\n",
    "parametros_kNN_best"
   ]
  },
  {
   "cell_type": "code",
   "execution_count": 28,
   "metadata": {},
   "outputs": [
    {
     "data": {
      "text/plain": [
       "KNeighborsClassifier(algorithm='auto', leaf_size=30, metric='minkowski',\n",
       "                     metric_params=None, n_jobs=None, n_neighbors=4, p=2,\n",
       "                     weights='distance')"
      ]
     },
     "execution_count": 28,
     "metadata": {},
     "output_type": "execute_result"
    }
   ],
   "source": [
    "modelo_RL_best=grid_kNN.best_estimator_\n",
    "modelo_RL_best"
   ]
  },
  {
   "cell_type": "code",
   "execution_count": 29,
   "metadata": {},
   "outputs": [
    {
     "data": {
      "text/plain": [
       "0.0012250992023324588"
      ]
     },
     "execution_count": 29,
     "metadata": {},
     "output_type": "execute_result"
    }
   ],
   "source": [
    "# Podemos calcular el desvío standard para el mejor caso:\n",
    "desvios_kNN = grid_kNN.cv_results_['std_test_score'] \n",
    "desvio_mejor_kNN=desvios_kNN[grid_kNN.best_index_]\n",
    "desvio_mejor_kNN"
   ]
  },
  {
   "cell_type": "code",
   "execution_count": 30,
   "metadata": {},
   "outputs": [
    {
     "name": "stdout",
     "output_type": "stream",
     "text": [
      "Modelo de kNN\n",
      "Mejor Accuracy:  0.955  +/-  0.002 ( 95% )\n",
      "Lectura del intervalo: Con un 95% de confianza, podemos decir que el modelo clasificará correctamente en producción entre el:  85.0 % y el  87.0 % de las observaciones\n"
     ]
    }
   ],
   "source": [
    "print(\"Modelo de kNN\")\n",
    "\n",
    "print(\"Mejor Accuracy: \",round(AC_kNN_best,3),' +/- ', round(2*desvio_mejor_kNN,3), '( 95% )')\n",
    "\n",
    "print(\"Lectura del intervalo: Con un 95% de confianza, podemos decir que el modelo clasificará correctamente en producción entre el: \",round(AC_kNN_best - desvio_mejor_kNN,2)*100,'% y el ',round(AC_kNN_best + 2*desvio_mejor_kNN,2)*100 , '% de las observaciones')"
   ]
  },
  {
   "cell_type": "markdown",
   "metadata": {},
   "source": [
    "### Modelización Arbol  <a class=\"anchor\" id=\"GS-DT\"></a>"
   ]
  },
  {
   "cell_type": "code",
   "execution_count": 31,
   "metadata": {},
   "outputs": [],
   "source": [
    "from sklearn.tree import DecisionTreeClassifier "
   ]
  },
  {
   "cell_type": "code",
   "execution_count": 32,
   "metadata": {},
   "outputs": [
    {
     "name": "stdout",
     "output_type": "stream",
     "text": [
      "Fitting 3 folds for each of 5 candidates, totalling 15 fits\n"
     ]
    },
    {
     "name": "stderr",
     "output_type": "stream",
     "text": [
      "[Parallel(n_jobs=-1)]: Using backend LokyBackend with 4 concurrent workers.\n",
      "[Parallel(n_jobs=-1)]: Done  15 out of  15 | elapsed:   26.9s finished\n"
     ]
    }
   ],
   "source": [
    "parametros_arbol = {'max_depth':np.arange(1,20,4)}\n",
    "arbol=DecisionTreeClassifier(random_state=123)  # para que sea repetible\n",
    "grid_arbol = GridSearchCV(estimator = arbol,param_grid = parametros_arbol,scoring = 'accuracy', cv = 3, verbose = 1,n_jobs = -1)\n",
    "grid_arbol.fit(X_val_train, y_val_train);   # el \";\" al final es para que no muestre toodos los parámetros que va a usar."
   ]
  },
  {
   "cell_type": "code",
   "execution_count": 33,
   "metadata": {},
   "outputs": [
    {
     "data": {
      "text/plain": [
       "0.844875"
      ]
     },
     "execution_count": 33,
     "metadata": {},
     "output_type": "execute_result"
    }
   ],
   "source": [
    "AC_arbol_best=grid_arbol.best_score_\n",
    "AC_arbol_best"
   ]
  },
  {
   "cell_type": "code",
   "execution_count": 34,
   "metadata": {},
   "outputs": [
    {
     "data": {
      "text/plain": [
       "{'max_depth': 13}"
      ]
     },
     "execution_count": 34,
     "metadata": {},
     "output_type": "execute_result"
    }
   ],
   "source": [
    "parametros_arbol_best=grid_arbol.best_params_\n",
    "parametros_arbol_best"
   ]
  },
  {
   "cell_type": "code",
   "execution_count": 35,
   "metadata": {},
   "outputs": [
    {
     "data": {
      "text/plain": [
       "DecisionTreeClassifier(ccp_alpha=0.0, class_weight=None, criterion='gini',\n",
       "                       max_depth=13, max_features=None, max_leaf_nodes=None,\n",
       "                       min_impurity_decrease=0.0, min_impurity_split=None,\n",
       "                       min_samples_leaf=1, min_samples_split=2,\n",
       "                       min_weight_fraction_leaf=0.0, presort='deprecated',\n",
       "                       random_state=123, splitter='best')"
      ]
     },
     "execution_count": 35,
     "metadata": {},
     "output_type": "execute_result"
    }
   ],
   "source": [
    "modelo_arbol_best=grid_arbol.best_estimator_\n",
    "modelo_arbol_best"
   ]
  },
  {
   "cell_type": "code",
   "execution_count": 36,
   "metadata": {},
   "outputs": [
    {
     "data": {
      "text/plain": [
       "array([0.00281659, 0.0087971 , 0.00483235, 0.00413099, 0.00381335])"
      ]
     },
     "execution_count": 36,
     "metadata": {},
     "output_type": "execute_result"
    }
   ],
   "source": [
    "desvios_arbol=grid_arbol.cv_results_['std_test_score']\n",
    "desvios_arbol"
   ]
  },
  {
   "cell_type": "code",
   "execution_count": 37,
   "metadata": {},
   "outputs": [],
   "source": [
    "desvio_arbol_mejor=desvios_arbol[grid_arbol.best_index_] #Obtengo el desvío del mejor arbol"
   ]
  },
  {
   "cell_type": "code",
   "execution_count": 38,
   "metadata": {},
   "outputs": [
    {
     "name": "stdout",
     "output_type": "stream",
     "text": [
      "Modelo de Árbol\n",
      "Mejor Accuracy:  0.845  +/-  0.008 ( 95% )\n",
      "Lectura del intervalo: Con un 95% de confianza, podemos decir que el modelo clasificará correctamente en producción entre el:  84.0 % y el  85.0 % de las observaciones\n"
     ]
    }
   ],
   "source": [
    "print(\"Modelo de Árbol\")\n",
    "\n",
    "print(\"Mejor Accuracy: \",round(AC_arbol_best,3),' +/- ', round(2*desvio_arbol_mejor,3), '( 95% )')\n",
    "\n",
    "print(\"Lectura del intervalo: Con un 95% de confianza, podemos decir que el modelo clasificará correctamente en producción entre el: \",round(AC_arbol_best - desvio_arbol_mejor,2)*100,'% y el ',round(AC_arbol_best + 2*desvio_arbol_mejor,2)*100 , '% de las observaciones')"
   ]
  },
  {
   "cell_type": "markdown",
   "metadata": {},
   "source": [
    "### Modelización SVM  <a class=\"anchor\" id=\"GS-SVM\"></a>"
   ]
  },
  {
   "cell_type": "code",
   "execution_count": 39,
   "metadata": {},
   "outputs": [],
   "source": [
    "from sklearn.svm import LinearSVC"
   ]
  },
  {
   "cell_type": "code",
   "execution_count": 40,
   "metadata": {},
   "outputs": [
    {
     "name": "stdout",
     "output_type": "stream",
     "text": [
      "Fitting 3 folds for each of 3 candidates, totalling 9 fits\n"
     ]
    },
    {
     "name": "stderr",
     "output_type": "stream",
     "text": [
      "[Parallel(n_jobs=-1)]: Using backend LokyBackend with 4 concurrent workers.\n",
      "[Parallel(n_jobs=-1)]: Done   9 out of   9 | elapsed:  3.5min finished\n"
     ]
    },
    {
     "data": {
      "text/plain": [
       "GridSearchCV(cv=3, error_score=nan,\n",
       "             estimator=LinearSVC(C=1.0, class_weight=None, dual=True,\n",
       "                                 fit_intercept=True, intercept_scaling=1,\n",
       "                                 loss='hinge', max_iter=1000, multi_class='ovr',\n",
       "                                 penalty='l2', random_state=None, tol=0.0001,\n",
       "                                 verbose=0),\n",
       "             iid='deprecated', n_jobs=-1, param_grid={'C': [0.1, 10, 1000]},\n",
       "             pre_dispatch='2*n_jobs', refit=True, return_train_score=False,\n",
       "             scoring='accuracy', verbose=1)"
      ]
     },
     "execution_count": 40,
     "metadata": {},
     "output_type": "execute_result"
    }
   ],
   "source": [
    "parametros_SVM = {'C': [0.1, 10, 1000]} \n",
    "\n",
    "SVM = LinearSVC(loss=\"hinge\", multi_class='ovr')\n",
    "\n",
    "grid_SVM = GridSearchCV(estimator= SVM, param_grid = parametros_SVM, scoring = 'accuracy', cv = 3, verbose = 1, n_jobs = -1) \n",
    "  \n",
    "# fitting the model for grid search \n",
    "grid_SVM.fit(X_val_train, y_val_train)"
   ]
  },
  {
   "cell_type": "code",
   "execution_count": 41,
   "metadata": {},
   "outputs": [
    {
     "data": {
      "text/plain": [
       "0.8720833333333333"
      ]
     },
     "execution_count": 41,
     "metadata": {},
     "output_type": "execute_result"
    }
   ],
   "source": [
    "AC_SVM_best=grid_SVM.best_score_\n",
    "AC_SVM_best"
   ]
  },
  {
   "cell_type": "code",
   "execution_count": 42,
   "metadata": {},
   "outputs": [
    {
     "data": {
      "text/plain": [
       "{'C': 1000}"
      ]
     },
     "execution_count": 42,
     "metadata": {},
     "output_type": "execute_result"
    }
   ],
   "source": [
    "parametros_SVM_best=grid_SVM.best_params_\n",
    "parametros_SVM_best"
   ]
  },
  {
   "cell_type": "code",
   "execution_count": 43,
   "metadata": {},
   "outputs": [
    {
     "data": {
      "text/plain": [
       "LinearSVC(C=1000, class_weight=None, dual=True, fit_intercept=True,\n",
       "          intercept_scaling=1, loss='hinge', max_iter=1000, multi_class='ovr',\n",
       "          penalty='l2', random_state=None, tol=0.0001, verbose=0)"
      ]
     },
     "execution_count": 43,
     "metadata": {},
     "output_type": "execute_result"
    }
   ],
   "source": [
    "modelo_SVM_best=grid_SVM.best_estimator_\n",
    "modelo_SVM_best"
   ]
  },
  {
   "cell_type": "code",
   "execution_count": 44,
   "metadata": {},
   "outputs": [
    {
     "data": {
      "text/plain": [
       "array([0.0016591 , 0.00190189, 0.00317966])"
      ]
     },
     "execution_count": 44,
     "metadata": {},
     "output_type": "execute_result"
    }
   ],
   "source": [
    "desvios_SVM=grid_SVM.cv_results_['std_test_score']\n",
    "desvios_SVM"
   ]
  },
  {
   "cell_type": "code",
   "execution_count": 45,
   "metadata": {},
   "outputs": [],
   "source": [
    "desvio_SVM_mejor=desvios_SVM[grid_SVM.best_index_] #Obtengo el desvío del mejor arbol"
   ]
  },
  {
   "cell_type": "code",
   "execution_count": 46,
   "metadata": {},
   "outputs": [
    {
     "name": "stdout",
     "output_type": "stream",
     "text": [
      "Modelo SVM\n",
      "Mejor Accuracy:  0.872  +/-  0.006 ( 95% )\n",
      "Lectura del intervalo: Con un 95% de confianza, podemos decir que el modelo clasificará correctamente en producción entre el:  87.0 % y el  88.0 % de las observaciones\n"
     ]
    }
   ],
   "source": [
    "print(\"Modelo SVM\")\n",
    "\n",
    "print(\"Mejor Accuracy: \",round(AC_SVM_best,3),' +/- ', round(2*desvio_SVM_mejor,3), '( 95% )')\n",
    "\n",
    "print(\"Lectura del intervalo: Con un 95% de confianza, podemos decir que el modelo clasificará correctamente en producción entre el: \",round(AC_SVM_best - desvio_SVM_mejor,2)*100,'% y el ',round(AC_SVM_best + 2*desvio_SVM_mejor,2)*100 , '% de las observaciones')"
   ]
  },
  {
   "cell_type": "markdown",
   "metadata": {},
   "source": [
    "### Modelización Elastic Net  <a class=\"anchor\" id=\"GS-EN\"></a>"
   ]
  },
  {
   "cell_type": "code",
   "execution_count": 47,
   "metadata": {},
   "outputs": [],
   "source": [
    "from sklearn.linear_model import SGDClassifier"
   ]
  },
  {
   "cell_type": "code",
   "execution_count": 48,
   "metadata": {},
   "outputs": [
    {
     "name": "stdout",
     "output_type": "stream",
     "text": [
      "Fitting 3 folds for each of 15 candidates, totalling 45 fits\n"
     ]
    },
    {
     "name": "stderr",
     "output_type": "stream",
     "text": [
      "[Parallel(n_jobs=-1)]: Using backend LokyBackend with 4 concurrent workers.\n",
      "[Parallel(n_jobs=-1)]: Done  45 out of  45 | elapsed:  2.0min finished\n"
     ]
    },
    {
     "data": {
      "text/plain": [
       "GridSearchCV(cv=3, error_score=nan,\n",
       "             estimator=SGDClassifier(alpha=0.0001, average=False,\n",
       "                                     class_weight=None, early_stopping=False,\n",
       "                                     epsilon=0.1, eta0=0.0, fit_intercept=True,\n",
       "                                     l1_ratio=0.15, learning_rate='optimal',\n",
       "                                     loss='log', max_iter=1000,\n",
       "                                     n_iter_no_change=5, n_jobs=None,\n",
       "                                     penalty='elasticnet', power_t=0.5,\n",
       "                                     random_state=None, shuffle=True, tol=0.001,\n",
       "                                     validation_fraction=0.1, verbose=0,\n",
       "                                     warm_start=False),\n",
       "             iid='deprecated', n_jobs=-1,\n",
       "             param_grid={'alpha': [0.1, 1, 10],\n",
       "                         'l1_ratio': array([0. , 0.2, 0.4, 0.6, 0.8])},\n",
       "             pre_dispatch='2*n_jobs', refit=True, return_train_score=False,\n",
       "             scoring='accuracy', verbose=1)"
      ]
     },
     "execution_count": 48,
     "metadata": {},
     "output_type": "execute_result"
    }
   ],
   "source": [
    "parametros_EN = {\"alpha\": [0.1, 1, 10],\"l1_ratio\": np.arange(0.0, 1.0, 0.2)}\n",
    "\n",
    "EN = SGDClassifier(loss='log', penalty='elasticnet')\n",
    "\n",
    "grid_EN = GridSearchCV(estimator= EN, param_grid = parametros_EN, scoring = 'accuracy', cv = 3, verbose = 1, n_jobs = -1) \n",
    "  \n",
    "# fitting the model for grid search \n",
    "grid_EN.fit(X_val_train, y_val_train)"
   ]
  },
  {
   "cell_type": "code",
   "execution_count": 49,
   "metadata": {},
   "outputs": [
    {
     "data": {
      "text/plain": [
       "0.11214583333333333"
      ]
     },
     "execution_count": 49,
     "metadata": {},
     "output_type": "execute_result"
    }
   ],
   "source": [
    "AC_EN_best=grid_EN.best_score_\n",
    "AC_EN_best"
   ]
  },
  {
   "cell_type": "code",
   "execution_count": 50,
   "metadata": {},
   "outputs": [
    {
     "data": {
      "text/plain": [
       "{'alpha': 0.1, 'l1_ratio': 0.0}"
      ]
     },
     "execution_count": 50,
     "metadata": {},
     "output_type": "execute_result"
    }
   ],
   "source": [
    "parametros_EN_best=grid_EN.best_params_\n",
    "parametros_EN_best"
   ]
  },
  {
   "cell_type": "code",
   "execution_count": 51,
   "metadata": {},
   "outputs": [
    {
     "data": {
      "text/plain": [
       "SGDClassifier(alpha=0.1, average=False, class_weight=None, early_stopping=False,\n",
       "              epsilon=0.1, eta0=0.0, fit_intercept=True, l1_ratio=0.0,\n",
       "              learning_rate='optimal', loss='log', max_iter=1000,\n",
       "              n_iter_no_change=5, n_jobs=None, penalty='elasticnet',\n",
       "              power_t=0.5, random_state=None, shuffle=True, tol=0.001,\n",
       "              validation_fraction=0.1, verbose=0, warm_start=False)"
      ]
     },
     "execution_count": 51,
     "metadata": {},
     "output_type": "execute_result"
    }
   ],
   "source": [
    "modelo_EN_best=grid_EN.best_estimator_\n",
    "modelo_EN_best"
   ]
  },
  {
   "cell_type": "code",
   "execution_count": 52,
   "metadata": {},
   "outputs": [],
   "source": [
    "desvios_EN=grid_EN.cv_results_['std_test_score']"
   ]
  },
  {
   "cell_type": "code",
   "execution_count": 53,
   "metadata": {},
   "outputs": [],
   "source": [
    "desvio_EN_mejor=desvios_EN[grid_EN.best_index_] #Obtengo el desvío del mejor"
   ]
  },
  {
   "cell_type": "code",
   "execution_count": 54,
   "metadata": {},
   "outputs": [
    {
     "name": "stdout",
     "output_type": "stream",
     "text": [
      "Modelo Regresion Logistica con Elastic Net\n",
      "Mejor Accuracy:  0.112  +/-  0.0 ( 95% )\n",
      "Lectura del intervalo: Con un 95% de confianza, podemos decir que el modelo clasificará correctamente en producción entre el:  11.0 % y el  11.0 % de las observaciones\n"
     ]
    }
   ],
   "source": [
    "print(\"Modelo Regresion Logistica con Elastic Net\")\n",
    "\n",
    "print(\"Mejor Accuracy: \",round(AC_EN_best,3),' +/- ', round(2*desvio_EN_mejor,3), '( 95% )')\n",
    "\n",
    "print(\"Lectura del intervalo: Con un 95% de confianza, podemos decir que el modelo clasificará correctamente en producción entre el: \",round(AC_EN_best - desvio_EN_mejor,2)*100,'% y el ',round(AC_EN_best + 2*desvio_EN_mejor,2)*100 , '% de las observaciones')"
   ]
  },
  {
   "cell_type": "markdown",
   "metadata": {},
   "source": [
    "### Random Forest  <a class=\"anchor\" id=\"GS-RF\"></a>"
   ]
  },
  {
   "cell_type": "code",
   "execution_count": 55,
   "metadata": {},
   "outputs": [
    {
     "name": "stdout",
     "output_type": "stream",
     "text": [
      "Fitting 3 folds for each of 20 candidates, totalling 60 fits\n"
     ]
    },
    {
     "name": "stderr",
     "output_type": "stream",
     "text": [
      "[Parallel(n_jobs=-1)]: Using backend LokyBackend with 4 concurrent workers.\n",
      "[Parallel(n_jobs=-1)]: Done  42 tasks      | elapsed: 30.6min\n",
      "[Parallel(n_jobs=-1)]: Done  60 out of  60 | elapsed: 64.1min finished\n"
     ]
    },
    {
     "data": {
      "text/plain": [
       "GridSearchCV(cv=3, error_score=nan,\n",
       "             estimator=RandomForestClassifier(bootstrap=True, ccp_alpha=0.0,\n",
       "                                              class_weight=None,\n",
       "                                              criterion='gini', max_depth=None,\n",
       "                                              max_features='auto',\n",
       "                                              max_leaf_nodes=None,\n",
       "                                              max_samples=None,\n",
       "                                              min_impurity_decrease=0.0,\n",
       "                                              min_impurity_split=None,\n",
       "                                              min_samples_leaf=1,\n",
       "                                              min_samples_split=2,\n",
       "                                              min_weight_fraction_leaf=0.0,\n",
       "                                              n_estimators=100, n_jobs=None,\n",
       "                                              oob_score=False,\n",
       "                                              random_state=None, verbose=0,\n",
       "                                              warm_start=False),\n",
       "             iid='deprecated', n_jobs=-1,\n",
       "             param_grid={'criterion': ['gini', 'entropy'],\n",
       "                         'n_estimators': array([  0, 100, 200, 300, 400, 500, 600, 700, 800, 900])},\n",
       "             pre_dispatch='2*n_jobs', refit=True, return_train_score=False,\n",
       "             scoring='accuracy', verbose=1)"
      ]
     },
     "execution_count": 55,
     "metadata": {},
     "output_type": "execute_result"
    }
   ],
   "source": [
    "from sklearn.ensemble import RandomForestClassifier\n",
    "\n",
    "parametros_RF = {\"criterion\": ['gini', 'entropy'],\"n_estimators\": np.arange(0, 1000, 100)}\n",
    "\n",
    "RF = RandomForestClassifier()\n",
    "\n",
    "grid_RF = GridSearchCV(estimator= RF, param_grid = parametros_RF, scoring = 'accuracy', cv = 3, verbose = 1, n_jobs = -1) \n",
    "  \n",
    "# fitting the model for grid search \n",
    "grid_RF.fit(X_val_train, y_val_train)"
   ]
  },
  {
   "cell_type": "code",
   "execution_count": 56,
   "metadata": {},
   "outputs": [
    {
     "data": {
      "text/plain": [
       "0.9546875"
      ]
     },
     "execution_count": 56,
     "metadata": {},
     "output_type": "execute_result"
    }
   ],
   "source": [
    "AC_RF_best=grid_RF.best_score_\n",
    "AC_RF_best"
   ]
  },
  {
   "cell_type": "code",
   "execution_count": 57,
   "metadata": {},
   "outputs": [
    {
     "data": {
      "text/plain": [
       "{'criterion': 'gini', 'n_estimators': 700}"
      ]
     },
     "execution_count": 57,
     "metadata": {},
     "output_type": "execute_result"
    }
   ],
   "source": [
    "parametros_RF_best=grid_RF.best_params_\n",
    "parametros_RF_best"
   ]
  },
  {
   "cell_type": "code",
   "execution_count": 58,
   "metadata": {},
   "outputs": [
    {
     "data": {
      "text/plain": [
       "RandomForestClassifier(bootstrap=True, ccp_alpha=0.0, class_weight=None,\n",
       "                       criterion='gini', max_depth=None, max_features='auto',\n",
       "                       max_leaf_nodes=None, max_samples=None,\n",
       "                       min_impurity_decrease=0.0, min_impurity_split=None,\n",
       "                       min_samples_leaf=1, min_samples_split=2,\n",
       "                       min_weight_fraction_leaf=0.0, n_estimators=700,\n",
       "                       n_jobs=None, oob_score=False, random_state=None,\n",
       "                       verbose=0, warm_start=False)"
      ]
     },
     "execution_count": 58,
     "metadata": {},
     "output_type": "execute_result"
    }
   ],
   "source": [
    "modelo_RF_best=grid_RF.best_estimator_\n",
    "modelo_RF_best"
   ]
  },
  {
   "cell_type": "code",
   "execution_count": 59,
   "metadata": {},
   "outputs": [],
   "source": [
    "desvios_RF=grid_RF.cv_results_['std_test_score']"
   ]
  },
  {
   "cell_type": "code",
   "execution_count": 60,
   "metadata": {},
   "outputs": [],
   "source": [
    "desvio_RF_mejor=desvios_RF[grid_RF.best_index_] #Obtengo el desvío del mejor"
   ]
  },
  {
   "cell_type": "code",
   "execution_count": 61,
   "metadata": {},
   "outputs": [
    {
     "name": "stdout",
     "output_type": "stream",
     "text": [
      "Modelo Random Forest\n",
      "Mejor Accuracy:  0.955  +/-  0.004 ( 95% )\n",
      "Lectura del intervalo: Con un 95% de confianza, podemos decir que el modelo clasificará correctamente en producción entre el:  95.0 % y el  96.0 % de las observaciones\n"
     ]
    }
   ],
   "source": [
    "print(\"Modelo Random Forest\")\n",
    "\n",
    "print(\"Mejor Accuracy: \",round(AC_RF_best,3),' +/- ', round(2*desvio_RF_mejor,3), '( 95% )')\n",
    "\n",
    "print(\"Lectura del intervalo: Con un 95% de confianza, podemos decir que el modelo clasificará correctamente en producción entre el: \",round(AC_RF_best - desvio_RF_mejor,2)*100,'% y el ',round(AC_RF_best + 2*desvio_RF_mejor,2)*100 , '% de las observaciones')"
   ]
  },
  {
   "cell_type": "markdown",
   "metadata": {},
   "source": [
    "### Conclusiones de seleccion de hiperparametros  <a class=\"anchor\" id=\"Conclu-tuning\"></a>"
   ]
  },
  {
   "cell_type": "code",
   "execution_count": 62,
   "metadata": {},
   "outputs": [
    {
     "data": {
      "text/html": [
       "<div>\n",
       "<style scoped>\n",
       "    .dataframe tbody tr th:only-of-type {\n",
       "        vertical-align: middle;\n",
       "    }\n",
       "\n",
       "    .dataframe tbody tr th {\n",
       "        vertical-align: top;\n",
       "    }\n",
       "\n",
       "    .dataframe thead th {\n",
       "        text-align: right;\n",
       "    }\n",
       "</style>\n",
       "<table border=\"1\" class=\"dataframe\">\n",
       "  <thead>\n",
       "    <tr style=\"text-align: right;\">\n",
       "      <th></th>\n",
       "      <th>Accuracy</th>\n",
       "      <th>Hiperparametros</th>\n",
       "    </tr>\n",
       "    <tr>\n",
       "      <th>Modelo</th>\n",
       "      <th></th>\n",
       "      <th></th>\n",
       "    </tr>\n",
       "  </thead>\n",
       "  <tbody>\n",
       "    <tr>\n",
       "      <th>kNN</th>\n",
       "      <td>0.955104</td>\n",
       "      <td>{'n_neighbors': 4, 'weights': 'distance'}</td>\n",
       "    </tr>\n",
       "    <tr>\n",
       "      <th>Random Forest</th>\n",
       "      <td>0.954688</td>\n",
       "      <td>{'criterion': 'gini', 'n_estimators': 700}</td>\n",
       "    </tr>\n",
       "    <tr>\n",
       "      <th>SVM</th>\n",
       "      <td>0.872083</td>\n",
       "      <td>{'C': 1000}</td>\n",
       "    </tr>\n",
       "    <tr>\n",
       "      <th>Reg_Log_Ridge</th>\n",
       "      <td>0.858021</td>\n",
       "      <td>{'C': 100}</td>\n",
       "    </tr>\n",
       "    <tr>\n",
       "      <th>Arbol</th>\n",
       "      <td>0.844875</td>\n",
       "      <td>{'max_depth': 13}</td>\n",
       "    </tr>\n",
       "    <tr>\n",
       "      <th>ElasticNet</th>\n",
       "      <td>0.112146</td>\n",
       "      <td>{'alpha': 0.1, 'l1_ratio': 0.0}</td>\n",
       "    </tr>\n",
       "  </tbody>\n",
       "</table>\n",
       "</div>"
      ],
      "text/plain": [
       "               Accuracy                             Hiperparametros\n",
       "Modelo                                                             \n",
       "kNN            0.955104   {'n_neighbors': 4, 'weights': 'distance'}\n",
       "Random Forest  0.954688  {'criterion': 'gini', 'n_estimators': 700}\n",
       "SVM            0.872083                                 {'C': 1000}\n",
       "Reg_Log_Ridge  0.858021                                  {'C': 100}\n",
       "Arbol          0.844875                           {'max_depth': 13}\n",
       "ElasticNet     0.112146             {'alpha': 0.1, 'l1_ratio': 0.0}"
      ]
     },
     "execution_count": 62,
     "metadata": {},
     "output_type": "execute_result"
    }
   ],
   "source": [
    "#Creo DataFrame con los valores obtenidos de cada modelo\n",
    "dfRtdos= pd.DataFrame({'Modelo': ['Reg_Log_Ridge', 'kNN', 'Arbol','SVM', 'ElasticNet','Random Forest'],\n",
    "                       'Accuracy': [AC_RL_best, AC_kNN_best,AC_arbol_best, AC_SVM_best,AC_EN_best,AC_RF_best],\n",
    "                       'Hiperparametros': [parametros_RL_best , parametros_kNN_best, parametros_arbol_best, parametros_SVM_best, parametros_EN_best, parametros_RF_best]})\n",
    "#Pongo los modelos como indice\n",
    "dfRtdos = dfRtdos.set_index('Modelo').sort_values(['Accuracy'], ascending=False)\n",
    "dfRtdos"
   ]
  },
  {
   "cell_type": "markdown",
   "metadata": {},
   "source": [
    "### Entrenar el modelo con todos los datos de train (X_val_train, y_val_Train) y evaluar modelos con datos nunca vistos: el set de testeo (X_val_test, y_val_test)  <a class=\"anchor\" id=\"SeleccionModelo-ML\"></a>  <a class=\"anchor\" id=\"Entrenamiento-ML\"></a>"
   ]
  },
  {
   "cell_type": "markdown",
   "metadata": {},
   "source": [
    "#### Regresion Logistica con Ridge  <a class=\"anchor\" id=\"TR-RL\"></a>"
   ]
  },
  {
   "cell_type": "code",
   "execution_count": 63,
   "metadata": {},
   "outputs": [
    {
     "data": {
      "text/plain": [
       "0.86925"
      ]
     },
     "execution_count": 63,
     "metadata": {},
     "output_type": "execute_result"
    }
   ],
   "source": [
    "modelo_elegido=LogisticRegression(penalty='l2', max_iter=10000, tol=0.0001, C=100) # observe el valor de C\n",
    "modelo_elegido.fit(X_val_train, y_val_train)  # Entrenamos con .fit\n",
    "AC_rl=modelo_elegido.score(X_val_test, y_val_test)  # calculamos Accuracy\n",
    "AC_rl"
   ]
  },
  {
   "cell_type": "markdown",
   "metadata": {},
   "source": [
    "#### Decision Tree  <a class=\"anchor\" id=\"TR-DT\"></a>"
   ]
  },
  {
   "cell_type": "code",
   "execution_count": 64,
   "metadata": {},
   "outputs": [
    {
     "data": {
      "text/plain": [
       "0.8608333333333333"
      ]
     },
     "execution_count": 64,
     "metadata": {},
     "output_type": "execute_result"
    }
   ],
   "source": [
    "modelo_elegido=DecisionTreeClassifier(max_depth=13, random_state=123)\n",
    "modelo_elegido.fit(X_val_train, y_val_train)  # Entrenamos con .fit\n",
    "AC_dt=modelo_elegido.score(X_val_test, y_val_test)  # calculamos Accuracy\n",
    "AC_dt"
   ]
  },
  {
   "cell_type": "markdown",
   "metadata": {},
   "source": [
    "#### SVM  <a class=\"anchor\" id=\"TR-SVM\"></a>"
   ]
  },
  {
   "cell_type": "code",
   "execution_count": 65,
   "metadata": {},
   "outputs": [
    {
     "data": {
      "text/plain": [
       "0.88575"
      ]
     },
     "execution_count": 65,
     "metadata": {},
     "output_type": "execute_result"
    }
   ],
   "source": [
    "modelo_elegido=LinearSVC(loss=\"hinge\", multi_class='ovr',C=1000)\n",
    "modelo_elegido.fit(X_val_train, y_val_train)  # Entrenamos con .fit\n",
    "AC_svm=modelo_elegido.score(X_val_test, y_val_test)  # calculamos Accuracy\n",
    "AC_svm"
   ]
  },
  {
   "cell_type": "markdown",
   "metadata": {},
   "source": [
    "#### Random Forest  <a class=\"anchor\" id=\"TR-RF\"></a>"
   ]
  },
  {
   "cell_type": "code",
   "execution_count": 66,
   "metadata": {},
   "outputs": [
    {
     "data": {
      "text/plain": [
       "0.9583333333333334"
      ]
     },
     "execution_count": 66,
     "metadata": {},
     "output_type": "execute_result"
    }
   ],
   "source": [
    "modelo_elegido=RandomForestClassifier(criterion='gini',n_estimators=700)\n",
    "modelo_elegido.fit(X_val_train, y_val_train)  # Entrenamos con .fit\n",
    "AC_rf=modelo_elegido.score(X_val_test, y_val_test)  # calculamos Accuracy\n",
    "AC_rf"
   ]
  },
  {
   "cell_type": "markdown",
   "metadata": {},
   "source": [
    "#### Elastic Net  <a class=\"anchor\" id=\"TR-EN\"></a>"
   ]
  },
  {
   "cell_type": "code",
   "execution_count": 67,
   "metadata": {},
   "outputs": [
    {
     "data": {
      "text/plain": [
       "0.109"
      ]
     },
     "execution_count": 67,
     "metadata": {},
     "output_type": "execute_result"
    }
   ],
   "source": [
    "modelo_elegido=SGDClassifier(loss='log', penalty='elasticnet', alpha=0.1, l1_ratio=0)\n",
    "modelo_elegido.fit(X_val_train, y_val_train)  # Entrenamos con .fit\n",
    "AC_EN=modelo_elegido.score(X_val_test, y_val_test)  # calculamos Accuracy\n",
    "AC_EN"
   ]
  },
  {
   "cell_type": "markdown",
   "metadata": {},
   "source": [
    "#### kNN  <a class=\"anchor\" id=\"TR-kNN\"></a>"
   ]
  },
  {
   "cell_type": "code",
   "execution_count": 68,
   "metadata": {},
   "outputs": [
    {
     "data": {
      "text/plain": [
       "0.96"
      ]
     },
     "execution_count": 68,
     "metadata": {},
     "output_type": "execute_result"
    }
   ],
   "source": [
    "modelo_elegido=neighbors.KNeighborsClassifier(n_neighbors= 4, weights= 'distance')\n",
    "modelo_elegido.fit(X_val_train, y_val_train)  # Entrenamos con .fit\n",
    "AC_kNN=modelo_elegido.score(X_val_test, y_val_test)  # calculamos Accuracy\n",
    "AC_kNN"
   ]
  },
  {
   "cell_type": "markdown",
   "metadata": {},
   "source": [
    "### Conclusiones finales ML Clasico  <a class=\"anchor\" id=\"Conclu-MLClasico\"></a>"
   ]
  },
  {
   "cell_type": "code",
   "execution_count": 69,
   "metadata": {},
   "outputs": [
    {
     "data": {
      "text/html": [
       "<div>\n",
       "<style scoped>\n",
       "    .dataframe tbody tr th:only-of-type {\n",
       "        vertical-align: middle;\n",
       "    }\n",
       "\n",
       "    .dataframe tbody tr th {\n",
       "        vertical-align: top;\n",
       "    }\n",
       "\n",
       "    .dataframe thead th {\n",
       "        text-align: right;\n",
       "    }\n",
       "</style>\n",
       "<table border=\"1\" class=\"dataframe\">\n",
       "  <thead>\n",
       "    <tr style=\"text-align: right;\">\n",
       "      <th></th>\n",
       "      <th>Accuracy</th>\n",
       "      <th>Hiperparametros</th>\n",
       "      <th>Accuracy vs Test</th>\n",
       "    </tr>\n",
       "    <tr>\n",
       "      <th>Modelo</th>\n",
       "      <th></th>\n",
       "      <th></th>\n",
       "      <th></th>\n",
       "    </tr>\n",
       "  </thead>\n",
       "  <tbody>\n",
       "    <tr>\n",
       "      <th>kNN</th>\n",
       "      <td>0.955104</td>\n",
       "      <td>{'n_neighbors': 4, 'weights': 'distance'}</td>\n",
       "      <td>0.960000</td>\n",
       "    </tr>\n",
       "    <tr>\n",
       "      <th>Random Forest</th>\n",
       "      <td>0.954688</td>\n",
       "      <td>{'criterion': 'gini', 'n_estimators': 700}</td>\n",
       "      <td>0.958333</td>\n",
       "    </tr>\n",
       "    <tr>\n",
       "      <th>SVM</th>\n",
       "      <td>0.872083</td>\n",
       "      <td>{'C': 1000}</td>\n",
       "      <td>0.885750</td>\n",
       "    </tr>\n",
       "    <tr>\n",
       "      <th>Reg_Log_Ridge</th>\n",
       "      <td>0.858021</td>\n",
       "      <td>{'C': 100}</td>\n",
       "      <td>0.869250</td>\n",
       "    </tr>\n",
       "    <tr>\n",
       "      <th>Arbol</th>\n",
       "      <td>0.844875</td>\n",
       "      <td>{'max_depth': 13}</td>\n",
       "      <td>0.860833</td>\n",
       "    </tr>\n",
       "    <tr>\n",
       "      <th>ElasticNet</th>\n",
       "      <td>0.112146</td>\n",
       "      <td>{'alpha': 0.1, 'l1_ratio': 0.0}</td>\n",
       "      <td>0.109000</td>\n",
       "    </tr>\n",
       "  </tbody>\n",
       "</table>\n",
       "</div>"
      ],
      "text/plain": [
       "               Accuracy                             Hiperparametros  \\\n",
       "Modelo                                                                \n",
       "kNN            0.955104   {'n_neighbors': 4, 'weights': 'distance'}   \n",
       "Random Forest  0.954688  {'criterion': 'gini', 'n_estimators': 700}   \n",
       "SVM            0.872083                                 {'C': 1000}   \n",
       "Reg_Log_Ridge  0.858021                                  {'C': 100}   \n",
       "Arbol          0.844875                           {'max_depth': 13}   \n",
       "ElasticNet     0.112146             {'alpha': 0.1, 'l1_ratio': 0.0}   \n",
       "\n",
       "               Accuracy vs Test  \n",
       "Modelo                           \n",
       "kNN                    0.960000  \n",
       "Random Forest          0.958333  \n",
       "SVM                    0.885750  \n",
       "Reg_Log_Ridge          0.869250  \n",
       "Arbol                  0.860833  \n",
       "ElasticNet             0.109000  "
      ]
     },
     "execution_count": 69,
     "metadata": {},
     "output_type": "execute_result"
    }
   ],
   "source": [
    "dfRtdos['Accuracy vs Test'] = [AC_kNN, AC_rf,AC_svm, AC_rl,AC_dt,AC_EN]\n",
    "dfRtdos"
   ]
  },
  {
   "cell_type": "markdown",
   "metadata": {},
   "source": [
    "### Modelizacion con Redes Neuronales  <a class=\"anchor\" id=\"Redes\"></a>"
   ]
  },
  {
   "cell_type": "markdown",
   "metadata": {},
   "source": [
    "#### Preprocesamiento <a class=\"anchor\" id=\"Preproc-Redes\"></a>"
   ]
  },
  {
   "cell_type": "code",
   "execution_count": 1,
   "metadata": {},
   "outputs": [],
   "source": [
    "import numpy as np\n",
    "import tensorflow as tf\n",
    "from tensorflow import keras"
   ]
  },
  {
   "cell_type": "code",
   "execution_count": 9,
   "metadata": {},
   "outputs": [],
   "source": [
    "X_val_train = X_val_train.to_numpy()\n",
    "X_val_test = X_val_test.to_numpy()\n",
    "X_train = X_train.to_numpy()\n",
    "X_test = X_test.to_numpy()"
   ]
  },
  {
   "cell_type": "markdown",
   "metadata": {},
   "source": [
    "Como daba error, cambio los arrays a int para que tensor flow los pueda utilizar"
   ]
  },
  {
   "cell_type": "code",
   "execution_count": 10,
   "metadata": {},
   "outputs": [],
   "source": [
    "y_train = y_train.astype(int)\n",
    "y_val_train = y_val_train.astype(int)\n",
    "y_val_test = y_val_test.astype(int)"
   ]
  },
  {
   "cell_type": "code",
   "execution_count": null,
   "metadata": {},
   "outputs": [],
   "source": []
  },
  {
   "cell_type": "markdown",
   "metadata": {},
   "source": [
    "### Modelizacion con DNN <a class=\"anchor\" id=\"Tuning-Redes\"></a>"
   ]
  },
  {
   "cell_type": "markdown",
   "metadata": {},
   "source": [
    "#### Modelo 1: 300 Relu 200 Relu sgd <a class=\"anchor\" id=\"Modelo1\"></a>"
   ]
  },
  {
   "cell_type": "markdown",
   "metadata": {},
   "source": [
    "Arquitectura"
   ]
  },
  {
   "cell_type": "code",
   "execution_count": 128,
   "metadata": {},
   "outputs": [],
   "source": [
    "model1 = keras.models.Sequential([keras.layers.Flatten(input_shape=[14, 14]),\n",
    "                                keras.layers.Dense(300, activation=\"relu\"),\n",
    "                                keras.layers.Dense(100, activation=\"relu\"),\n",
    "                                keras.layers.Dense(10, activation=\"softmax\")\n",
    "                                ])"
   ]
  },
  {
   "cell_type": "markdown",
   "metadata": {},
   "source": [
    "Resumen"
   ]
  },
  {
   "cell_type": "code",
   "execution_count": 129,
   "metadata": {},
   "outputs": [
    {
     "name": "stdout",
     "output_type": "stream",
     "text": [
      "Model: \"sequential_2\"\n",
      "_________________________________________________________________\n",
      "Layer (type)                 Output Shape              Param #   \n",
      "=================================================================\n",
      "flatten_2 (Flatten)          (None, 196)               0         \n",
      "_________________________________________________________________\n",
      "dense_6 (Dense)              (None, 300)               59100     \n",
      "_________________________________________________________________\n",
      "dense_7 (Dense)              (None, 100)               30100     \n",
      "_________________________________________________________________\n",
      "dense_8 (Dense)              (None, 10)                1010      \n",
      "=================================================================\n",
      "Total params: 90,210\n",
      "Trainable params: 90,210\n",
      "Non-trainable params: 0\n",
      "_________________________________________________________________\n"
     ]
    }
   ],
   "source": [
    "model1.summary()"
   ]
  },
  {
   "cell_type": "markdown",
   "metadata": {},
   "source": [
    "Compilo"
   ]
  },
  {
   "cell_type": "code",
   "execution_count": 130,
   "metadata": {},
   "outputs": [],
   "source": [
    "model1.compile(loss=\"sparse_categorical_crossentropy\",\n",
    "                optimizer=\"sgd\",\n",
    "                metrics=[\"accuracy\"])"
   ]
  },
  {
   "cell_type": "markdown",
   "metadata": {},
   "source": [
    "Entreno <a class=\"anchor\" id=\"Fit1\"></a>"
   ]
  },
  {
   "cell_type": "code",
   "execution_count": 133,
   "metadata": {},
   "outputs": [
    {
     "name": "stdout",
     "output_type": "stream",
     "text": [
      "Epoch 1/30\n",
      "WARNING:tensorflow:Model was constructed with shape (None, 14, 14) for input KerasTensor(type_spec=TensorSpec(shape=(None, 14, 14), dtype=tf.float32, name='flatten_2_input'), name='flatten_2_input', description=\"created by layer 'flatten_2_input'\"), but it was called on an input with incompatible shape (32, 196).\n",
      "1490/1500 [============================>.] - ETA: 0s - loss: 0.7405 - accuracy: 0.7971WARNING:tensorflow:Model was constructed with shape (None, 14, 14) for input KerasTensor(type_spec=TensorSpec(shape=(None, 14, 14), dtype=tf.float32, name='flatten_2_input'), name='flatten_2_input', description=\"created by layer 'flatten_2_input'\"), but it was called on an input with incompatible shape (32, 196).\n",
      "1500/1500 [==============================] - 6s 4ms/step - loss: 0.7383 - accuracy: 0.7978 - val_loss: 0.4334 - val_accuracy: 0.8693\n",
      "Epoch 2/30\n",
      "1500/1500 [==============================] - 6s 4ms/step - loss: 0.3889 - accuracy: 0.8866 - val_loss: 0.3495 - val_accuracy: 0.8970\n",
      "Epoch 3/30\n",
      "1500/1500 [==============================] - 6s 4ms/step - loss: 0.3263 - accuracy: 0.9050 - val_loss: 0.3050 - val_accuracy: 0.9112\n",
      "Epoch 4/30\n",
      "1500/1500 [==============================] - 6s 4ms/step - loss: 0.2857 - accuracy: 0.9169 - val_loss: 0.2716 - val_accuracy: 0.9214\n",
      "Epoch 5/30\n",
      "1500/1500 [==============================] - 6s 4ms/step - loss: 0.2549 - accuracy: 0.9263 - val_loss: 0.2460 - val_accuracy: 0.9286\n",
      "Epoch 6/30\n",
      "1500/1500 [==============================] - 6s 4ms/step - loss: 0.2303 - accuracy: 0.9326 - val_loss: 0.2291 - val_accuracy: 0.9322\n",
      "Epoch 7/30\n",
      "1500/1500 [==============================] - 6s 4ms/step - loss: 0.2100 - accuracy: 0.9387 - val_loss: 0.2119 - val_accuracy: 0.9362\n",
      "Epoch 8/30\n",
      "1500/1500 [==============================] - 7s 4ms/step - loss: 0.1939 - accuracy: 0.9427 - val_loss: 0.1983 - val_accuracy: 0.9410\n",
      "Epoch 9/30\n",
      "1500/1500 [==============================] - 7s 4ms/step - loss: 0.1792 - accuracy: 0.9467 - val_loss: 0.1906 - val_accuracy: 0.9425\n",
      "Epoch 10/30\n",
      "1500/1500 [==============================] - 6s 4ms/step - loss: 0.1674 - accuracy: 0.9501 - val_loss: 0.1779 - val_accuracy: 0.9480\n",
      "Epoch 11/30\n",
      "1500/1500 [==============================] - 5s 3ms/step - loss: 0.1561 - accuracy: 0.9538 - val_loss: 0.1700 - val_accuracy: 0.9503\n",
      "Epoch 12/30\n",
      "1500/1500 [==============================] - 5s 4ms/step - loss: 0.1467 - accuracy: 0.9570 - val_loss: 0.1610 - val_accuracy: 0.9527\n",
      "Epoch 13/30\n",
      "1500/1500 [==============================] - 6s 4ms/step - loss: 0.1379 - accuracy: 0.9593 - val_loss: 0.1551 - val_accuracy: 0.9548\n",
      "Epoch 14/30\n",
      "1500/1500 [==============================] - 7s 4ms/step - loss: 0.1305 - accuracy: 0.9617 - val_loss: 0.1515 - val_accuracy: 0.9546\n",
      "Epoch 15/30\n",
      "1500/1500 [==============================] - 6s 4ms/step - loss: 0.1236 - accuracy: 0.9640 - val_loss: 0.1468 - val_accuracy: 0.9557\n",
      "Epoch 16/30\n",
      "1500/1500 [==============================] - 6s 4ms/step - loss: 0.1173 - accuracy: 0.9654 - val_loss: 0.1446 - val_accuracy: 0.9559\n",
      "Epoch 17/30\n",
      "1500/1500 [==============================] - 6s 4ms/step - loss: 0.1115 - accuracy: 0.9678 - val_loss: 0.1384 - val_accuracy: 0.9591\n",
      "Epoch 18/30\n",
      "1500/1500 [==============================] - 6s 4ms/step - loss: 0.1062 - accuracy: 0.9691 - val_loss: 0.1356 - val_accuracy: 0.9597\n",
      "Epoch 19/30\n",
      "1500/1500 [==============================] - 7s 5ms/step - loss: 0.1013 - accuracy: 0.9705 - val_loss: 0.1332 - val_accuracy: 0.9605\n",
      "Epoch 20/30\n",
      "1500/1500 [==============================] - 7s 5ms/step - loss: 0.0970 - accuracy: 0.9718 - val_loss: 0.1295 - val_accuracy: 0.9610\n",
      "Epoch 21/30\n",
      "1500/1500 [==============================] - 7s 5ms/step - loss: 0.0926 - accuracy: 0.9734 - val_loss: 0.1289 - val_accuracy: 0.9599\n",
      "Epoch 22/30\n",
      "1500/1500 [==============================] - 6s 4ms/step - loss: 0.0886 - accuracy: 0.9743 - val_loss: 0.1252 - val_accuracy: 0.9613\n",
      "Epoch 23/30\n",
      "1500/1500 [==============================] - 7s 4ms/step - loss: 0.0850 - accuracy: 0.9757 - val_loss: 0.1240 - val_accuracy: 0.9625\n",
      "Epoch 24/30\n",
      "1500/1500 [==============================] - 6s 4ms/step - loss: 0.0812 - accuracy: 0.9773 - val_loss: 0.1256 - val_accuracy: 0.9631\n",
      "Epoch 25/30\n",
      "1500/1500 [==============================] - 6s 4ms/step - loss: 0.0780 - accuracy: 0.9779 - val_loss: 0.1205 - val_accuracy: 0.9628\n",
      "Epoch 26/30\n",
      "1500/1500 [==============================] - 6s 4ms/step - loss: 0.0749 - accuracy: 0.9795 - val_loss: 0.1204 - val_accuracy: 0.9644\n",
      "Epoch 27/30\n",
      "1500/1500 [==============================] - 6s 4ms/step - loss: 0.0723 - accuracy: 0.9799 - val_loss: 0.1178 - val_accuracy: 0.9645\n",
      "Epoch 28/30\n",
      "1500/1500 [==============================] - 6s 4ms/step - loss: 0.0693 - accuracy: 0.9812 - val_loss: 0.1168 - val_accuracy: 0.9663\n",
      "Epoch 29/30\n",
      "1500/1500 [==============================] - 6s 4ms/step - loss: 0.0667 - accuracy: 0.9816 - val_loss: 0.1172 - val_accuracy: 0.9657\n",
      "Epoch 30/30\n",
      "1500/1500 [==============================] - 6s 4ms/step - loss: 0.0642 - accuracy: 0.9826 - val_loss: 0.1143 - val_accuracy: 0.9657\n"
     ]
    }
   ],
   "source": [
    "history1 = model1.fit(X_val_train, y_val_train, epochs=30,\n",
    "                    validation_data=(X_val_test, y_val_test))"
   ]
  },
  {
   "cell_type": "markdown",
   "metadata": {},
   "source": [
    "Learning curve <a class=\"anchor\" id=\"Curve1\"></a>"
   ]
  },
  {
   "cell_type": "code",
   "execution_count": 137,
   "metadata": {
    "scrolled": false
   },
   "outputs": [
    {
     "data": {
      "image/png": "[encoded data removed]",
      "text/plain": [
       "<Figure size 864x576 with 1 Axes>"
      ]
     },
     "metadata": {
      "needs_background": "light"
     },
     "output_type": "display_data"
    }
   ],
   "source": [
    "df_historial1=pd.DataFrame(model1.history.history)\n",
    "df_historial1[['loss','val_loss','accuracy', 'val_accuracy']].plot(figsize=(12, 8),\n",
    "                                                                  grid=True, \n",
    "                                                                  title=\"Learning Curves\",\n",
    "                                                                  ylim=(0,1));"
   ]
  },
  {
   "cell_type": "markdown",
   "metadata": {},
   "source": [
    "#### Modelo 2: 300 Relu 200 Relu adam <a class=\"anchor\" id=\"Modelo2\"></a>"
   ]
  },
  {
   "cell_type": "markdown",
   "metadata": {},
   "source": [
    "Arquitectura"
   ]
  },
  {
   "cell_type": "code",
   "execution_count": 138,
   "metadata": {},
   "outputs": [],
   "source": [
    "model2 = keras.models.Sequential([keras.layers.Flatten(input_shape=[14, 14]),\n",
    "                                keras.layers.Dense(300, activation=\"relu\"),\n",
    "                                keras.layers.Dense(100, activation=\"relu\"),\n",
    "                                keras.layers.Dense(10, activation=\"softmax\")\n",
    "                                ])"
   ]
  },
  {
   "cell_type": "markdown",
   "metadata": {},
   "source": [
    "Resumen"
   ]
  },
  {
   "cell_type": "code",
   "execution_count": 139,
   "metadata": {},
   "outputs": [
    {
     "name": "stdout",
     "output_type": "stream",
     "text": [
      "Model: \"sequential_3\"\n",
      "_________________________________________________________________\n",
      "Layer (type)                 Output Shape              Param #   \n",
      "=================================================================\n",
      "flatten_3 (Flatten)          (None, 196)               0         \n",
      "_________________________________________________________________\n",
      "dense_9 (Dense)              (None, 300)               59100     \n",
      "_________________________________________________________________\n",
      "dense_10 (Dense)             (None, 100)               30100     \n",
      "_________________________________________________________________\n",
      "dense_11 (Dense)             (None, 10)                1010      \n",
      "=================================================================\n",
      "Total params: 90,210\n",
      "Trainable params: 90,210\n",
      "Non-trainable params: 0\n",
      "_________________________________________________________________\n"
     ]
    }
   ],
   "source": [
    "model2.summary()"
   ]
  },
  {
   "cell_type": "markdown",
   "metadata": {},
   "source": [
    "Compilo"
   ]
  },
  {
   "cell_type": "code",
   "execution_count": 140,
   "metadata": {},
   "outputs": [],
   "source": [
    "model2.compile(loss=\"sparse_categorical_crossentropy\",\n",
    "                optimizer=\"adam\",\n",
    "                metrics=[\"accuracy\"])"
   ]
  },
  {
   "cell_type": "markdown",
   "metadata": {},
   "source": [
    "Entreno <a class=\"anchor\" id=\"Fit2\"></a>"
   ]
  },
  {
   "cell_type": "code",
   "execution_count": 141,
   "metadata": {},
   "outputs": [
    {
     "name": "stdout",
     "output_type": "stream",
     "text": [
      "Epoch 1/30\n",
      "WARNING:tensorflow:Model was constructed with shape (None, 14, 14) for input KerasTensor(type_spec=TensorSpec(shape=(None, 14, 14), dtype=tf.float32, name='flatten_3_input'), name='flatten_3_input', description=\"created by layer 'flatten_3_input'\"), but it was called on an input with incompatible shape (32, 196).\n",
      "WARNING:tensorflow:Model was constructed with shape (None, 14, 14) for input KerasTensor(type_spec=TensorSpec(shape=(None, 14, 14), dtype=tf.float32, name='flatten_3_input'), name='flatten_3_input', description=\"created by layer 'flatten_3_input'\"), but it was called on an input with incompatible shape (32, 196).\n",
      "1495/1500 [============================>.] - ETA: 0s - loss: 0.4774 - accuracy: 0.8510WARNING:tensorflow:Model was constructed with shape (None, 14, 14) for input KerasTensor(type_spec=TensorSpec(shape=(None, 14, 14), dtype=tf.float32, name='flatten_3_input'), name='flatten_3_input', description=\"created by layer 'flatten_3_input'\"), but it was called on an input with incompatible shape (32, 196).\n",
      "1500/1500 [==============================] - 6s 4ms/step - loss: 0.4767 - accuracy: 0.8512 - val_loss: 0.1651 - val_accuracy: 0.9488\n",
      "Epoch 2/30\n",
      "1500/1500 [==============================] - 6s 4ms/step - loss: 0.1382 - accuracy: 0.9569 - val_loss: 0.1304 - val_accuracy: 0.9601\n",
      "Epoch 3/30\n",
      "1500/1500 [==============================] - 6s 4ms/step - loss: 0.0918 - accuracy: 0.9707 - val_loss: 0.1199 - val_accuracy: 0.9640\n",
      "Epoch 4/30\n",
      "1500/1500 [==============================] - 4s 3ms/step - loss: 0.0756 - accuracy: 0.9770 - val_loss: 0.1193 - val_accuracy: 0.9647\n",
      "Epoch 5/30\n",
      "1500/1500 [==============================] - 5s 4ms/step - loss: 0.0582 - accuracy: 0.9807 - val_loss: 0.1290 - val_accuracy: 0.9645\n",
      "Epoch 6/30\n",
      "1500/1500 [==============================] - 6s 4ms/step - loss: 0.0450 - accuracy: 0.9864 - val_loss: 0.1307 - val_accuracy: 0.9642\n",
      "Epoch 7/30\n",
      "1500/1500 [==============================] - 5s 4ms/step - loss: 0.0413 - accuracy: 0.9868 - val_loss: 0.1417 - val_accuracy: 0.9659\n",
      "Epoch 8/30\n",
      "1500/1500 [==============================] - 5s 4ms/step - loss: 0.0350 - accuracy: 0.9887 - val_loss: 0.1178 - val_accuracy: 0.9703\n",
      "Epoch 9/30\n",
      "1500/1500 [==============================] - 6s 4ms/step - loss: 0.0285 - accuracy: 0.9900 - val_loss: 0.1360 - val_accuracy: 0.9677\n",
      "Epoch 10/30\n",
      "1500/1500 [==============================] - 6s 4ms/step - loss: 0.0245 - accuracy: 0.9915 - val_loss: 0.1273 - val_accuracy: 0.9709\n",
      "Epoch 11/30\n",
      "1500/1500 [==============================] - 6s 4ms/step - loss: 0.0198 - accuracy: 0.9935 - val_loss: 0.1414 - val_accuracy: 0.9675\n",
      "Epoch 12/30\n",
      "1500/1500 [==============================] - 5s 4ms/step - loss: 0.0204 - accuracy: 0.9927 - val_loss: 0.1473 - val_accuracy: 0.9678\n",
      "Epoch 13/30\n",
      "1500/1500 [==============================] - 5s 4ms/step - loss: 0.0176 - accuracy: 0.9942 - val_loss: 0.1520 - val_accuracy: 0.9700\n",
      "Epoch 14/30\n",
      "1500/1500 [==============================] - 5s 3ms/step - loss: 0.0159 - accuracy: 0.9945 - val_loss: 0.1507 - val_accuracy: 0.9709\n",
      "Epoch 15/30\n",
      "1500/1500 [==============================] - 5s 4ms/step - loss: 0.0166 - accuracy: 0.9942 - val_loss: 0.1728 - val_accuracy: 0.9708\n",
      "Epoch 16/30\n",
      "1500/1500 [==============================] - 5s 4ms/step - loss: 0.0151 - accuracy: 0.9951 - val_loss: 0.1581 - val_accuracy: 0.9708\n",
      "Epoch 17/30\n",
      "1500/1500 [==============================] - 6s 4ms/step - loss: 0.0173 - accuracy: 0.9941 - val_loss: 0.1697 - val_accuracy: 0.9708\n",
      "Epoch 18/30\n",
      "1500/1500 [==============================] - 6s 4ms/step - loss: 0.0136 - accuracy: 0.9952 - val_loss: 0.1555 - val_accuracy: 0.9733\n",
      "Epoch 19/30\n",
      "1500/1500 [==============================] - 6s 4ms/step - loss: 0.0133 - accuracy: 0.9953 - val_loss: 0.1742 - val_accuracy: 0.9696\n",
      "Epoch 20/30\n",
      "1500/1500 [==============================] - 5s 4ms/step - loss: 0.0104 - accuracy: 0.9968 - val_loss: 0.1735 - val_accuracy: 0.9734\n",
      "Epoch 21/30\n",
      "1500/1500 [==============================] - 5s 3ms/step - loss: 0.0129 - accuracy: 0.9958 - val_loss: 0.1752 - val_accuracy: 0.9716\n",
      "Epoch 22/30\n",
      "1500/1500 [==============================] - 6s 4ms/step - loss: 0.0098 - accuracy: 0.9961 - val_loss: 0.1643 - val_accuracy: 0.9727\n",
      "Epoch 23/30\n",
      "1500/1500 [==============================] - 6s 4ms/step - loss: 0.0076 - accuracy: 0.9973 - val_loss: 0.1974 - val_accuracy: 0.9717\n",
      "Epoch 24/30\n",
      "1500/1500 [==============================] - 5s 4ms/step - loss: 0.0147 - accuracy: 0.9949 - val_loss: 0.1785 - val_accuracy: 0.9714\n",
      "Epoch 25/30\n",
      "1500/1500 [==============================] - 5s 4ms/step - loss: 0.0127 - accuracy: 0.9957 - val_loss: 0.1879 - val_accuracy: 0.9725\n",
      "Epoch 26/30\n",
      "1500/1500 [==============================] - 6s 4ms/step - loss: 0.0075 - accuracy: 0.9978 - val_loss: 0.1869 - val_accuracy: 0.9729\n",
      "Epoch 27/30\n",
      "1500/1500 [==============================] - 5s 3ms/step - loss: 0.0104 - accuracy: 0.9967 - val_loss: 0.1856 - val_accuracy: 0.9736\n",
      "Epoch 28/30\n",
      "1500/1500 [==============================] - 5s 4ms/step - loss: 0.0148 - accuracy: 0.9950 - val_loss: 0.2048 - val_accuracy: 0.9722\n",
      "Epoch 29/30\n",
      "1500/1500 [==============================] - 5s 3ms/step - loss: 0.0060 - accuracy: 0.9983 - val_loss: 0.2711 - val_accuracy: 0.9654\n",
      "Epoch 30/30\n",
      "1500/1500 [==============================] - 5s 3ms/step - loss: 0.0123 - accuracy: 0.9963 - val_loss: 0.2152 - val_accuracy: 0.9723\n"
     ]
    }
   ],
   "source": [
    "history2 = model2.fit(X_val_train, y_val_train, epochs=30,\n",
    "                    validation_data=(X_val_test, y_val_test))"
   ]
  },
  {
   "cell_type": "markdown",
   "metadata": {},
   "source": [
    "Learning curve <a class=\"anchor\" id=\"Curve2\"></a>"
   ]
  },
  {
   "cell_type": "code",
   "execution_count": 142,
   "metadata": {
    "scrolled": false
   },
   "outputs": [
    {
     "data": {
      "image/png": "[encoded data removed]",
      "text/plain": [
       "<Figure size 864x576 with 1 Axes>"
      ]
     },
     "metadata": {
      "needs_background": "light"
     },
     "output_type": "display_data"
    }
   ],
   "source": [
    "df_historial2=pd.DataFrame(model2.history.history)\n",
    "df_historial2[['loss','val_loss','accuracy', 'val_accuracy']].plot(figsize=(12, 8),\n",
    "                                                                  grid=True, \n",
    "                                                                  title=\"Learning Curves\",\n",
    "                                                                  ylim=(0,1));"
   ]
  },
  {
   "cell_type": "markdown",
   "metadata": {},
   "source": [
    "### Seleccion final de modelo y entrenamiento con todos los datos (X_train, y_train)  <a class=\"anchor\" id=\"SeleccionFinal\"></a>"
   ]
  },
  {
   "cell_type": "markdown",
   "metadata": {},
   "source": [
    "De acuerdo a los resultados anteriores, se decide elegir el modelo de red neuronal con dos capas ocultas de 300 y 100 neuronas, con funcion de activacion relu, la capa de salida con softmax y el optimizer ADAM. <a class=\"anchor\" id=\"ModeloFinal\"></a>"
   ]
  },
  {
   "cell_type": "markdown",
   "metadata": {},
   "source": [
    "Arquitectura"
   ]
  },
  {
   "cell_type": "code",
   "execution_count": 11,
   "metadata": {},
   "outputs": [],
   "source": [
    "model_final = keras.models.Sequential([keras.layers.Flatten(input_shape=[14, 14]),\n",
    "                                keras.layers.Dense(300, activation=\"relu\"),\n",
    "                                keras.layers.Dense(100, activation=\"relu\"),\n",
    "                                keras.layers.Dense(10, activation=\"softmax\")\n",
    "                                ])"
   ]
  },
  {
   "cell_type": "markdown",
   "metadata": {},
   "source": [
    "Resumen"
   ]
  },
  {
   "cell_type": "code",
   "execution_count": 12,
   "metadata": {},
   "outputs": [
    {
     "name": "stdout",
     "output_type": "stream",
     "text": [
      "Model: \"sequential\"\n",
      "_________________________________________________________________\n",
      "Layer (type)                 Output Shape              Param #   \n",
      "=================================================================\n",
      "flatten (Flatten)            (None, 196)               0         \n",
      "_________________________________________________________________\n",
      "dense (Dense)                (None, 300)               59100     \n",
      "_________________________________________________________________\n",
      "dense_1 (Dense)              (None, 100)               30100     \n",
      "_________________________________________________________________\n",
      "dense_2 (Dense)              (None, 10)                1010      \n",
      "=================================================================\n",
      "Total params: 90,210\n",
      "Trainable params: 90,210\n",
      "Non-trainable params: 0\n",
      "_________________________________________________________________\n"
     ]
    }
   ],
   "source": [
    "model_final.summary()"
   ]
  },
  {
   "cell_type": "markdown",
   "metadata": {},
   "source": [
    "Compilo"
   ]
  },
  {
   "cell_type": "code",
   "execution_count": 13,
   "metadata": {},
   "outputs": [],
   "source": [
    "model_final.compile(loss=\"sparse_categorical_crossentropy\",\n",
    "                optimizer=\"adam\",\n",
    "                metrics=[\"accuracy\"])"
   ]
  },
  {
   "cell_type": "markdown",
   "metadata": {},
   "source": [
    "Entrenamiento"
   ]
  },
  {
   "cell_type": "code",
   "execution_count": 151,
   "metadata": {},
   "outputs": [],
   "source": [
    "tf.config.run_functions_eagerly(True)"
   ]
  },
  {
   "cell_type": "code",
   "execution_count": 14,
   "metadata": {},
   "outputs": [
    {
     "name": "stdout",
     "output_type": "stream",
     "text": [
      "Epoch 1/30\n",
      "WARNING:tensorflow:Model was constructed with shape (None, 14, 14) for input KerasTensor(type_spec=TensorSpec(shape=(None, 14, 14), dtype=tf.float32, name='flatten_input'), name='flatten_input', description=\"created by layer 'flatten_input'\"), but it was called on an input with incompatible shape (32, 196).\n",
      "WARNING:tensorflow:Model was constructed with shape (None, 14, 14) for input KerasTensor(type_spec=TensorSpec(shape=(None, 14, 14), dtype=tf.float32, name='flatten_input'), name='flatten_input', description=\"created by layer 'flatten_input'\"), but it was called on an input with incompatible shape (32, 196).\n",
      "1875/1875 [==============================] - 7s 4ms/step - loss: 0.4331 - accuracy: 0.8676\n",
      "Epoch 2/30\n",
      "1875/1875 [==============================] - 7s 4ms/step - loss: 0.1342 - accuracy: 0.9584\n",
      "Epoch 3/30\n",
      "1875/1875 [==============================] - 7s 4ms/step - loss: 0.0914 - accuracy: 0.9713\n",
      "Epoch 4/30\n",
      "1875/1875 [==============================] - 7s 4ms/step - loss: 0.0683 - accuracy: 0.9770\n",
      "Epoch 5/30\n",
      "1875/1875 [==============================] - 7s 4ms/step - loss: 0.0562 - accuracy: 0.9816\n",
      "Epoch 6/30\n",
      "1875/1875 [==============================] - 7s 4ms/step - loss: 0.0430 - accuracy: 0.9856\n",
      "Epoch 7/30\n",
      "1875/1875 [==============================] - 7s 4ms/step - loss: 0.0367 - accuracy: 0.9883\n",
      "Epoch 8/30\n",
      "1875/1875 [==============================] - 7s 4ms/step - loss: 0.0297 - accuracy: 0.9905\n",
      "Epoch 9/30\n",
      "1875/1875 [==============================] - 7s 4ms/step - loss: 0.0275 - accuracy: 0.9912\n",
      "Epoch 10/30\n",
      "1875/1875 [==============================] - 7s 4ms/step - loss: 0.0238 - accuracy: 0.9924\n",
      "Epoch 11/30\n",
      "1875/1875 [==============================] - 7s 4ms/step - loss: 0.0211 - accuracy: 0.9931\n",
      "Epoch 12/30\n",
      "1875/1875 [==============================] - 7s 3ms/step - loss: 0.0173 - accuracy: 0.9938\n",
      "Epoch 13/30\n",
      "1875/1875 [==============================] - 7s 4ms/step - loss: 0.0180 - accuracy: 0.9939\n",
      "Epoch 14/30\n",
      "1875/1875 [==============================] - 7s 4ms/step - loss: 0.0137 - accuracy: 0.9958\n",
      "Epoch 15/30\n",
      "1875/1875 [==============================] - 7s 4ms/step - loss: 0.0136 - accuracy: 0.9953\n",
      "Epoch 16/30\n",
      "1875/1875 [==============================] - 7s 4ms/step - loss: 0.0116 - accuracy: 0.9959\n",
      "Epoch 17/30\n",
      "1875/1875 [==============================] - 7s 4ms/step - loss: 0.0124 - accuracy: 0.9957\n",
      "Epoch 18/30\n",
      "1875/1875 [==============================] - 7s 4ms/step - loss: 0.0161 - accuracy: 0.9949\n",
      "Epoch 19/30\n",
      "1875/1875 [==============================] - 7s 4ms/step - loss: 0.0097 - accuracy: 0.9971\n",
      "Epoch 20/30\n",
      "1875/1875 [==============================] - 7s 4ms/step - loss: 0.0148 - accuracy: 0.9953\n",
      "Epoch 21/30\n",
      "1875/1875 [==============================] - 7s 4ms/step - loss: 0.0097 - accuracy: 0.9971\n",
      "Epoch 22/30\n",
      "1875/1875 [==============================] - 7s 4ms/step - loss: 0.0112 - accuracy: 0.9966\n",
      "Epoch 23/30\n",
      "1875/1875 [==============================] - 7s 4ms/step - loss: 0.0100 - accuracy: 0.9967\n",
      "Epoch 24/30\n",
      "1875/1875 [==============================] - 7s 4ms/step - loss: 0.0086 - accuracy: 0.9974\n",
      "Epoch 25/30\n",
      "1875/1875 [==============================] - 7s 4ms/step - loss: 0.0085 - accuracy: 0.9971\n",
      "Epoch 26/30\n",
      "1875/1875 [==============================] - 7s 4ms/step - loss: 0.0107 - accuracy: 0.9966\n",
      "Epoch 27/30\n",
      "1875/1875 [==============================] - 7s 4ms/step - loss: 0.0097 - accuracy: 0.9970\n",
      "Epoch 28/30\n",
      "1875/1875 [==============================] - 7s 4ms/step - loss: 0.0079 - accuracy: 0.9970\n",
      "Epoch 29/30\n",
      "1875/1875 [==============================] - 7s 4ms/step - loss: 0.0106 - accuracy: 0.9966\n",
      "Epoch 30/30\n",
      "1875/1875 [==============================] - 7s 4ms/step - loss: 0.0073 - accuracy: 0.9973\n"
     ]
    }
   ],
   "source": [
    "history_final = model_final.fit(X_train_best, y_train, epochs=30)"
   ]
  },
  {
   "cell_type": "markdown",
   "metadata": {},
   "source": [
    "Curva de accuracy-loss <a class=\"anchor\" id=\"Accuracy-Final\"></a>"
   ]
  },
  {
   "cell_type": "code",
   "execution_count": 15,
   "metadata": {
    "scrolled": false
   },
   "outputs": [
    {
     "data": {
      "image/png": "[encoded data removed]",
      "text/plain": [
       "<Figure size 864x576 with 1 Axes>"
      ]
     },
     "metadata": {
      "needs_background": "light"
     },
     "output_type": "display_data"
    }
   ],
   "source": [
    "df_historial_final=pd.DataFrame(model_final.history.history)\n",
    "df_historial_final[['loss','accuracy']].plot(figsize=(12, 8),\n",
    "                                                                  grid=True, \n",
    "                                                                  title=\"Learning Curves\",\n",
    "                                                                  ylim=(0,1));"
   ]
  },
  {
   "cell_type": "markdown",
   "metadata": {},
   "source": [
    "### Prediccion de resultados sobre las nuevas observaciones (X_test) <a class=\"anchor\" id=\"Prediccion\"></a> <a class=\"anchor\" id=\"Predi1\"></a>"
   ]
  },
  {
   "cell_type": "code",
   "execution_count": 16,
   "metadata": {},
   "outputs": [
    {
     "name": "stderr",
     "output_type": "stream",
     "text": [
      "C:\\Users\\Mateio\\Anaconda3\\lib\\site-packages\\tensorflow\\python\\keras\\engine\\sequential.py:450: UserWarning: `model.predict_classes()` is deprecated and will be removed after 2021-01-01. Please use instead:* `np.argmax(model.predict(x), axis=-1)`,   if your model does multi-class classification   (e.g. if it uses a `softmax` last-layer activation).* `(model.predict(x) > 0.5).astype(\"int32\")`,   if your model does binary classification   (e.g. if it uses a `sigmoid` last-layer activation).\n",
      "  warnings.warn('`model.predict_classes()` is deprecated and '\n"
     ]
    },
    {
     "name": "stdout",
     "output_type": "stream",
     "text": [
      "WARNING:tensorflow:Model was constructed with shape (None, 14, 14) for input KerasTensor(type_spec=TensorSpec(shape=(None, 14, 14), dtype=tf.float32, name='flatten_input'), name='flatten_input', description=\"created by layer 'flatten_input'\"), but it was called on an input with incompatible shape (None, 196).\n"
     ]
    },
    {
     "data": {
      "text/plain": [
       "array([0, 9, 4, ..., 5, 9, 7], dtype=int64)"
      ]
     },
     "execution_count": 16,
     "metadata": {},
     "output_type": "execute_result"
    }
   ],
   "source": [
    "predicciones=model_final.predict_classes(X_test_best)\n",
    "predicciones"
   ]
  },
  {
   "cell_type": "markdown",
   "metadata": {},
   "source": [
    "Guardo el resultado en el formato requerido  <a class=\"anchor\" id=\"Guarda-npy\">"
   ]
  },
  {
   "cell_type": "code",
   "execution_count": 17,
   "metadata": {},
   "outputs": [],
   "source": [
    "np.save('Comba_2',predicciones)"
   ]
  },
  {
   "cell_type": "markdown",
   "metadata": {},
   "source": [
    "### Guardar el modelo de produccion   <a class=\"anchor\" id=\"Guarda-modelo\">"
   ]
  },
  {
   "cell_type": "code",
   "execution_count": 157,
   "metadata": {},
   "outputs": [
    {
     "name": "stdout",
     "output_type": "stream",
     "text": [
      "INFO:tensorflow:Assets written to: Produccion_2\\assets\n"
     ]
    }
   ],
   "source": [
    "model_final.save('Produccion_2')"
   ]
  }
 ],
 "metadata": {
  "kernelspec": {
   "display_name": "Python 3",
   "language": "python",
   "name": "python3"
  },
  "language_info": {
   "codemirror_mode": {
    "name": "ipython",
    "version": 3
   },
   "file_extension": ".py",
   "mimetype": "text/x-python",
   "name": "python",
   "nbconvert_exporter": "python",
   "pygments_lexer": "ipython3",
   "version": "3.7.3"
  }
 },
 "nbformat": 4,
 "nbformat_minor": 4
}
