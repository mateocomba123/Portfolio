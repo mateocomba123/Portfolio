{
 "cells": [
  {
   "cell_type": "markdown",
   "metadata": {},
   "source": [
    "### Tabla de Contenidos\n",
    "\n",
    "* [1) Los datos](#losdatos)\n",
    "    * [1.1) Introduccion](#losdatos)\n",
    "    * [1.2) Carga del dataset](#Carga)\n",
    "    * [1.3) Visualizacion del dataset](#Visualizacion)\n",
    "    * [1.4) Creacion de los sets de validacion](#Validacion)\n",
    "    * [1.4) Preprocesamiento](#Preprocesamiento)\n",
    "* [2) Modelizacion ML Clasico](#Tuning-ML)\n",
    "    * [2.1)Tuning de hiperarametros con ML Clasico](#Tuning-ML)\n",
    "        * [2.1.1)Baseline con Pycaret](#Pycaret)\n",
    "            * [2.1.1.1)Model setup](#Pycaret-1)\n",
    "            * [2.1.1.2Model overview](#Pycaret-2)\n",
    "        * [2.1.2)GridSearchCV ML Clasico](#MLClasico-Tuning)\n",
    "            * [2.1.2.1)Regresion Logistica con Ridge](#GS-RL)\n",
    "            * [2.1.2.2)kNN](#GS-kNN)\n",
    "            * [2.1.2.3)Decision Tree](#GS-DT)\n",
    "            * [2.1.2.4)Elastic Net](#GS-EN)\n",
    "            * [2.1.2.5)Random Forest](#GS-RF)\n",
    "        * [2.1.3)Conclusiones y resumen de seleccion de hiperparametros ML](#Conclu-tuning)\n",
    "    * [2.2)Entrenamiento con todo el train (post seleccion de hiperparametros)](#SeleccionModelo-ML)\n",
    "        * [2.2.1) Entrenamiento de los modelos](#Entrenamiento-ML)\n",
    "            * [2.2.1.1)Regresion Logistica con Ridge](#TR-RL)\n",
    "            * [2.1.1.2)kNN](#TR-kNN)\n",
    "            * [2.1.1.3)Decision Tree](#TR-DT)\n",
    "            * [2.1.1.4)Elastic Net](#TR-EN)\n",
    "            * [2.1.1.5)Random Forest](#TR-RF)\n",
    "        * [2.2.2)Conclusiones finales modelos ML clasico](#Conclu-MLClasico)\n",
    "* [3) Redes Neuronales](#Redes)\n",
    "    * [3.1)Preprocesamiento](#Preproc-Redes)\n",
    "    * [3.2)Seleccion de hiperparametros](#Tuning-Redes)\n",
    "        * [3.2.1)Modelo 1: HL1: 300 Relu, HL2, 100 Relu, SGD](#Modelo1)\n",
    "            * [3.2.1.1)Modelo](#Fit1)\n",
    "            * [3.2.1.2)Learning Curve](#Curve1)\n",
    "        * [3.2.2)Modelo 2: HL1: 300 Relu, HL2, 100 Relu, ADAM](#Modelo2)\n",
    "            * [3.2.2.1)Modelo](#Fit2)\n",
    "            * [3.2.2.2)Learning Curve](#Curve2)\n",
    "* [4) Seleccion final de modelo y entrenamiento con todo el train](#SeleccionFinal)\n",
    "    * [4.1.1)Modelo](#ModeloFinal)\n",
    "    * [4.1.2)Accuracy-Loss Curve](#AccuracyFinal)\n",
    "* [5) Prediccion del modelo de produccion sobre valores desconocidos (X_test)](#Prediccion)\n",
    "    * [5.1)Prediccion](#Predi1)\n",
    "    * [5.2)Guardado del archivo .npy con las predicciones](#Gaurda-npy)\n",
    "* [6) Guardado del modelo para futuros usos](#Guarda-modelo)"
   ]
  },
  {
   "cell_type": "markdown",
   "metadata": {},
   "source": [
    "# Parcial 1:  Clasificación de Imágenes con Keras DNN- Dataset: MNIST"
   ]
  },
  {
   "cell_type": "markdown",
   "metadata": {},
   "source": [
    "# Los Datos <a class=\"anchor\" id=\"losdatos\"></a>\n",
    "\n",
    "MNIST es una base de datos con 70 mil capturas de dígitos escritos a mano, del 0 al 9.  La misma fue creada en su momento por empleados del *US Census Bureau* de Estados Unidos y por estudiantes con el objetivo de crear un sistema capaz de reconocer los números de los códigos postales.   \n",
    "\n",
    "La gente de Scikit-Learn guarda una versión a la cual podemos acceder libremente."
   ]
  },
  {
   "cell_type": "markdown",
   "metadata": {},
   "source": [
    "Su tarea es la de identificar correctamente nuevos dígitos escritos a mano. Para ello le brindaremos:\n",
    "\n",
    "- 60 mil imágenes previamente clasificados con su correspondiente etiqueta (0-9)\n",
    "- 10 mil imágenes sin etiquetar, que Ud. deberá pronosticar. \n",
    "\n",
    "Nosotros no hemos quedado con las etiquetas de estas últimas 10 mil imágenes para evaluar sus pronósticos.   \n",
    "\n",
    "Todas las imágenes tienen una resolución de 28x28 pixels y están en escala de grises, pero **esta vez los datos ya están \"planos\" es decir que no necesitará efectuar \"Flatten\" para procesarlos**."
   ]
  },
  {
   "cell_type": "markdown",
   "metadata": {
    "ExecuteTime": {
     "end_time": "2021-01-07T20:28:29.709727Z",
     "start_time": "2021-01-07T20:28:29.705352Z"
    }
   },
   "source": [
    "Usted deberá:\n",
    "\n",
    "**Primera Parte:** \n",
    "\n",
    "1- Visualizar las imágenes: debe instrumentar alguna manera que nos permita ver una por una o en grupo las imágenes. Deberá mostrar la imagen y la correspondiente etiqueta. **Tenga en cuenta que esta vez como los datos ya están planos, Ud deberá trasformarlos en una matriz de 28x28 para poder visualizarlos**.   \n",
    "\n",
    "2- Generar el modelo de **produccion_1**. Para ello deberá efectuar selección de modelo entre los de **Machine Learning Clásico y Redes Neuronales eligiendo el que considere que funcionará mejor**.     \n",
    "\n",
    "3- Con el modelo de Producción_1 deberá efectuar etiquetar las 10 mil imágenes provistas. Guarde las 10 mil etiquetas generadas como un array de numpy de nombre *suApellido_1.npy*.  \n",
    "\n",
    "4- La métrica será Accuracy.   \n",
    "\n",
    "Nota: si lo desea podrá escalar los valores de la escala de grises de cada pixel a [0,1]\n",
    "\n",
    "\n",
    "\n",
    "**Segunda Parte**:  \n",
    "\n",
    "Esta segunda parte es similar a la primera pero incluye elementos vistos en la materia **Práctica Profesionalizante 3** y se utilizará para evaluar dicha materia.  \n",
    "\n",
    "Luego de observar las imágenes, Ud supone que algunos pixels de la misma tienen poca relevancia para determinar qué número está escrito en ellas. \n",
    "\n",
    "1- Con los métodos vistos en PP3 (esencialmente filtros) deberá generar un conjunto de **a lo sumo 200 pixels** con los cuales deberá repetir la primera parte.  \n",
    "2- Al modelo de producción de esta segunda parte deberá llamarlo **produccion_2**  \n",
    "3- Deberá comparar los resultados obtenidos con los anteriores y anotar cómo funciona mejor.   \n",
    "4- Finalmente con produccion_2 deberá etiquetar las 10 mil imágenes y guardar las etiquetas como *suApellido_2.npy*  \n",
    "\n",
    "Nota: Debe documentar su trabajo para luego poder explicarlo, no genere código sin explicaciones!"
   ]
  },
  {
   "cell_type": "markdown",
   "metadata": {},
   "source": [
    "### Carga y visualizacion del dataset <a class=\"anchor\" id=\"Carga\"></a>"
   ]
  },
  {
   "cell_type": "markdown",
   "metadata": {},
   "source": [
    "Cargo las librerias necesarias"
   ]
  },
  {
   "cell_type": "markdown",
   "metadata": {},
   "source": [
    "import numpy as np\n",
    "import tensorflow as tf\n",
    "from tensorflow import keras "
   ]
  },
  {
   "cell_type": "markdown",
   "metadata": {},
   "source": [
    "Cargo el dataset"
   ]
  },
  {
   "cell_type": "code",
   "execution_count": 147,
   "metadata": {},
   "outputs": [],
   "source": [
    "import warnings\n",
    "\n",
    "warnings.simplefilter('ignore')"
   ]
  },
  {
   "cell_type": "code",
   "execution_count": 233,
   "metadata": {},
   "outputs": [],
   "source": [
    "import matplotlib.pyplot as plt\n",
    "import numpy as np\n",
    "X_train=np.load('Alumno/X_MNIST_60_mil.npy', allow_pickle=True)\n",
    "y_train=np.load('Alumno/Y_MNIST_60_mil.npy', allow_pickle=True)\n",
    "X_test=np.load('Alumno/X_MNIST_10_mil.npy', allow_pickle=True)\n",
    "#y_test se lo guardo el profe"
   ]
  },
  {
   "cell_type": "markdown",
   "metadata": {},
   "source": [
    "784 features, 60000 imagenes forman nuestro X_train"
   ]
  },
  {
   "cell_type": "code",
   "execution_count": 234,
   "metadata": {},
   "outputs": [
    {
     "data": {
      "text/plain": [
       "(60000, 784)"
      ]
     },
     "execution_count": 234,
     "metadata": {},
     "output_type": "execute_result"
    }
   ],
   "source": [
    "X_train.shape"
   ]
  },
  {
   "cell_type": "markdown",
   "metadata": {},
   "source": [
    "misma cantidad de variables y 10000 imagenes forman parte del X_test"
   ]
  },
  {
   "cell_type": "code",
   "execution_count": 150,
   "metadata": {},
   "outputs": [
    {
     "data": {
      "text/plain": [
       "(10000, 784)"
      ]
     },
     "execution_count": 150,
     "metadata": {},
     "output_type": "execute_result"
    }
   ],
   "source": [
    "X_test.shape"
   ]
  },
  {
   "cell_type": "markdown",
   "metadata": {},
   "source": [
    "El y_train, es la clasificacion para las 60 mil imagenes"
   ]
  },
  {
   "cell_type": "code",
   "execution_count": 151,
   "metadata": {},
   "outputs": [
    {
     "data": {
      "text/plain": [
       "(60000,)"
      ]
     },
     "execution_count": 151,
     "metadata": {},
     "output_type": "execute_result"
    }
   ],
   "source": [
    "y_train.shape"
   ]
  },
  {
   "cell_type": "markdown",
   "metadata": {},
   "source": [
    "El y_test, se lo reservo el profesor para contrastar con el predict que haga nuestro modelo sobre el X_test"
   ]
  },
  {
   "cell_type": "markdown",
   "metadata": {},
   "source": [
    "Las categorias de cada imagen son los numeros del 0 al 9."
   ]
  },
  {
   "cell_type": "code",
   "execution_count": 152,
   "metadata": {},
   "outputs": [
    {
     "data": {
      "text/plain": [
       "array(['0', '1', '2', '3', '4', '5', '6', '7', '8', '9'], dtype=object)"
      ]
     },
     "execution_count": 152,
     "metadata": {},
     "output_type": "execute_result"
    }
   ],
   "source": [
    "np.unique(y_train)"
   ]
  },
  {
   "cell_type": "markdown",
   "metadata": {},
   "source": [
    "El dataset se encuentra casi perfectamente balanceado"
   ]
  },
  {
   "cell_type": "code",
   "execution_count": 153,
   "metadata": {},
   "outputs": [
    {
     "data": {
      "text/plain": [
       "(array(['0', '1', '2', '3', '4', '5', '6', '7', '8', '9'], dtype=object),\n",
       " array([5919, 6691, 6027, 6137, 5846, 5382, 5938, 6274, 5812, 5974],\n",
       "       dtype=int64))"
      ]
     },
     "execution_count": 153,
     "metadata": {},
     "output_type": "execute_result"
    }
   ],
   "source": [
    "np.unique(y_train, return_counts=True)"
   ]
  },
  {
   "cell_type": "markdown",
   "metadata": {},
   "source": [
    "### Visualización de los datos <a class=\"anchor\" id=\"Visualizacion\"></a>"
   ]
  },
  {
   "cell_type": "markdown",
   "metadata": {},
   "source": [
    "Cada registro de X_train, seran los valores de pixeles de cada imagen, representados en escala de blanco-negro (0-255)."
   ]
  },
  {
   "cell_type": "code",
   "execution_count": 154,
   "metadata": {},
   "outputs": [
    {
     "data": {
      "text/plain": [
       "array([  0.,   0.,   0.,   0.,   0.,   0.,   0.,   0.,   0.,   0.,   0.,\n",
       "         0.,   0.,   0.,   0.,   0.,   0.,   0.,   0.,   0.,   0.,   0.,\n",
       "         0.,   0.,   0.,   0.,   0.,   0.,   0.,   0.,   0.,   0.,   0.,\n",
       "         0.,   0.,   0.,   0.,   0.,   0.,   0.,   0.,   0.,   0.,   0.,\n",
       "         0.,   0.,   0.,   0.,   0.,   0.,   0.,   0.,   0.,   0.,   0.,\n",
       "         0.,   0.,   0.,   0.,   0.,   0.,   0.,   0.,   0.,   0.,   0.,\n",
       "         0.,   0.,   0.,   0.,   0.,   0.,   0.,   0.,   0.,   0.,   0.,\n",
       "         0.,   0.,   0.,   0.,   0.,   0.,   0.,   0.,   0.,   0.,   0.,\n",
       "         0.,   0.,   0.,   0.,   0.,   0.,   0.,   0.,   0.,   0.,   0.,\n",
       "         0.,   0.,   0.,   0.,   0.,   0.,   0.,   0.,   0.,   0.,   0.,\n",
       "         0.,   0.,   0.,   0.,   0.,   0.,   0.,   0.,   0.,   0.,   0.,\n",
       "         0.,   0.,   0.,   0.,   0.,   0.,   0.,   0.,   0.,   0.,   0.,\n",
       "         0.,   0.,   0.,   0.,   0.,   0.,   0.,   0.,   0.,   0.,   0.,\n",
       "         0.,   0.,   0.,   0.,   0.,   0.,   0.,   0.,   0.,   0.,   0.,\n",
       "         0.,   0.,   0.,   0.,   0.,   0.,   0.,   0.,   0.,   0.,   0.,\n",
       "         0.,   0.,   0.,   0.,   0.,   0.,   0.,   0.,   0.,   0.,  66.,\n",
       "       146., 146., 146., 146., 229., 254., 255., 255., 208., 255., 255.,\n",
       "       254., 180., 146.,  19.,   0.,   0.,   0.,   0.,   0.,   0.,   0.,\n",
       "         0.,   0.,   0.,   0.,   0., 160., 253., 253., 253., 253., 253.,\n",
       "       253., 253., 253., 253., 253., 253., 253., 253., 253.,  81.,   0.,\n",
       "         0.,   0.,   0.,   0.,   0.,   0.,   0.,   0.,   0.,   0.,   0.,\n",
       "       114., 253., 253., 253., 253., 249., 148., 139., 139., 241., 222.,\n",
       "       139., 139.,  66.,  32.,   1.,   0.,   0.,   0.,   0.,   0.,   0.,\n",
       "         0.,   0.,   0.,   0.,   0.,   0., 114., 253., 253., 253., 206.,\n",
       "        24.,   0.,   0.,   0.,   0.,   0.,   0.,   0.,   0.,   0.,   0.,\n",
       "         0.,   0.,   0.,   0.,   0.,   0.,   0.,   0.,   0.,   0.,   0.,\n",
       "         0., 114., 253., 253., 169.,  66.,   0.,   0.,   0.,   0.,   0.,\n",
       "         0.,   0.,   0.,   0.,   0.,   0.,   0.,   0.,   0.,   0.,   0.,\n",
       "         0.,   0.,   0.,   0.,   0.,   0.,   0.,  17., 253., 253., 237.,\n",
       "        51.,   0.,   0.,   0.,   0.,   0.,   0.,   0.,   0.,   0.,   0.,\n",
       "         0.,   0.,   0.,   0.,   0.,   0.,   0.,   0.,   0.,   0.,   0.,\n",
       "         0.,   0.,   5., 234., 253., 253., 235., 104.,   0.,   0.,   0.,\n",
       "         0.,   0.,   0.,   0.,   0.,   0.,   0.,   0.,   0.,   0.,   0.,\n",
       "         0.,   0.,   0.,   0.,   0.,   0.,   0.,   0.,   0., 115., 253.,\n",
       "       253., 253., 196.,   8.,   0.,   0.,   0.,   0.,   0.,   0.,   0.,\n",
       "         0.,   0.,   0.,   0.,   0.,   0.,   0.,   0.,   0.,   0.,   0.,\n",
       "         0.,   0.,   0.,   0.,  23., 215., 253., 253., 253., 174.,   6.,\n",
       "         0.,   0.,   0.,   0.,   0.,   0.,   0.,   0.,   0.,   0.,   0.,\n",
       "         0.,   0.,   0.,   0.,   0.,   0.,   0.,   0.,   0.,   0.,   0.,\n",
       "        64., 248., 253., 253., 253., 172.,  55.,   4.,   0.,   0.,   0.,\n",
       "         0.,   0.,   0.,   0.,   0.,   0.,   0.,   0.,   0.,   0.,   0.,\n",
       "         0.,   0.,   0.,   0.,   0.,   0.,   0., 103., 253., 253., 253.,\n",
       "       253., 253., 140.,   0.,   0.,   0.,   0.,   0.,   0.,   0.,   0.,\n",
       "         0.,   0.,   0.,   0.,   0.,   0.,   0.,   0.,   0.,   0.,   0.,\n",
       "         0.,   0.,   1., 104., 239., 253., 253., 253., 252., 187.,  14.,\n",
       "         0.,   0.,   0.,   0.,   0.,   0.,   0.,   0.,   0.,   0.,   0.,\n",
       "         0.,   0.,   0.,   0.,   0.,   0.,   0.,   0.,   0.,   0.,  30.,\n",
       "        93., 232., 253., 253., 253., 220.,  58.,   0.,   0.,   0.,   0.,\n",
       "         0.,   0.,   0.,   0.,   0.,   0.,   0.,   0.,   0.,   0.,   0.,\n",
       "         0.,   0.,   0.,   0.,   0.,   0.,   0.,  31., 133., 248., 253.,\n",
       "       253., 248., 178.,  59.,   0.,   0.,   0.,   0.,   0.,   0.,   0.,\n",
       "         0.,   0.,   0.,   0.,   0.,   0.,   0.,   0.,   0.,   0.,   0.,\n",
       "         0.,   0.,   0.,   0.,  75., 233., 253., 253., 253., 249., 121.,\n",
       "         0.,   0.,   0.,   0.,   0.,   0.,   0.,   0.,   0.,   0.,   0.,\n",
       "         0.,   0.,   0.,   0.,   0.,   0.,   0.,   0.,   0.,   0.,   0.,\n",
       "        19.,  81., 247., 253., 253., 221.,   0.,   0.,   0.,   0.,   0.,\n",
       "         0.,   0.,   0.,   0.,   0.,   0.,   0.,   0.,   0.,   0.,   0.,\n",
       "         0.,   0.,   0.,   0.,   0.,   0.,   0.,  40., 248., 253., 253.,\n",
       "       177.,   0.,   0.,   0.,   0.,   0.,   0.,   0.,   0.,   0.,   0.,\n",
       "         0.,   0.,   0.,   0.,   0.,   0.,   0.,   0.,   0.,   0.,  26.,\n",
       "        42., 166., 251., 253., 231.,  87.,   2.,   0.,   0.,   0.,   0.,\n",
       "         0.,   0.,   0.,   0.,   0.,   0.,   0.,   0.,   0.,   0.,   0.,\n",
       "       160., 112., 154., 179., 179., 238., 253., 253., 253., 216.,  58.,\n",
       "         0.,   0.,   0.,   0.,   0.,   0.,   0.,   0.,   0.,   0.,   0.,\n",
       "         0.,   0.,   0.,   0.,   0.,   0., 130., 145., 182., 253., 253.,\n",
       "       253., 207., 253., 165.,  22.,   0.,   0.,   0.,   0.,   0.,   0.,\n",
       "         0.,   0.,   0.,   0.,   0.,   0.,   0.,   0.,   0.,   0.,   0.,\n",
       "         0.,   0.,   0.,   0.,   0.,   0.,   0.,   0.,   0.,   0.,   0.,\n",
       "         0.,   0.,   0.,   0.,   0.,   0.,   0.,   0.,   0.,   0.,   0.,\n",
       "         0.,   0.,   0.,   0.,   0.,   0.,   0.,   0.,   0.,   0.,   0.,\n",
       "         0.,   0.,   0.,   0.,   0.,   0.,   0.,   0.,   0.,   0.,   0.,\n",
       "         0.,   0.,   0.])"
      ]
     },
     "execution_count": 154,
     "metadata": {},
     "output_type": "execute_result"
    }
   ],
   "source": [
    "X_train[0]"
   ]
  },
  {
   "cell_type": "markdown",
   "metadata": {},
   "source": [
    "Como esta en formato matriz, lo convierto a un tensor de 60000 imagenes que contiene matrices de 28x28"
   ]
  },
  {
   "cell_type": "code",
   "execution_count": 155,
   "metadata": {},
   "outputs": [],
   "source": [
    "X_train = X_train.reshape(60000,28,28)"
   ]
  },
  {
   "cell_type": "markdown",
   "metadata": {},
   "source": [
    "Idem en el test"
   ]
  },
  {
   "cell_type": "code",
   "execution_count": 156,
   "metadata": {},
   "outputs": [],
   "source": [
    "X_test = X_test.reshape(10000,28,28)"
   ]
  },
  {
   "cell_type": "markdown",
   "metadata": {},
   "source": [
    "Mostremos un ejemplo de como se ven las imagenes. Cambiar los valores de la variable Desde y Hasta para ver que imagenes queremos revisar"
   ]
  },
  {
   "cell_type": "code",
   "execution_count": 157,
   "metadata": {},
   "outputs": [],
   "source": [
    "import matplotlib.pyplot as plt"
   ]
  },
  {
   "cell_type": "code",
   "execution_count": 158,
   "metadata": {
    "scrolled": false
   },
   "outputs": [
    {
     "data": {
      "image/png": "[encoded data removed]",
      "text/plain": [
       "<Figure size 1440x1440 with 30 Axes>"
      ]
     },
     "metadata": {
      "needs_background": "light"
     },
     "output_type": "display_data"
    }
   ],
   "source": [
    "Desde = 0\n",
    "Hasta = 30\n",
    "imgs = X_train[Desde:Hasta]\n",
    "imgs2 = y_train[Desde:Hasta]\n",
    "\n",
    "rangoPlots = Hasta - Desde\n",
    "f, axarr = plt.subplots(1,rangoPlots, figsize=(20,20))\n",
    "\n",
    "for i in range(len(imgs)):    \n",
    "    axarr[i].imshow(imgs[i], cmap='binary', vmin=0, vmax=255)\n",
    "    axarr[i].set_title(imgs2[i])\n",
    "    axarr[i].axis('off')\n",
    "    "
   ]
  },
  {
   "cell_type": "markdown",
   "metadata": {},
   "source": [
    "Si queremos comparar como se ven imagenes de un target especifico ademas completar el Target deseado."
   ]
  },
  {
   "cell_type": "code",
   "execution_count": 159,
   "metadata": {},
   "outputs": [
    {
     "data": {
      "image/png": "[encoded data removed]",
      "text/plain": [
       "<Figure size 1440x1440 with 15 Axes>"
      ]
     },
     "metadata": {
      "needs_background": "light"
     },
     "output_type": "display_data"
    }
   ],
   "source": [
    "Target = '2'   #Con comillas porque estan en formato str\n",
    "Desde = 0\n",
    "Hasta = 15\n",
    "\n",
    "imgs = X_train[np.where(y_train==Target)]  #le paso los indices de los valores que tienen el mismo target\n",
    "imgs2 = y_train[y_train==Target]           #Me dejo los valores de target filtrados\n",
    "\n",
    "imgs = imgs[Desde:Hasta]                   #Aplico el filtro Desde-Hasta en ambos\n",
    "imgs2 = imgs2[Desde:Hasta]\n",
    "\n",
    "rangoPlots = Hasta - Desde\n",
    "f, axarr = plt.subplots(1,rangoPlots, figsize=(20,20))\n",
    "\n",
    "for i in range(len(imgs)):    \n",
    "    axarr[i].imshow(imgs[i], cmap='binary', vmin=0, vmax=255)\n",
    "    axarr[i].set_title(imgs2[i])\n",
    "    axarr[i].axis('off')"
   ]
  },
  {
   "cell_type": "markdown",
   "metadata": {},
   "source": [
    "### Sets de validacion <a class=\"anchor\" id=\"Validacion\"></a>"
   ]
  },
  {
   "cell_type": "markdown",
   "metadata": {},
   "source": [
    "Primero, cargo de nuevo los datos que ya se encontraban en formato plano, como los necesitamos para ingresar a sklearn:"
   ]
  },
  {
   "cell_type": "code",
   "execution_count": 160,
   "metadata": {},
   "outputs": [
    {
     "name": "stdout",
     "output_type": "stream",
     "text": [
      "El X_train cuenta con 60000 observaciones y 784 features/pixels.\n",
      "El X_train cuenta con 60000 observaciones para la variable y.\n",
      "El X_test cuenta con 10000 observaciones y 784 features/pixels.\n"
     ]
    }
   ],
   "source": [
    "X_train=np.load('Alumno/X_MNIST_60_mil.npy', allow_pickle=True)\n",
    "y_train=np.load('Alumno/Y_MNIST_60_mil.npy', allow_pickle=True)\n",
    "X_test=np.load('Alumno/X_MNIST_10_mil.npy', allow_pickle=True)\n",
    "print('El X_train cuenta con ' + str(X_train.shape[0]) + ' observaciones y ' + str(X_train.shape[1]) + ' features/pixels.')\n",
    "print('El X_train cuenta con ' + str(y_train.shape[0]) + ' observaciones para la variable y.')\n",
    "print('El X_test cuenta con ' + str(X_test.shape[0]) + ' observaciones y ' + str(X_test.shape[1]) + ' features/pixels.')"
   ]
  },
  {
   "cell_type": "markdown",
   "metadata": {},
   "source": [
    "Divido el X_train e y_train, para tener validation y usarlos en seleccion de hiperparametros"
   ]
  },
  {
   "cell_type": "code",
   "execution_count": 161,
   "metadata": {},
   "outputs": [],
   "source": [
    "from sklearn.model_selection import train_test_split\n",
    "\n",
    "X_val_train,X_val_test,y_val_train,y_val_test=train_test_split(X_train,y_train,test_size=0.2,random_state=123)"
   ]
  },
  {
   "cell_type": "markdown",
   "metadata": {},
   "source": [
    "### Preprocesamiento: normalizacion del dataset <a class=\"anchor\" id=\"Preprocesamiento\"></a>\n",
    "Como el valor maximo que puede asumir cualquiera de nuestros pixeles es 255, procedemos a dividir tanto X_train como X_test por ese valor para obtener asi un dataset entre 0 y 1"
   ]
  },
  {
   "cell_type": "code",
   "execution_count": 162,
   "metadata": {},
   "outputs": [
    {
     "name": "stdout",
     "output_type": "stream",
     "text": [
      "(48000, 784)\n",
      "(12000, 784)\n",
      "(48000,)\n",
      "(12000,)\n"
     ]
    }
   ],
   "source": [
    "print(X_val_train.shape)\n",
    "print(X_val_test.shape)\n",
    "print(y_val_train.shape)\n",
    "print(y_val_test.shape)"
   ]
  },
  {
   "cell_type": "code",
   "execution_count": 163,
   "metadata": {},
   "outputs": [
    {
     "data": {
      "text/plain": [
       "255.0"
      ]
     },
     "execution_count": 163,
     "metadata": {},
     "output_type": "execute_result"
    }
   ],
   "source": [
    "np.max(X_train)"
   ]
  },
  {
   "cell_type": "code",
   "execution_count": 165,
   "metadata": {},
   "outputs": [],
   "source": [
    "X_val_train = X_val_train / 255\n",
    "X_val_test = X_val_test / 255\n",
    "X_train = X_train / 255\n",
    "X_test = X_test / 255"
   ]
  },
  {
   "cell_type": "markdown",
   "metadata": {},
   "source": [
    "Chequeamos"
   ]
  },
  {
   "cell_type": "code",
   "execution_count": 166,
   "metadata": {},
   "outputs": [
    {
     "name": "stdout",
     "output_type": "stream",
     "text": [
      "1.0\n",
      "0.0\n"
     ]
    }
   ],
   "source": [
    "print(X_train.max())\n",
    "print(X_train.min())"
   ]
  },
  {
   "cell_type": "markdown",
   "metadata": {},
   "source": [
    "## Modelización - Seleccion de hiperparametros <a class=\"anchor\" id=\"Tuning-ML\"></a>"
   ]
  },
  {
   "cell_type": "markdown",
   "metadata": {},
   "source": [
    "### Baseline con AutoML Pycaret <a class=\"anchor\" id=\"Pycaret\"></a>"
   ]
  },
  {
   "cell_type": "code",
   "execution_count": 17,
   "metadata": {},
   "outputs": [],
   "source": [
    "from pycaret.classification import *"
   ]
  },
  {
   "cell_type": "code",
   "execution_count": 19,
   "metadata": {},
   "outputs": [
    {
     "data": {
      "text/plain": [
       "(60000, 785)"
      ]
     },
     "execution_count": 19,
     "metadata": {},
     "output_type": "execute_result"
    }
   ],
   "source": [
    "df1 = pd.DataFrame(X_train)\n",
    "df2 = pd.DataFrame(y_train, columns=['Target'])\n",
    "df = pd.concat([df1, df2], axis=1)\n",
    "df.shape"
   ]
  },
  {
   "cell_type": "markdown",
   "metadata": {},
   "source": [
    "#### PyCaret - Model Setup <a class=\"anchor\" id=\"Pycaret-1\"></a>"
   ]
  },
  {
   "cell_type": "code",
   "execution_count": 20,
   "metadata": {},
   "outputs": [
    {
     "data": {
      "text/html": [
       "<style  type=\"text/css\" >\n",
       "</style><table id=\"T_89fbb_\" ><thead>    <tr>        <th class=\"blank level0\" ></th>        <th class=\"col_heading level0 col0\" >Description</th>        <th class=\"col_heading level0 col1\" >Value</th>    </tr></thead><tbody>\n",
       "                <tr>\n",
       "                        <th id=\"T_89fbb_level0_row0\" class=\"row_heading level0 row0\" >0</th>\n",
       "                        <td id=\"T_89fbb_row0_col0\" class=\"data row0 col0\" >session_id</td>\n",
       "                        <td id=\"T_89fbb_row0_col1\" class=\"data row0 col1\" >5854</td>\n",
       "            </tr>\n",
       "            <tr>\n",
       "                        <th id=\"T_89fbb_level0_row1\" class=\"row_heading level0 row1\" >1</th>\n",
       "                        <td id=\"T_89fbb_row1_col0\" class=\"data row1 col0\" >Target</td>\n",
       "                        <td id=\"T_89fbb_row1_col1\" class=\"data row1 col1\" >Target</td>\n",
       "            </tr>\n",
       "            <tr>\n",
       "                        <th id=\"T_89fbb_level0_row2\" class=\"row_heading level0 row2\" >2</th>\n",
       "                        <td id=\"T_89fbb_row2_col0\" class=\"data row2 col0\" >Target Type</td>\n",
       "                        <td id=\"T_89fbb_row2_col1\" class=\"data row2 col1\" >Multiclass</td>\n",
       "            </tr>\n",
       "            <tr>\n",
       "                        <th id=\"T_89fbb_level0_row3\" class=\"row_heading level0 row3\" >3</th>\n",
       "                        <td id=\"T_89fbb_row3_col0\" class=\"data row3 col0\" >Label Encoded</td>\n",
       "                        <td id=\"T_89fbb_row3_col1\" class=\"data row3 col1\" >0: 0, 1: 1, 2: 2, 3: 3, 4: 4, 5: 5, 6: 6, 7: 7, 8: 8, 9: 9</td>\n",
       "            </tr>\n",
       "            <tr>\n",
       "                        <th id=\"T_89fbb_level0_row4\" class=\"row_heading level0 row4\" >4</th>\n",
       "                        <td id=\"T_89fbb_row4_col0\" class=\"data row4 col0\" >Original Data</td>\n",
       "                        <td id=\"T_89fbb_row4_col1\" class=\"data row4 col1\" >(60000, 785)</td>\n",
       "            </tr>\n",
       "            <tr>\n",
       "                        <th id=\"T_89fbb_level0_row5\" class=\"row_heading level0 row5\" >5</th>\n",
       "                        <td id=\"T_89fbb_row5_col0\" class=\"data row5 col0\" >Missing Values</td>\n",
       "                        <td id=\"T_89fbb_row5_col1\" class=\"data row5 col1\" >False</td>\n",
       "            </tr>\n",
       "            <tr>\n",
       "                        <th id=\"T_89fbb_level0_row6\" class=\"row_heading level0 row6\" >6</th>\n",
       "                        <td id=\"T_89fbb_row6_col0\" class=\"data row6 col0\" >Numeric Features</td>\n",
       "                        <td id=\"T_89fbb_row6_col1\" class=\"data row6 col1\" >759</td>\n",
       "            </tr>\n",
       "            <tr>\n",
       "                        <th id=\"T_89fbb_level0_row7\" class=\"row_heading level0 row7\" >7</th>\n",
       "                        <td id=\"T_89fbb_row7_col0\" class=\"data row7 col0\" >Categorical Features</td>\n",
       "                        <td id=\"T_89fbb_row7_col1\" class=\"data row7 col1\" >25</td>\n",
       "            </tr>\n",
       "            <tr>\n",
       "                        <th id=\"T_89fbb_level0_row8\" class=\"row_heading level0 row8\" >8</th>\n",
       "                        <td id=\"T_89fbb_row8_col0\" class=\"data row8 col0\" >Ordinal Features</td>\n",
       "                        <td id=\"T_89fbb_row8_col1\" class=\"data row8 col1\" >False</td>\n",
       "            </tr>\n",
       "            <tr>\n",
       "                        <th id=\"T_89fbb_level0_row9\" class=\"row_heading level0 row9\" >9</th>\n",
       "                        <td id=\"T_89fbb_row9_col0\" class=\"data row9 col0\" >High Cardinality Features</td>\n",
       "                        <td id=\"T_89fbb_row9_col1\" class=\"data row9 col1\" >False</td>\n",
       "            </tr>\n",
       "            <tr>\n",
       "                        <th id=\"T_89fbb_level0_row10\" class=\"row_heading level0 row10\" >10</th>\n",
       "                        <td id=\"T_89fbb_row10_col0\" class=\"data row10 col0\" >High Cardinality Method</td>\n",
       "                        <td id=\"T_89fbb_row10_col1\" class=\"data row10 col1\" >None</td>\n",
       "            </tr>\n",
       "            <tr>\n",
       "                        <th id=\"T_89fbb_level0_row11\" class=\"row_heading level0 row11\" >11</th>\n",
       "                        <td id=\"T_89fbb_row11_col0\" class=\"data row11 col0\" >Transformed Train Set</td>\n",
       "                        <td id=\"T_89fbb_row11_col1\" class=\"data row11 col1\" >(41999, 777)</td>\n",
       "            </tr>\n",
       "            <tr>\n",
       "                        <th id=\"T_89fbb_level0_row12\" class=\"row_heading level0 row12\" >12</th>\n",
       "                        <td id=\"T_89fbb_row12_col0\" class=\"data row12 col0\" >Transformed Test Set</td>\n",
       "                        <td id=\"T_89fbb_row12_col1\" class=\"data row12 col1\" >(18001, 777)</td>\n",
       "            </tr>\n",
       "            <tr>\n",
       "                        <th id=\"T_89fbb_level0_row13\" class=\"row_heading level0 row13\" >13</th>\n",
       "                        <td id=\"T_89fbb_row13_col0\" class=\"data row13 col0\" >Shuffle Train-Test</td>\n",
       "                        <td id=\"T_89fbb_row13_col1\" class=\"data row13 col1\" >True</td>\n",
       "            </tr>\n",
       "            <tr>\n",
       "                        <th id=\"T_89fbb_level0_row14\" class=\"row_heading level0 row14\" >14</th>\n",
       "                        <td id=\"T_89fbb_row14_col0\" class=\"data row14 col0\" >Stratify Train-Test</td>\n",
       "                        <td id=\"T_89fbb_row14_col1\" class=\"data row14 col1\" >False</td>\n",
       "            </tr>\n",
       "            <tr>\n",
       "                        <th id=\"T_89fbb_level0_row15\" class=\"row_heading level0 row15\" >15</th>\n",
       "                        <td id=\"T_89fbb_row15_col0\" class=\"data row15 col0\" >Fold Generator</td>\n",
       "                        <td id=\"T_89fbb_row15_col1\" class=\"data row15 col1\" >StratifiedKFold</td>\n",
       "            </tr>\n",
       "            <tr>\n",
       "                        <th id=\"T_89fbb_level0_row16\" class=\"row_heading level0 row16\" >16</th>\n",
       "                        <td id=\"T_89fbb_row16_col0\" class=\"data row16 col0\" >Fold Number</td>\n",
       "                        <td id=\"T_89fbb_row16_col1\" class=\"data row16 col1\" >10</td>\n",
       "            </tr>\n",
       "            <tr>\n",
       "                        <th id=\"T_89fbb_level0_row17\" class=\"row_heading level0 row17\" >17</th>\n",
       "                        <td id=\"T_89fbb_row17_col0\" class=\"data row17 col0\" >CPU Jobs</td>\n",
       "                        <td id=\"T_89fbb_row17_col1\" class=\"data row17 col1\" >-1</td>\n",
       "            </tr>\n",
       "            <tr>\n",
       "                        <th id=\"T_89fbb_level0_row18\" class=\"row_heading level0 row18\" >18</th>\n",
       "                        <td id=\"T_89fbb_row18_col0\" class=\"data row18 col0\" >Use GPU</td>\n",
       "                        <td id=\"T_89fbb_row18_col1\" class=\"data row18 col1\" >False</td>\n",
       "            </tr>\n",
       "            <tr>\n",
       "                        <th id=\"T_89fbb_level0_row19\" class=\"row_heading level0 row19\" >19</th>\n",
       "                        <td id=\"T_89fbb_row19_col0\" class=\"data row19 col0\" >Log Experiment</td>\n",
       "                        <td id=\"T_89fbb_row19_col1\" class=\"data row19 col1\" >False</td>\n",
       "            </tr>\n",
       "            <tr>\n",
       "                        <th id=\"T_89fbb_level0_row20\" class=\"row_heading level0 row20\" >20</th>\n",
       "                        <td id=\"T_89fbb_row20_col0\" class=\"data row20 col0\" >Experiment Name</td>\n",
       "                        <td id=\"T_89fbb_row20_col1\" class=\"data row20 col1\" >clf-default-name</td>\n",
       "            </tr>\n",
       "            <tr>\n",
       "                        <th id=\"T_89fbb_level0_row21\" class=\"row_heading level0 row21\" >21</th>\n",
       "                        <td id=\"T_89fbb_row21_col0\" class=\"data row21 col0\" >USI</td>\n",
       "                        <td id=\"T_89fbb_row21_col1\" class=\"data row21 col1\" >7ada</td>\n",
       "            </tr>\n",
       "            <tr>\n",
       "                        <th id=\"T_89fbb_level0_row22\" class=\"row_heading level0 row22\" >22</th>\n",
       "                        <td id=\"T_89fbb_row22_col0\" class=\"data row22 col0\" >Imputation Type</td>\n",
       "                        <td id=\"T_89fbb_row22_col1\" class=\"data row22 col1\" >simple</td>\n",
       "            </tr>\n",
       "            <tr>\n",
       "                        <th id=\"T_89fbb_level0_row23\" class=\"row_heading level0 row23\" >23</th>\n",
       "                        <td id=\"T_89fbb_row23_col0\" class=\"data row23 col0\" >Iterative Imputation Iteration</td>\n",
       "                        <td id=\"T_89fbb_row23_col1\" class=\"data row23 col1\" >None</td>\n",
       "            </tr>\n",
       "            <tr>\n",
       "                        <th id=\"T_89fbb_level0_row24\" class=\"row_heading level0 row24\" >24</th>\n",
       "                        <td id=\"T_89fbb_row24_col0\" class=\"data row24 col0\" >Numeric Imputer</td>\n",
       "                        <td id=\"T_89fbb_row24_col1\" class=\"data row24 col1\" >mean</td>\n",
       "            </tr>\n",
       "            <tr>\n",
       "                        <th id=\"T_89fbb_level0_row25\" class=\"row_heading level0 row25\" >25</th>\n",
       "                        <td id=\"T_89fbb_row25_col0\" class=\"data row25 col0\" >Iterative Imputation Numeric Model</td>\n",
       "                        <td id=\"T_89fbb_row25_col1\" class=\"data row25 col1\" >None</td>\n",
       "            </tr>\n",
       "            <tr>\n",
       "                        <th id=\"T_89fbb_level0_row26\" class=\"row_heading level0 row26\" >26</th>\n",
       "                        <td id=\"T_89fbb_row26_col0\" class=\"data row26 col0\" >Categorical Imputer</td>\n",
       "                        <td id=\"T_89fbb_row26_col1\" class=\"data row26 col1\" >constant</td>\n",
       "            </tr>\n",
       "            <tr>\n",
       "                        <th id=\"T_89fbb_level0_row27\" class=\"row_heading level0 row27\" >27</th>\n",
       "                        <td id=\"T_89fbb_row27_col0\" class=\"data row27 col0\" >Iterative Imputation Categorical Model</td>\n",
       "                        <td id=\"T_89fbb_row27_col1\" class=\"data row27 col1\" >None</td>\n",
       "            </tr>\n",
       "            <tr>\n",
       "                        <th id=\"T_89fbb_level0_row28\" class=\"row_heading level0 row28\" >28</th>\n",
       "                        <td id=\"T_89fbb_row28_col0\" class=\"data row28 col0\" >Unknown Categoricals Handling</td>\n",
       "                        <td id=\"T_89fbb_row28_col1\" class=\"data row28 col1\" >least_frequent</td>\n",
       "            </tr>\n",
       "            <tr>\n",
       "                        <th id=\"T_89fbb_level0_row29\" class=\"row_heading level0 row29\" >29</th>\n",
       "                        <td id=\"T_89fbb_row29_col0\" class=\"data row29 col0\" >Normalize</td>\n",
       "                        <td id=\"T_89fbb_row29_col1\" class=\"data row29 col1\" >False</td>\n",
       "            </tr>\n",
       "            <tr>\n",
       "                        <th id=\"T_89fbb_level0_row30\" class=\"row_heading level0 row30\" >30</th>\n",
       "                        <td id=\"T_89fbb_row30_col0\" class=\"data row30 col0\" >Normalize Method</td>\n",
       "                        <td id=\"T_89fbb_row30_col1\" class=\"data row30 col1\" >None</td>\n",
       "            </tr>\n",
       "            <tr>\n",
       "                        <th id=\"T_89fbb_level0_row31\" class=\"row_heading level0 row31\" >31</th>\n",
       "                        <td id=\"T_89fbb_row31_col0\" class=\"data row31 col0\" >Transformation</td>\n",
       "                        <td id=\"T_89fbb_row31_col1\" class=\"data row31 col1\" >False</td>\n",
       "            </tr>\n",
       "            <tr>\n",
       "                        <th id=\"T_89fbb_level0_row32\" class=\"row_heading level0 row32\" >32</th>\n",
       "                        <td id=\"T_89fbb_row32_col0\" class=\"data row32 col0\" >Transformation Method</td>\n",
       "                        <td id=\"T_89fbb_row32_col1\" class=\"data row32 col1\" >None</td>\n",
       "            </tr>\n",
       "            <tr>\n",
       "                        <th id=\"T_89fbb_level0_row33\" class=\"row_heading level0 row33\" >33</th>\n",
       "                        <td id=\"T_89fbb_row33_col0\" class=\"data row33 col0\" >PCA</td>\n",
       "                        <td id=\"T_89fbb_row33_col1\" class=\"data row33 col1\" >False</td>\n",
       "            </tr>\n",
       "            <tr>\n",
       "                        <th id=\"T_89fbb_level0_row34\" class=\"row_heading level0 row34\" >34</th>\n",
       "                        <td id=\"T_89fbb_row34_col0\" class=\"data row34 col0\" >PCA Method</td>\n",
       "                        <td id=\"T_89fbb_row34_col1\" class=\"data row34 col1\" >None</td>\n",
       "            </tr>\n",
       "            <tr>\n",
       "                        <th id=\"T_89fbb_level0_row35\" class=\"row_heading level0 row35\" >35</th>\n",
       "                        <td id=\"T_89fbb_row35_col0\" class=\"data row35 col0\" >PCA Components</td>\n",
       "                        <td id=\"T_89fbb_row35_col1\" class=\"data row35 col1\" >None</td>\n",
       "            </tr>\n",
       "            <tr>\n",
       "                        <th id=\"T_89fbb_level0_row36\" class=\"row_heading level0 row36\" >36</th>\n",
       "                        <td id=\"T_89fbb_row36_col0\" class=\"data row36 col0\" >Ignore Low Variance</td>\n",
       "                        <td id=\"T_89fbb_row36_col1\" class=\"data row36 col1\" >False</td>\n",
       "            </tr>\n",
       "            <tr>\n",
       "                        <th id=\"T_89fbb_level0_row37\" class=\"row_heading level0 row37\" >37</th>\n",
       "                        <td id=\"T_89fbb_row37_col0\" class=\"data row37 col0\" >Combine Rare Levels</td>\n",
       "                        <td id=\"T_89fbb_row37_col1\" class=\"data row37 col1\" >False</td>\n",
       "            </tr>\n",
       "            <tr>\n",
       "                        <th id=\"T_89fbb_level0_row38\" class=\"row_heading level0 row38\" >38</th>\n",
       "                        <td id=\"T_89fbb_row38_col0\" class=\"data row38 col0\" >Rare Level Threshold</td>\n",
       "                        <td id=\"T_89fbb_row38_col1\" class=\"data row38 col1\" >None</td>\n",
       "            </tr>\n",
       "            <tr>\n",
       "                        <th id=\"T_89fbb_level0_row39\" class=\"row_heading level0 row39\" >39</th>\n",
       "                        <td id=\"T_89fbb_row39_col0\" class=\"data row39 col0\" >Numeric Binning</td>\n",
       "                        <td id=\"T_89fbb_row39_col1\" class=\"data row39 col1\" >False</td>\n",
       "            </tr>\n",
       "            <tr>\n",
       "                        <th id=\"T_89fbb_level0_row40\" class=\"row_heading level0 row40\" >40</th>\n",
       "                        <td id=\"T_89fbb_row40_col0\" class=\"data row40 col0\" >Remove Outliers</td>\n",
       "                        <td id=\"T_89fbb_row40_col1\" class=\"data row40 col1\" >False</td>\n",
       "            </tr>\n",
       "            <tr>\n",
       "                        <th id=\"T_89fbb_level0_row41\" class=\"row_heading level0 row41\" >41</th>\n",
       "                        <td id=\"T_89fbb_row41_col0\" class=\"data row41 col0\" >Outliers Threshold</td>\n",
       "                        <td id=\"T_89fbb_row41_col1\" class=\"data row41 col1\" >None</td>\n",
       "            </tr>\n",
       "            <tr>\n",
       "                        <th id=\"T_89fbb_level0_row42\" class=\"row_heading level0 row42\" >42</th>\n",
       "                        <td id=\"T_89fbb_row42_col0\" class=\"data row42 col0\" >Remove Multicollinearity</td>\n",
       "                        <td id=\"T_89fbb_row42_col1\" class=\"data row42 col1\" >False</td>\n",
       "            </tr>\n",
       "            <tr>\n",
       "                        <th id=\"T_89fbb_level0_row43\" class=\"row_heading level0 row43\" >43</th>\n",
       "                        <td id=\"T_89fbb_row43_col0\" class=\"data row43 col0\" >Multicollinearity Threshold</td>\n",
       "                        <td id=\"T_89fbb_row43_col1\" class=\"data row43 col1\" >None</td>\n",
       "            </tr>\n",
       "            <tr>\n",
       "                        <th id=\"T_89fbb_level0_row44\" class=\"row_heading level0 row44\" >44</th>\n",
       "                        <td id=\"T_89fbb_row44_col0\" class=\"data row44 col0\" >Clustering</td>\n",
       "                        <td id=\"T_89fbb_row44_col1\" class=\"data row44 col1\" >False</td>\n",
       "            </tr>\n",
       "            <tr>\n",
       "                        <th id=\"T_89fbb_level0_row45\" class=\"row_heading level0 row45\" >45</th>\n",
       "                        <td id=\"T_89fbb_row45_col0\" class=\"data row45 col0\" >Clustering Iteration</td>\n",
       "                        <td id=\"T_89fbb_row45_col1\" class=\"data row45 col1\" >None</td>\n",
       "            </tr>\n",
       "            <tr>\n",
       "                        <th id=\"T_89fbb_level0_row46\" class=\"row_heading level0 row46\" >46</th>\n",
       "                        <td id=\"T_89fbb_row46_col0\" class=\"data row46 col0\" >Polynomial Features</td>\n",
       "                        <td id=\"T_89fbb_row46_col1\" class=\"data row46 col1\" >False</td>\n",
       "            </tr>\n",
       "            <tr>\n",
       "                        <th id=\"T_89fbb_level0_row47\" class=\"row_heading level0 row47\" >47</th>\n",
       "                        <td id=\"T_89fbb_row47_col0\" class=\"data row47 col0\" >Polynomial Degree</td>\n",
       "                        <td id=\"T_89fbb_row47_col1\" class=\"data row47 col1\" >None</td>\n",
       "            </tr>\n",
       "            <tr>\n",
       "                        <th id=\"T_89fbb_level0_row48\" class=\"row_heading level0 row48\" >48</th>\n",
       "                        <td id=\"T_89fbb_row48_col0\" class=\"data row48 col0\" >Trignometry Features</td>\n",
       "                        <td id=\"T_89fbb_row48_col1\" class=\"data row48 col1\" >False</td>\n",
       "            </tr>\n",
       "            <tr>\n",
       "                        <th id=\"T_89fbb_level0_row49\" class=\"row_heading level0 row49\" >49</th>\n",
       "                        <td id=\"T_89fbb_row49_col0\" class=\"data row49 col0\" >Polynomial Threshold</td>\n",
       "                        <td id=\"T_89fbb_row49_col1\" class=\"data row49 col1\" >None</td>\n",
       "            </tr>\n",
       "            <tr>\n",
       "                        <th id=\"T_89fbb_level0_row50\" class=\"row_heading level0 row50\" >50</th>\n",
       "                        <td id=\"T_89fbb_row50_col0\" class=\"data row50 col0\" >Group Features</td>\n",
       "                        <td id=\"T_89fbb_row50_col1\" class=\"data row50 col1\" >False</td>\n",
       "            </tr>\n",
       "            <tr>\n",
       "                        <th id=\"T_89fbb_level0_row51\" class=\"row_heading level0 row51\" >51</th>\n",
       "                        <td id=\"T_89fbb_row51_col0\" class=\"data row51 col0\" >Feature Selection</td>\n",
       "                        <td id=\"T_89fbb_row51_col1\" class=\"data row51 col1\" >False</td>\n",
       "            </tr>\n",
       "            <tr>\n",
       "                        <th id=\"T_89fbb_level0_row52\" class=\"row_heading level0 row52\" >52</th>\n",
       "                        <td id=\"T_89fbb_row52_col0\" class=\"data row52 col0\" >Feature Selection Method</td>\n",
       "                        <td id=\"T_89fbb_row52_col1\" class=\"data row52 col1\" >classic</td>\n",
       "            </tr>\n",
       "            <tr>\n",
       "                        <th id=\"T_89fbb_level0_row53\" class=\"row_heading level0 row53\" >53</th>\n",
       "                        <td id=\"T_89fbb_row53_col0\" class=\"data row53 col0\" >Features Selection Threshold</td>\n",
       "                        <td id=\"T_89fbb_row53_col1\" class=\"data row53 col1\" >None</td>\n",
       "            </tr>\n",
       "            <tr>\n",
       "                        <th id=\"T_89fbb_level0_row54\" class=\"row_heading level0 row54\" >54</th>\n",
       "                        <td id=\"T_89fbb_row54_col0\" class=\"data row54 col0\" >Feature Interaction</td>\n",
       "                        <td id=\"T_89fbb_row54_col1\" class=\"data row54 col1\" >False</td>\n",
       "            </tr>\n",
       "            <tr>\n",
       "                        <th id=\"T_89fbb_level0_row55\" class=\"row_heading level0 row55\" >55</th>\n",
       "                        <td id=\"T_89fbb_row55_col0\" class=\"data row55 col0\" >Feature Ratio</td>\n",
       "                        <td id=\"T_89fbb_row55_col1\" class=\"data row55 col1\" >False</td>\n",
       "            </tr>\n",
       "            <tr>\n",
       "                        <th id=\"T_89fbb_level0_row56\" class=\"row_heading level0 row56\" >56</th>\n",
       "                        <td id=\"T_89fbb_row56_col0\" class=\"data row56 col0\" >Interaction Threshold</td>\n",
       "                        <td id=\"T_89fbb_row56_col1\" class=\"data row56 col1\" >None</td>\n",
       "            </tr>\n",
       "            <tr>\n",
       "                        <th id=\"T_89fbb_level0_row57\" class=\"row_heading level0 row57\" >57</th>\n",
       "                        <td id=\"T_89fbb_row57_col0\" class=\"data row57 col0\" >Fix Imbalance</td>\n",
       "                        <td id=\"T_89fbb_row57_col1\" class=\"data row57 col1\" >False</td>\n",
       "            </tr>\n",
       "            <tr>\n",
       "                        <th id=\"T_89fbb_level0_row58\" class=\"row_heading level0 row58\" >58</th>\n",
       "                        <td id=\"T_89fbb_row58_col0\" class=\"data row58 col0\" >Fix Imbalance Method</td>\n",
       "                        <td id=\"T_89fbb_row58_col1\" class=\"data row58 col1\" >SMOTE</td>\n",
       "            </tr>\n",
       "    </tbody></table>"
      ],
      "text/plain": [
       "<pandas.io.formats.style.Styler at 0x25bacacc588>"
      ]
     },
     "metadata": {},
     "output_type": "display_data"
    }
   ],
   "source": [
    "clf=setup(data=df,target='Target')"
   ]
  },
  {
   "cell_type": "markdown",
   "metadata": {},
   "source": [
    "#### PyCaret - Overview <a class=\"anchor\" id=\"Pycaret-2\"></a>"
   ]
  },
  {
   "cell_type": "code",
   "execution_count": 25,
   "metadata": {},
   "outputs": [
    {
     "data": {
      "text/html": [
       "<style  type=\"text/css\" >\n",
       "    #T_0c848_ th {\n",
       "          text-align: left;\n",
       "    }#T_0c848_row0_col0,#T_0c848_row0_col2,#T_0c848_row1_col0,#T_0c848_row1_col1,#T_0c848_row1_col3,#T_0c848_row1_col4,#T_0c848_row1_col5,#T_0c848_row1_col6,#T_0c848_row1_col7,#T_0c848_row2_col0,#T_0c848_row2_col1,#T_0c848_row2_col2,#T_0c848_row2_col3,#T_0c848_row2_col4,#T_0c848_row2_col5,#T_0c848_row2_col6,#T_0c848_row2_col7,#T_0c848_row3_col0,#T_0c848_row3_col1,#T_0c848_row3_col2,#T_0c848_row3_col3,#T_0c848_row3_col4,#T_0c848_row3_col5,#T_0c848_row3_col6,#T_0c848_row3_col7,#T_0c848_row4_col0,#T_0c848_row4_col1,#T_0c848_row4_col2,#T_0c848_row4_col3,#T_0c848_row4_col4,#T_0c848_row4_col5,#T_0c848_row4_col6,#T_0c848_row4_col7,#T_0c848_row5_col0,#T_0c848_row5_col1,#T_0c848_row5_col2,#T_0c848_row5_col3,#T_0c848_row5_col4,#T_0c848_row5_col5,#T_0c848_row5_col6,#T_0c848_row5_col7{\n",
       "            text-align:  left;\n",
       "            text-align:  left;\n",
       "        }#T_0c848_row0_col1,#T_0c848_row0_col3,#T_0c848_row0_col4,#T_0c848_row0_col5,#T_0c848_row0_col6,#T_0c848_row0_col7,#T_0c848_row1_col2{\n",
       "            text-align:  left;\n",
       "            text-align:  left;\n",
       "            background-color:  yellow;\n",
       "        }#T_0c848_row0_col8,#T_0c848_row1_col8,#T_0c848_row2_col8,#T_0c848_row3_col8,#T_0c848_row4_col8{\n",
       "            text-align:  left;\n",
       "            text-align:  left;\n",
       "            background-color:  lightgrey;\n",
       "        }#T_0c848_row5_col8{\n",
       "            text-align:  left;\n",
       "            text-align:  left;\n",
       "            background-color:  yellow;\n",
       "            background-color:  lightgrey;\n",
       "        }</style><table id=\"T_0c848_\" ><thead>    <tr>        <th class=\"blank level0\" ></th>        <th class=\"col_heading level0 col0\" >Model</th>        <th class=\"col_heading level0 col1\" >Accuracy</th>        <th class=\"col_heading level0 col2\" >AUC</th>        <th class=\"col_heading level0 col3\" >Recall</th>        <th class=\"col_heading level0 col4\" >Prec.</th>        <th class=\"col_heading level0 col5\" >F1</th>        <th class=\"col_heading level0 col6\" >Kappa</th>        <th class=\"col_heading level0 col7\" >MCC</th>        <th class=\"col_heading level0 col8\" >TT (Sec)</th>    </tr></thead><tbody>\n",
       "                <tr>\n",
       "                        <th id=\"T_0c848_level0_row0\" class=\"row_heading level0 row0\" >knn</th>\n",
       "                        <td id=\"T_0c848_row0_col0\" class=\"data row0 col0\" >K Neighbors Classifier</td>\n",
       "                        <td id=\"T_0c848_row0_col1\" class=\"data row0 col1\" >0.9674</td>\n",
       "                        <td id=\"T_0c848_row0_col2\" class=\"data row0 col2\" >0.9949</td>\n",
       "                        <td id=\"T_0c848_row0_col3\" class=\"data row0 col3\" >0.9669</td>\n",
       "                        <td id=\"T_0c848_row0_col4\" class=\"data row0 col4\" >0.9678</td>\n",
       "                        <td id=\"T_0c848_row0_col5\" class=\"data row0 col5\" >0.9674</td>\n",
       "                        <td id=\"T_0c848_row0_col6\" class=\"data row0 col6\" >0.9638</td>\n",
       "                        <td id=\"T_0c848_row0_col7\" class=\"data row0 col7\" >0.9638</td>\n",
       "                        <td id=\"T_0c848_row0_col8\" class=\"data row0 col8\" >207.4240</td>\n",
       "            </tr>\n",
       "            <tr>\n",
       "                        <th id=\"T_0c848_level0_row1\" class=\"row_heading level0 row1\" >rf</th>\n",
       "                        <td id=\"T_0c848_row1_col0\" class=\"data row1 col0\" >Random Forest Classifier</td>\n",
       "                        <td id=\"T_0c848_row1_col1\" class=\"data row1 col1\" >0.9654</td>\n",
       "                        <td id=\"T_0c848_row1_col2\" class=\"data row1 col2\" >0.9987</td>\n",
       "                        <td id=\"T_0c848_row1_col3\" class=\"data row1 col3\" >0.9650</td>\n",
       "                        <td id=\"T_0c848_row1_col4\" class=\"data row1 col4\" >0.9654</td>\n",
       "                        <td id=\"T_0c848_row1_col5\" class=\"data row1 col5\" >0.9653</td>\n",
       "                        <td id=\"T_0c848_row1_col6\" class=\"data row1 col6\" >0.9615</td>\n",
       "                        <td id=\"T_0c848_row1_col7\" class=\"data row1 col7\" >0.9615</td>\n",
       "                        <td id=\"T_0c848_row1_col8\" class=\"data row1 col8\" >14.8400</td>\n",
       "            </tr>\n",
       "            <tr>\n",
       "                        <th id=\"T_0c848_level0_row2\" class=\"row_heading level0 row2\" >lr</th>\n",
       "                        <td id=\"T_0c848_row2_col0\" class=\"data row2 col0\" >Logistic Regression</td>\n",
       "                        <td id=\"T_0c848_row2_col1\" class=\"data row2 col1\" >0.9043</td>\n",
       "                        <td id=\"T_0c848_row2_col2\" class=\"data row2 col2\" >0.9905</td>\n",
       "                        <td id=\"T_0c848_row2_col3\" class=\"data row2 col3\" >0.9029</td>\n",
       "                        <td id=\"T_0c848_row2_col4\" class=\"data row2 col4\" >0.9043</td>\n",
       "                        <td id=\"T_0c848_row2_col5\" class=\"data row2 col5\" >0.9041</td>\n",
       "                        <td id=\"T_0c848_row2_col6\" class=\"data row2 col6\" >0.8937</td>\n",
       "                        <td id=\"T_0c848_row2_col7\" class=\"data row2 col7\" >0.8937</td>\n",
       "                        <td id=\"T_0c848_row2_col8\" class=\"data row2 col8\" >113.9010</td>\n",
       "            </tr>\n",
       "            <tr>\n",
       "                        <th id=\"T_0c848_level0_row3\" class=\"row_heading level0 row3\" >svm</th>\n",
       "                        <td id=\"T_0c848_row3_col0\" class=\"data row3 col0\" >SVM - Linear Kernel</td>\n",
       "                        <td id=\"T_0c848_row3_col1\" class=\"data row3 col1\" >0.8780</td>\n",
       "                        <td id=\"T_0c848_row3_col2\" class=\"data row3 col2\" >0.0000</td>\n",
       "                        <td id=\"T_0c848_row3_col3\" class=\"data row3 col3\" >0.8764</td>\n",
       "                        <td id=\"T_0c848_row3_col4\" class=\"data row3 col4\" >0.8840</td>\n",
       "                        <td id=\"T_0c848_row3_col5\" class=\"data row3 col5\" >0.8784</td>\n",
       "                        <td id=\"T_0c848_row3_col6\" class=\"data row3 col6\" >0.8644</td>\n",
       "                        <td id=\"T_0c848_row3_col7\" class=\"data row3 col7\" >0.8650</td>\n",
       "                        <td id=\"T_0c848_row3_col8\" class=\"data row3 col8\" >32.5530</td>\n",
       "            </tr>\n",
       "            <tr>\n",
       "                        <th id=\"T_0c848_level0_row4\" class=\"row_heading level0 row4\" >dt</th>\n",
       "                        <td id=\"T_0c848_row4_col0\" class=\"data row4 col0\" >Decision Tree Classifier</td>\n",
       "                        <td id=\"T_0c848_row4_col1\" class=\"data row4 col1\" >0.8623</td>\n",
       "                        <td id=\"T_0c848_row4_col2\" class=\"data row4 col2\" >0.9236</td>\n",
       "                        <td id=\"T_0c848_row4_col3\" class=\"data row4 col3\" >0.8603</td>\n",
       "                        <td id=\"T_0c848_row4_col4\" class=\"data row4 col4\" >0.8623</td>\n",
       "                        <td id=\"T_0c848_row4_col5\" class=\"data row4 col5\" >0.8621</td>\n",
       "                        <td id=\"T_0c848_row4_col6\" class=\"data row4 col6\" >0.8469</td>\n",
       "                        <td id=\"T_0c848_row4_col7\" class=\"data row4 col7\" >0.8469</td>\n",
       "                        <td id=\"T_0c848_row4_col8\" class=\"data row4 col8\" >7.4950</td>\n",
       "            </tr>\n",
       "            <tr>\n",
       "                        <th id=\"T_0c848_level0_row5\" class=\"row_heading level0 row5\" >ridge</th>\n",
       "                        <td id=\"T_0c848_row5_col0\" class=\"data row5 col0\" >Ridge Classifier</td>\n",
       "                        <td id=\"T_0c848_row5_col1\" class=\"data row5 col1\" >0.8509</td>\n",
       "                        <td id=\"T_0c848_row5_col2\" class=\"data row5 col2\" >0.0000</td>\n",
       "                        <td id=\"T_0c848_row5_col3\" class=\"data row5 col3\" >0.8481</td>\n",
       "                        <td id=\"T_0c848_row5_col4\" class=\"data row5 col4\" >0.8522</td>\n",
       "                        <td id=\"T_0c848_row5_col5\" class=\"data row5 col5\" >0.8494</td>\n",
       "                        <td id=\"T_0c848_row5_col6\" class=\"data row5 col6\" >0.8343</td>\n",
       "                        <td id=\"T_0c848_row5_col7\" class=\"data row5 col7\" >0.8348</td>\n",
       "                        <td id=\"T_0c848_row5_col8\" class=\"data row5 col8\" >0.7930</td>\n",
       "            </tr>\n",
       "    </tbody></table>"
      ],
      "text/plain": [
       "<pandas.io.formats.style.Styler at 0x215352a9588>"
      ]
     },
     "metadata": {},
     "output_type": "display_data"
    }
   ],
   "source": [
    "best_specific = compare_models(include = ['lr','knn','dt','svm','ridge','rf'])"
   ]
  },
  {
   "cell_type": "markdown",
   "metadata": {},
   "source": [
    "## Modelizacion clasica con GridSearchCV - Tuning de hiperparametros <a class=\"anchor\" id=\"MLClasico-Tuning\"></a>"
   ]
  },
  {
   "cell_type": "code",
   "execution_count": 167,
   "metadata": {},
   "outputs": [],
   "source": [
    "from sklearn.model_selection import cross_validate\n",
    "from sklearn.model_selection import GridSearchCV"
   ]
  },
  {
   "cell_type": "markdown",
   "metadata": {},
   "source": [
    "### Modelización Regresión Logística Ridge <a class=\"anchor\" id=\"GS-RL\"></a>"
   ]
  },
  {
   "cell_type": "code",
   "execution_count": 168,
   "metadata": {},
   "outputs": [],
   "source": [
    "from sklearn.linear_model import LogisticRegression"
   ]
  },
  {
   "cell_type": "code",
   "execution_count": 169,
   "metadata": {},
   "outputs": [
    {
     "name": "stdout",
     "output_type": "stream",
     "text": [
      "Fitting 3 folds for each of 5 candidates, totalling 15 fits\n"
     ]
    },
    {
     "name": "stderr",
     "output_type": "stream",
     "text": [
      "[Parallel(n_jobs=-1)]: Using backend LokyBackend with 4 concurrent workers.\n",
      "[Parallel(n_jobs=-1)]: Done  15 out of  15 | elapsed:  3.7min finished\n"
     ]
    }
   ],
   "source": [
    "# Creamos el modelo con los parámetros que no cambiarán, observe que no le pasamos el valor de C de regulrización\n",
    "Log_Ridge=LogisticRegression(penalty='l2', max_iter=10000, tol=0.0001) \n",
    "\n",
    "# Armamos el diccionario con el  nombre y valores para los Hiperparámetros\n",
    "parametros_RL = {'C':[0.01,0.1,1,10,100]}   \n",
    "\n",
    "# Armamos el GridSearchCV\n",
    "grid_RL = GridSearchCV(estimator = Log_Ridge,param_grid = parametros_RL,scoring = 'accuracy', cv = 3, verbose = 1,\n",
    "                        n_jobs = -1)\n",
    "\n",
    "# Lo entrenamos en el Train Set (él lo dividirá internamente y en cada fold estarán en ValTrain y ValTest)\n",
    "grid_RL.fit(X_val_train, y_val_train);"
   ]
  },
  {
   "cell_type": "code",
   "execution_count": 170,
   "metadata": {},
   "outputs": [
    {
     "data": {
      "text/plain": [
       "0.8910625"
      ]
     },
     "execution_count": 170,
     "metadata": {},
     "output_type": "execute_result"
    }
   ],
   "source": [
    "# Obtenemos el mejor AC \n",
    "AC_RL_best=grid_RL.best_score_\n",
    "AC_RL_best"
   ]
  },
  {
   "cell_type": "code",
   "execution_count": 171,
   "metadata": {},
   "outputs": [
    {
     "data": {
      "text/plain": [
       "{'C': 100}"
      ]
     },
     "execution_count": 171,
     "metadata": {},
     "output_type": "execute_result"
    }
   ],
   "source": [
    "#Mejor regularizacion C\n",
    "parametros_RL_best=grid_RL.best_params_\n",
    "parametros_RL_best"
   ]
  },
  {
   "cell_type": "code",
   "execution_count": 172,
   "metadata": {},
   "outputs": [
    {
     "data": {
      "text/plain": [
       "LogisticRegression(C=100, max_iter=10000)"
      ]
     },
     "execution_count": 172,
     "metadata": {},
     "output_type": "execute_result"
    }
   ],
   "source": [
    "#Mejor modelo RL\n",
    "modelo_RL_best=grid_RL.best_estimator_\n",
    "modelo_RL_best"
   ]
  },
  {
   "cell_type": "code",
   "execution_count": 173,
   "metadata": {},
   "outputs": [
    {
     "data": {
      "text/plain": [
       "0.0009776140172208484"
      ]
     },
     "execution_count": 173,
     "metadata": {},
     "output_type": "execute_result"
    }
   ],
   "source": [
    "# Podemos calcular el desvío standard para el mejor caso:\n",
    "desvios_RL = grid_RL.cv_results_['std_test_score'] \n",
    "desvio_mejor_RL=desvios_RL[grid_RL.best_index_]\n",
    "desvio_mejor_RL"
   ]
  },
  {
   "cell_type": "code",
   "execution_count": 174,
   "metadata": {},
   "outputs": [
    {
     "name": "stdout",
     "output_type": "stream",
     "text": [
      "Modelo de Regresión Logística  con Regularización Ridge\n",
      "Mejor Accuracy:  0.891  +/-  0.002 ( 95% )\n",
      "Lectura del intervalo: Con un 95% de confianza, podemos decir que el modelo clasificará correctamente en producción entre el:  89.0 % y el  89.0 % de las observaciones\n"
     ]
    }
   ],
   "source": [
    "print(\"Modelo de Regresión Logística  con Regularización Ridge\")\n",
    "\n",
    "print(\"Mejor Accuracy: \",round(AC_RL_best,3),' +/- ', round(2*desvio_mejor_RL,3), '( 95% )')\n",
    "\n",
    "print(\"Lectura del intervalo: Con un 95% de confianza, podemos decir que el modelo clasificará correctamente en producción entre el: \",round(AC_RL_best - desvio_mejor_RL,2)*100,'% y el ',round(AC_RL_best + 2*desvio_mejor_RL,2)*100 , '% de las observaciones')"
   ]
  },
  {
   "cell_type": "markdown",
   "metadata": {},
   "source": [
    "### Modelización kNN  <a class=\"anchor\" id=\"GS-kNN\"></a>"
   ]
  },
  {
   "cell_type": "code",
   "execution_count": 175,
   "metadata": {},
   "outputs": [
    {
     "name": "stdout",
     "output_type": "stream",
     "text": [
      "Evaluación modelo kNN en el Validation\n",
      "Fitting 3 folds for each of 6 candidates, totalling 18 fits\n"
     ]
    },
    {
     "name": "stderr",
     "output_type": "stream",
     "text": [
      "[Parallel(n_jobs=-1)]: Using backend LokyBackend with 4 concurrent workers.\n",
      "[Parallel(n_jobs=-1)]: Done  18 out of  18 | elapsed: 109.6min finished\n"
     ]
    }
   ],
   "source": [
    "from sklearn import neighbors \n",
    "from sklearn.metrics import confusion_matrix, accuracy_score, f1_score\n",
    "\n",
    "import warnings\n",
    "warnings.simplefilter('ignore')\n",
    "\n",
    "print(\"Evaluación modelo kNN en el Validation\")\n",
    "\n",
    "# Creamos el modelo con los parámetros que no cambiarán, observe que no le pasamos el valor de C de regulrización\n",
    "kNN=neighbors.KNeighborsClassifier()\n",
    "\n",
    "# Armamos el diccionario con el  nombre y valores para los Hiperparámetros\n",
    "parametros_kNN = {'n_neighbors':np.arange(2,5,1),'weights':['uniform','distance']}\n",
    "\n",
    "# Armamos el GridSearchCV\n",
    "grid_kNN = GridSearchCV(estimator = kNN,param_grid = parametros_kNN,scoring = 'accuracy', cv = 3, verbose = 1,\n",
    "                        n_jobs = -1)\n",
    "\n",
    "# Lo entrenamos en el Train Set (él lo dividirá internamente y en cada fold estarán en ValTrain y ValTest)\n",
    "grid_kNN.fit(X_val_train, y_val_train);"
   ]
  },
  {
   "cell_type": "code",
   "execution_count": 176,
   "metadata": {},
   "outputs": [
    {
     "data": {
      "text/plain": [
       "0.96875"
      ]
     },
     "execution_count": 176,
     "metadata": {},
     "output_type": "execute_result"
    }
   ],
   "source": [
    "# Obtenemos el mejor AC \n",
    "AC_kNN_best=grid_kNN.best_score_\n",
    "AC_kNN_best"
   ]
  },
  {
   "cell_type": "code",
   "execution_count": 177,
   "metadata": {},
   "outputs": [
    {
     "data": {
      "text/plain": [
       "{'n_neighbors': 4, 'weights': 'distance'}"
      ]
     },
     "execution_count": 177,
     "metadata": {},
     "output_type": "execute_result"
    }
   ],
   "source": [
    "parametros_kNN_best=grid_kNN.best_params_\n",
    "parametros_kNN_best"
   ]
  },
  {
   "cell_type": "code",
   "execution_count": 178,
   "metadata": {},
   "outputs": [
    {
     "data": {
      "text/plain": [
       "KNeighborsClassifier(n_neighbors=4, weights='distance')"
      ]
     },
     "execution_count": 178,
     "metadata": {},
     "output_type": "execute_result"
    }
   ],
   "source": [
    "modelo_RL_best=grid_kNN.best_estimator_\n",
    "modelo_RL_best"
   ]
  },
  {
   "cell_type": "code",
   "execution_count": 179,
   "metadata": {},
   "outputs": [
    {
     "data": {
      "text/plain": [
       "0.0010244409044287133"
      ]
     },
     "execution_count": 179,
     "metadata": {},
     "output_type": "execute_result"
    }
   ],
   "source": [
    "# Podemos calcular el desvío standard para el mejor caso:\n",
    "desvios_kNN = grid_kNN.cv_results_['std_test_score'] \n",
    "desvio_mejor_kNN=desvios_kNN[grid_kNN.best_index_]\n",
    "desvio_mejor_kNN"
   ]
  },
  {
   "cell_type": "code",
   "execution_count": 180,
   "metadata": {},
   "outputs": [
    {
     "name": "stdout",
     "output_type": "stream",
     "text": [
      "Modelo de kNN\n",
      "Mejor Accuracy:  0.969  +/-  0.002 ( 95% )\n",
      "Lectura del intervalo: Con un 95% de confianza, podemos decir que el modelo clasificará correctamente en producción entre el:  89.0 % y el  89.0 % de las observaciones\n"
     ]
    }
   ],
   "source": [
    "print(\"Modelo de kNN\")\n",
    "\n",
    "print(\"Mejor Accuracy: \",round(AC_kNN_best,3),' +/- ', round(2*desvio_mejor_kNN,3), '( 95% )')\n",
    "\n",
    "print(\"Lectura del intervalo: Con un 95% de confianza, podemos decir que el modelo clasificará correctamente en producción entre el: \",round(AC_RL_best - desvio_mejor_RL,2)*100,'% y el ',round(AC_RL_best + 2*desvio_mejor_RL,2)*100 , '% de las observaciones')"
   ]
  },
  {
   "cell_type": "markdown",
   "metadata": {},
   "source": [
    "### Modelización Arbol  <a class=\"anchor\" id=\"GS-DT\"></a>"
   ]
  },
  {
   "cell_type": "code",
   "execution_count": 181,
   "metadata": {},
   "outputs": [],
   "source": [
    "from sklearn.tree import DecisionTreeClassifier "
   ]
  },
  {
   "cell_type": "code",
   "execution_count": 182,
   "metadata": {},
   "outputs": [
    {
     "name": "stdout",
     "output_type": "stream",
     "text": [
      "Fitting 3 folds for each of 5 candidates, totalling 15 fits\n"
     ]
    },
    {
     "name": "stderr",
     "output_type": "stream",
     "text": [
      "[Parallel(n_jobs=-1)]: Using backend LokyBackend with 4 concurrent workers.\n",
      "[Parallel(n_jobs=-1)]: Done  15 out of  15 | elapsed:   50.2s finished\n"
     ]
    }
   ],
   "source": [
    "parametros_arbol = {'max_depth':np.arange(1,20,4)}\n",
    "arbol=DecisionTreeClassifier(random_state=123)  # para que sea repetible\n",
    "grid_arbol = GridSearchCV(estimator = arbol,param_grid = parametros_arbol,scoring = 'accuracy', cv = 3, verbose = 1,n_jobs = -1)\n",
    "grid_arbol.fit(X_val_train, y_val_train);   # el \";\" al final es para que no muestre toodos los parámetros que va a usar."
   ]
  },
  {
   "cell_type": "code",
   "execution_count": 183,
   "metadata": {},
   "outputs": [
    {
     "data": {
      "text/plain": [
       "0.8572500000000001"
      ]
     },
     "execution_count": 183,
     "metadata": {},
     "output_type": "execute_result"
    }
   ],
   "source": [
    "AC_arbol_best=grid_arbol.best_score_\n",
    "AC_arbol_best"
   ]
  },
  {
   "cell_type": "code",
   "execution_count": 184,
   "metadata": {},
   "outputs": [
    {
     "data": {
      "text/plain": [
       "{'max_depth': 17}"
      ]
     },
     "execution_count": 184,
     "metadata": {},
     "output_type": "execute_result"
    }
   ],
   "source": [
    "parametros_arbol_best=grid_arbol.best_params_\n",
    "parametros_arbol_best"
   ]
  },
  {
   "cell_type": "code",
   "execution_count": 185,
   "metadata": {},
   "outputs": [
    {
     "data": {
      "text/plain": [
       "DecisionTreeClassifier(max_depth=17, random_state=123)"
      ]
     },
     "execution_count": 185,
     "metadata": {},
     "output_type": "execute_result"
    }
   ],
   "source": [
    "modelo_arbol_best=grid_arbol.best_estimator_\n",
    "modelo_arbol_best"
   ]
  },
  {
   "cell_type": "code",
   "execution_count": 186,
   "metadata": {},
   "outputs": [
    {
     "data": {
      "text/plain": [
       "array([0.00281659, 0.00808178, 0.00538621, 0.00470049, 0.0041674 ])"
      ]
     },
     "execution_count": 186,
     "metadata": {},
     "output_type": "execute_result"
    }
   ],
   "source": [
    "desvios_arbol=grid_arbol.cv_results_['std_test_score']\n",
    "desvios_arbol"
   ]
  },
  {
   "cell_type": "code",
   "execution_count": 187,
   "metadata": {},
   "outputs": [],
   "source": [
    "desvio_arbol_mejor=desvios_arbol[grid_arbol.best_index_] #Obtengo el desvío del mejor arbol"
   ]
  },
  {
   "cell_type": "code",
   "execution_count": 188,
   "metadata": {},
   "outputs": [
    {
     "name": "stdout",
     "output_type": "stream",
     "text": [
      "Modelo de Árbol\n",
      "Mejor Accuracy:  0.857  +/-  0.008 ( 95% )\n",
      "Lectura del intervalo: Con un 95% de confianza, podemos decir que el modelo clasificará correctamente en producción entre el:  85.0 % y el  87.0 % de las observaciones\n"
     ]
    }
   ],
   "source": [
    "print(\"Modelo de Árbol\")\n",
    "\n",
    "print(\"Mejor Accuracy: \",round(AC_arbol_best,3),' +/- ', round(2*desvio_arbol_mejor,3), '( 95% )')\n",
    "\n",
    "print(\"Lectura del intervalo: Con un 95% de confianza, podemos decir que el modelo clasificará correctamente en producción entre el: \",round(AC_arbol_best - desvio_arbol_mejor,2)*100,'% y el ',round(AC_arbol_best + 2*desvio_arbol_mejor,2)*100 , '% de las observaciones')"
   ]
  },
  {
   "cell_type": "markdown",
   "metadata": {},
   "source": [
    "### Modelización SVM  <a class=\"anchor\" id=\"GS-SVM\"></a>"
   ]
  },
  {
   "cell_type": "code",
   "execution_count": 189,
   "metadata": {},
   "outputs": [],
   "source": [
    "from sklearn.svm import LinearSVC"
   ]
  },
  {
   "cell_type": "code",
   "execution_count": 190,
   "metadata": {},
   "outputs": [
    {
     "name": "stdout",
     "output_type": "stream",
     "text": [
      "Fitting 3 folds for each of 3 candidates, totalling 9 fits\n"
     ]
    },
    {
     "name": "stderr",
     "output_type": "stream",
     "text": [
      "[Parallel(n_jobs=-1)]: Using backend LokyBackend with 4 concurrent workers.\n",
      "[Parallel(n_jobs=-1)]: Done   9 out of   9 | elapsed:  3.4min finished\n"
     ]
    },
    {
     "data": {
      "text/plain": [
       "GridSearchCV(cv=3, estimator=LinearSVC(loss='hinge'), n_jobs=-1,\n",
       "             param_grid={'C': [0.1, 10, 1000]}, scoring='accuracy', verbose=1)"
      ]
     },
     "execution_count": 190,
     "metadata": {},
     "output_type": "execute_result"
    }
   ],
   "source": [
    "parametros_SVM = {'C': [0.1, 10, 1000]} \n",
    "\n",
    "SVM = LinearSVC(loss=\"hinge\", multi_class='ovr')\n",
    "\n",
    "grid_SVM = GridSearchCV(estimator= SVM, param_grid = parametros_SVM, scoring = 'accuracy', cv = 3, verbose = 1, n_jobs = -1) \n",
    "  \n",
    "# fitting the model for grid search \n",
    "grid_SVM.fit(X_val_train, y_val_train)"
   ]
  },
  {
   "cell_type": "code",
   "execution_count": 191,
   "metadata": {},
   "outputs": [
    {
     "data": {
      "text/plain": [
       "0.9002708333333334"
      ]
     },
     "execution_count": 191,
     "metadata": {},
     "output_type": "execute_result"
    }
   ],
   "source": [
    "AC_SVM_best=grid_SVM.best_score_\n",
    "AC_SVM_best"
   ]
  },
  {
   "cell_type": "code",
   "execution_count": 192,
   "metadata": {},
   "outputs": [
    {
     "data": {
      "text/plain": [
       "{'C': 1000}"
      ]
     },
     "execution_count": 192,
     "metadata": {},
     "output_type": "execute_result"
    }
   ],
   "source": [
    "parametros_SVM_best=grid_SVM.best_params_\n",
    "parametros_SVM_best"
   ]
  },
  {
   "cell_type": "code",
   "execution_count": 193,
   "metadata": {},
   "outputs": [
    {
     "data": {
      "text/plain": [
       "LinearSVC(C=1000, loss='hinge')"
      ]
     },
     "execution_count": 193,
     "metadata": {},
     "output_type": "execute_result"
    }
   ],
   "source": [
    "modelo_SVM_best=grid_SVM.best_estimator_\n",
    "modelo_SVM_best"
   ]
  },
  {
   "cell_type": "code",
   "execution_count": 194,
   "metadata": {},
   "outputs": [
    {
     "data": {
      "text/plain": [
       "array([0.00135881, 0.0009228 , 0.01118923])"
      ]
     },
     "execution_count": 194,
     "metadata": {},
     "output_type": "execute_result"
    }
   ],
   "source": [
    "desvios_SVM=grid_SVM.cv_results_['std_test_score']\n",
    "desvios_SVM"
   ]
  },
  {
   "cell_type": "code",
   "execution_count": 195,
   "metadata": {},
   "outputs": [],
   "source": [
    "desvio_SVM_mejor=desvios_SVM[grid_SVM.best_index_] #Obtengo el desvío del mejor arbol"
   ]
  },
  {
   "cell_type": "code",
   "execution_count": 196,
   "metadata": {},
   "outputs": [
    {
     "name": "stdout",
     "output_type": "stream",
     "text": [
      "Modelo SVM\n",
      "Mejor Accuracy:  0.9  +/-  0.022 ( 95% )\n",
      "Lectura del intervalo: Con un 95% de confianza, podemos decir que el modelo clasificará correctamente en producción entre el:  89.0 % y el  92.0 % de las observaciones\n"
     ]
    }
   ],
   "source": [
    "print(\"Modelo SVM\")\n",
    "\n",
    "print(\"Mejor Accuracy: \",round(AC_SVM_best,3),' +/- ', round(2*desvio_SVM_mejor,3), '( 95% )')\n",
    "\n",
    "print(\"Lectura del intervalo: Con un 95% de confianza, podemos decir que el modelo clasificará correctamente en producción entre el: \",round(AC_SVM_best - desvio_SVM_mejor,2)*100,'% y el ',round(AC_SVM_best + 2*desvio_SVM_mejor,2)*100 , '% de las observaciones')"
   ]
  },
  {
   "cell_type": "markdown",
   "metadata": {},
   "source": [
    "### Modelización Elastic Net  <a class=\"anchor\" id=\"GS-EN\"></a>"
   ]
  },
  {
   "cell_type": "code",
   "execution_count": 197,
   "metadata": {},
   "outputs": [],
   "source": [
    "from sklearn.linear_model import SGDClassifier"
   ]
  },
  {
   "cell_type": "code",
   "execution_count": 198,
   "metadata": {},
   "outputs": [
    {
     "name": "stdout",
     "output_type": "stream",
     "text": [
      "Fitting 3 folds for each of 15 candidates, totalling 45 fits\n"
     ]
    },
    {
     "name": "stderr",
     "output_type": "stream",
     "text": [
      "[Parallel(n_jobs=-1)]: Using backend LokyBackend with 4 concurrent workers.\n",
      "[Parallel(n_jobs=-1)]: Done  45 out of  45 | elapsed:  5.4min finished\n"
     ]
    },
    {
     "data": {
      "text/plain": [
       "GridSearchCV(cv=3, estimator=SGDClassifier(loss='log', penalty='elasticnet'),\n",
       "             n_jobs=-1,\n",
       "             param_grid={'alpha': [0.1, 1, 10],\n",
       "                         'l1_ratio': array([0. , 0.2, 0.4, 0.6, 0.8])},\n",
       "             scoring='accuracy', verbose=1)"
      ]
     },
     "execution_count": 198,
     "metadata": {},
     "output_type": "execute_result"
    }
   ],
   "source": [
    "parametros_EN = {\"alpha\": [0.1, 1, 10],\"l1_ratio\": np.arange(0.0, 1.0, 0.2)}\n",
    "\n",
    "EN = SGDClassifier(loss='log', penalty='elasticnet')\n",
    "\n",
    "grid_EN = GridSearchCV(estimator= EN, param_grid = parametros_EN, scoring = 'accuracy', cv = 3, verbose = 1, n_jobs = -1) \n",
    "  \n",
    "# fitting the model for grid search \n",
    "grid_EN.fit(X_val_train, y_val_train)"
   ]
  },
  {
   "cell_type": "code",
   "execution_count": 199,
   "metadata": {},
   "outputs": [
    {
     "data": {
      "text/plain": [
       "0.11214583333333333"
      ]
     },
     "execution_count": 199,
     "metadata": {},
     "output_type": "execute_result"
    }
   ],
   "source": [
    "AC_EN_best=grid_EN.best_score_\n",
    "AC_EN_best"
   ]
  },
  {
   "cell_type": "code",
   "execution_count": 200,
   "metadata": {},
   "outputs": [
    {
     "data": {
      "text/plain": [
       "{'alpha': 0.1, 'l1_ratio': 0.0}"
      ]
     },
     "execution_count": 200,
     "metadata": {},
     "output_type": "execute_result"
    }
   ],
   "source": [
    "parametros_EN_best=grid_EN.best_params_\n",
    "parametros_EN_best"
   ]
  },
  {
   "cell_type": "code",
   "execution_count": 201,
   "metadata": {},
   "outputs": [
    {
     "data": {
      "text/plain": [
       "SGDClassifier(alpha=0.1, l1_ratio=0.0, loss='log', penalty='elasticnet')"
      ]
     },
     "execution_count": 201,
     "metadata": {},
     "output_type": "execute_result"
    }
   ],
   "source": [
    "modelo_EN_best=grid_EN.best_estimator_\n",
    "modelo_EN_best"
   ]
  },
  {
   "cell_type": "code",
   "execution_count": 202,
   "metadata": {},
   "outputs": [],
   "source": [
    "desvios_EN=grid_EN.cv_results_['std_test_score']"
   ]
  },
  {
   "cell_type": "code",
   "execution_count": 203,
   "metadata": {},
   "outputs": [],
   "source": [
    "desvio_EN_mejor=desvios_EN[grid_EN.best_index_] #Obtengo el desvío del mejor"
   ]
  },
  {
   "cell_type": "code",
   "execution_count": 204,
   "metadata": {},
   "outputs": [
    {
     "name": "stdout",
     "output_type": "stream",
     "text": [
      "Modelo Regresion Logistica con Elastic Net\n",
      "Mejor Accuracy:  0.112  +/-  0.0 ( 95% )\n",
      "Lectura del intervalo: Con un 95% de confianza, podemos decir que el modelo clasificará correctamente en producción entre el:  11.0 % y el  11.0 % de las observaciones\n"
     ]
    }
   ],
   "source": [
    "print(\"Modelo Regresion Logistica con Elastic Net\")\n",
    "\n",
    "print(\"Mejor Accuracy: \",round(AC_EN_best,3),' +/- ', round(2*desvio_EN_mejor,3), '( 95% )')\n",
    "\n",
    "print(\"Lectura del intervalo: Con un 95% de confianza, podemos decir que el modelo clasificará correctamente en producción entre el: \",round(AC_EN_best - desvio_EN_mejor,2)*100,'% y el ',round(AC_EN_best + 2*desvio_EN_mejor,2)*100 , '% de las observaciones')"
   ]
  },
  {
   "cell_type": "markdown",
   "metadata": {},
   "source": [
    "### Random Forest  <a class=\"anchor\" id=\"GS-RF\"></a>"
   ]
  },
  {
   "cell_type": "code",
   "execution_count": 205,
   "metadata": {},
   "outputs": [
    {
     "name": "stdout",
     "output_type": "stream",
     "text": [
      "Fitting 3 folds for each of 20 candidates, totalling 60 fits\n"
     ]
    },
    {
     "name": "stderr",
     "output_type": "stream",
     "text": [
      "[Parallel(n_jobs=-1)]: Using backend LokyBackend with 4 concurrent workers.\n",
      "[Parallel(n_jobs=-1)]: Done  42 tasks      | elapsed: 40.3min\n",
      "[Parallel(n_jobs=-1)]: Done  60 out of  60 | elapsed: 76.0min finished\n"
     ]
    },
    {
     "data": {
      "text/plain": [
       "GridSearchCV(cv=3, estimator=RandomForestClassifier(), n_jobs=-1,\n",
       "             param_grid={'criterion': ['gini', 'entropy'],\n",
       "                         'n_estimators': array([  0, 100, 200, 300, 400, 500, 600, 700, 800, 900])},\n",
       "             scoring='accuracy', verbose=1)"
      ]
     },
     "execution_count": 205,
     "metadata": {},
     "output_type": "execute_result"
    }
   ],
   "source": [
    "from sklearn.ensemble import RandomForestClassifier\n",
    "\n",
    "parametros_RF = {\"criterion\": ['gini', 'entropy'],\"n_estimators\": np.arange(0, 1000, 100)}\n",
    "\n",
    "RF = RandomForestClassifier()\n",
    "\n",
    "grid_RF = GridSearchCV(estimator= RF, param_grid = parametros_RF, scoring = 'accuracy', cv = 3, verbose = 1, n_jobs = -1) \n",
    "  \n",
    "# fitting the model for grid search \n",
    "grid_RF.fit(X_val_train, y_val_train)"
   ]
  },
  {
   "cell_type": "code",
   "execution_count": 206,
   "metadata": {},
   "outputs": [
    {
     "data": {
      "text/plain": [
       "0.9655833333333333"
      ]
     },
     "execution_count": 206,
     "metadata": {},
     "output_type": "execute_result"
    }
   ],
   "source": [
    "AC_RF_best=grid_RF.best_score_\n",
    "AC_RF_best"
   ]
  },
  {
   "cell_type": "code",
   "execution_count": 207,
   "metadata": {},
   "outputs": [
    {
     "data": {
      "text/plain": [
       "{'criterion': 'gini', 'n_estimators': 700}"
      ]
     },
     "execution_count": 207,
     "metadata": {},
     "output_type": "execute_result"
    }
   ],
   "source": [
    "parametros_RF_best=grid_RF.best_params_\n",
    "parametros_RF_best"
   ]
  },
  {
   "cell_type": "code",
   "execution_count": 208,
   "metadata": {},
   "outputs": [
    {
     "data": {
      "text/plain": [
       "RandomForestClassifier(n_estimators=700)"
      ]
     },
     "execution_count": 208,
     "metadata": {},
     "output_type": "execute_result"
    }
   ],
   "source": [
    "modelo_RF_best=grid_RF.best_estimator_\n",
    "modelo_RF_best"
   ]
  },
  {
   "cell_type": "code",
   "execution_count": 209,
   "metadata": {},
   "outputs": [],
   "source": [
    "desvios_RF=grid_RF.cv_results_['std_test_score']"
   ]
  },
  {
   "cell_type": "code",
   "execution_count": 210,
   "metadata": {},
   "outputs": [],
   "source": [
    "desvio_RF_mejor=desvios_RF[grid_RF.best_index_] #Obtengo el desvío del mejor"
   ]
  },
  {
   "cell_type": "code",
   "execution_count": 211,
   "metadata": {},
   "outputs": [
    {
     "name": "stdout",
     "output_type": "stream",
     "text": [
      "Modelo Random Forest\n",
      "Mejor Accuracy:  0.966  +/-  0.002 ( 95% )\n",
      "Lectura del intervalo: Con un 95% de confianza, podemos decir que el modelo clasificará correctamente en producción entre el:  96.0 % y el  97.0 % de las observaciones\n"
     ]
    }
   ],
   "source": [
    "print(\"Modelo Random Forest\")\n",
    "\n",
    "print(\"Mejor Accuracy: \",round(AC_RF_best,3),' +/- ', round(2*desvio_RF_mejor,3), '( 95% )')\n",
    "\n",
    "print(\"Lectura del intervalo: Con un 95% de confianza, podemos decir que el modelo clasificará correctamente en producción entre el: \",round(AC_RF_best - desvio_RF_mejor,2)*100,'% y el ',round(AC_RF_best + 2*desvio_RF_mejor,2)*100 , '% de las observaciones')"
   ]
  },
  {
   "cell_type": "markdown",
   "metadata": {},
   "source": [
    "### Conclusiones de seleccion de hiperparametros  <a class=\"anchor\" id=\"Conclu-tuning\"></a>"
   ]
  },
  {
   "cell_type": "code",
   "execution_count": 213,
   "metadata": {},
   "outputs": [
    {
     "data": {
      "text/html": [
       "<div>\n",
       "<style scoped>\n",
       "    .dataframe tbody tr th:only-of-type {\n",
       "        vertical-align: middle;\n",
       "    }\n",
       "\n",
       "    .dataframe tbody tr th {\n",
       "        vertical-align: top;\n",
       "    }\n",
       "\n",
       "    .dataframe thead th {\n",
       "        text-align: right;\n",
       "    }\n",
       "</style>\n",
       "<table border=\"1\" class=\"dataframe\">\n",
       "  <thead>\n",
       "    <tr style=\"text-align: right;\">\n",
       "      <th></th>\n",
       "      <th>Accuracy</th>\n",
       "      <th>Hiperparametros</th>\n",
       "    </tr>\n",
       "    <tr>\n",
       "      <th>Modelo</th>\n",
       "      <th></th>\n",
       "      <th></th>\n",
       "    </tr>\n",
       "  </thead>\n",
       "  <tbody>\n",
       "    <tr>\n",
       "      <th>kNN</th>\n",
       "      <td>0.968750</td>\n",
       "      <td>{'n_neighbors': 4, 'weights': 'distance'}</td>\n",
       "    </tr>\n",
       "    <tr>\n",
       "      <th>Random Forest</th>\n",
       "      <td>0.965583</td>\n",
       "      <td>{'criterion': 'gini', 'n_estimators': 700}</td>\n",
       "    </tr>\n",
       "    <tr>\n",
       "      <th>SVM</th>\n",
       "      <td>0.900271</td>\n",
       "      <td>{'C': 1000}</td>\n",
       "    </tr>\n",
       "    <tr>\n",
       "      <th>Reg_Log_Ridge</th>\n",
       "      <td>0.891062</td>\n",
       "      <td>{'C': 100}</td>\n",
       "    </tr>\n",
       "    <tr>\n",
       "      <th>Arbol</th>\n",
       "      <td>0.857250</td>\n",
       "      <td>{'max_depth': 17}</td>\n",
       "    </tr>\n",
       "    <tr>\n",
       "      <th>ElasticNet</th>\n",
       "      <td>0.112146</td>\n",
       "      <td>{'alpha': 0.1, 'l1_ratio': 0.0}</td>\n",
       "    </tr>\n",
       "  </tbody>\n",
       "</table>\n",
       "</div>"
      ],
      "text/plain": [
       "               Accuracy                             Hiperparametros\n",
       "Modelo                                                             \n",
       "kNN            0.968750   {'n_neighbors': 4, 'weights': 'distance'}\n",
       "Random Forest  0.965583  {'criterion': 'gini', 'n_estimators': 700}\n",
       "SVM            0.900271                                 {'C': 1000}\n",
       "Reg_Log_Ridge  0.891062                                  {'C': 100}\n",
       "Arbol          0.857250                           {'max_depth': 17}\n",
       "ElasticNet     0.112146             {'alpha': 0.1, 'l1_ratio': 0.0}"
      ]
     },
     "execution_count": 213,
     "metadata": {},
     "output_type": "execute_result"
    }
   ],
   "source": [
    "#Creo DataFrame con los valores obtenidos de cada modelo\n",
    "dfRtdos= pd.DataFrame({'Modelo': ['Reg_Log_Ridge', 'kNN', 'Arbol','SVM', 'ElasticNet','Random Forest'],\n",
    "                       'Accuracy': [AC_RL_best, AC_kNN_best,AC_arbol_best, AC_SVM_best,AC_EN_best,AC_RF_best],\n",
    "                       'Hiperparametros': [parametros_RL_best , parametros_kNN_best, parametros_arbol_best, parametros_SVM_best, parametros_EN_best, parametros_RF_best]})\n",
    "#Pongo los modelos como indice\n",
    "dfRtdos = dfRtdos.set_index('Modelo').sort_values(['Accuracy'], ascending=False)\n",
    "dfRtdos"
   ]
  },
  {
   "cell_type": "markdown",
   "metadata": {},
   "source": [
    "### Entrenar el modelo con todos los datos de train (X_val_train, y_val_Train) y evaluar modelos con datos nunca vistos: el set de testeo (X_val_test, y_val_test)  <a class=\"anchor\" id=\"SeleccionModelo-ML\"></a>  <a class=\"anchor\" id=\"Entrenamiento-ML\"></a>"
   ]
  },
  {
   "cell_type": "markdown",
   "metadata": {},
   "source": [
    "#### Regresion Logistica con Ridge  <a class=\"anchor\" id=\"TR-RL\"></a>"
   ]
  },
  {
   "cell_type": "code",
   "execution_count": 214,
   "metadata": {},
   "outputs": [
    {
     "data": {
      "text/plain": [
       "0.89825"
      ]
     },
     "execution_count": 214,
     "metadata": {},
     "output_type": "execute_result"
    }
   ],
   "source": [
    "modelo_elegido=LogisticRegression(penalty='l2', max_iter=10000, tol=0.0001, C=100) # observe el valor de C\n",
    "modelo_elegido.fit(X_val_train, y_val_train)  # Entrenamos con .fit\n",
    "AC_rl=modelo_elegido.score(X_val_test, y_val_test)  # calculamos Accuracy\n",
    "AC_rl"
   ]
  },
  {
   "cell_type": "markdown",
   "metadata": {},
   "source": [
    "#### Decision Tree  <a class=\"anchor\" id=\"TR-DT\"></a>"
   ]
  },
  {
   "cell_type": "code",
   "execution_count": 215,
   "metadata": {},
   "outputs": [
    {
     "data": {
      "text/plain": [
       "0.87025"
      ]
     },
     "execution_count": 215,
     "metadata": {},
     "output_type": "execute_result"
    }
   ],
   "source": [
    "modelo_elegido=DecisionTreeClassifier(max_depth=17, random_state=123)\n",
    "modelo_elegido.fit(X_val_train, y_val_train)  # Entrenamos con .fit\n",
    "AC_dt=modelo_elegido.score(X_val_test, y_val_test)  # calculamos Accuracy\n",
    "AC_dt"
   ]
  },
  {
   "cell_type": "markdown",
   "metadata": {},
   "source": [
    "#### SVM  <a class=\"anchor\" id=\"TR-SVM\"></a>"
   ]
  },
  {
   "cell_type": "code",
   "execution_count": 216,
   "metadata": {},
   "outputs": [
    {
     "data": {
      "text/plain": [
       "0.89125"
      ]
     },
     "execution_count": 216,
     "metadata": {},
     "output_type": "execute_result"
    }
   ],
   "source": [
    "modelo_elegido=LinearSVC(loss=\"hinge\", multi_class='ovr',C=1000)\n",
    "modelo_elegido.fit(X_val_train, y_val_train)  # Entrenamos con .fit\n",
    "AC_svm=modelo_elegido.score(X_val_test, y_val_test)  # calculamos Accuracy\n",
    "AC_svm"
   ]
  },
  {
   "cell_type": "markdown",
   "metadata": {},
   "source": [
    "#### Random Forest  <a class=\"anchor\" id=\"TR-RF\"></a>"
   ]
  },
  {
   "cell_type": "code",
   "execution_count": 223,
   "metadata": {},
   "outputs": [
    {
     "data": {
      "text/plain": [
       "0.9681666666666666"
      ]
     },
     "execution_count": 223,
     "metadata": {},
     "output_type": "execute_result"
    }
   ],
   "source": [
    "modelo_elegido=RandomForestClassifier(criterion='gini',n_estimators=700)\n",
    "modelo_elegido.fit(X_val_train, y_val_train)  # Entrenamos con .fit\n",
    "AC_rf=modelo_elegido.score(X_val_test, y_val_test)  # calculamos Accuracy\n",
    "AC_rf"
   ]
  },
  {
   "cell_type": "markdown",
   "metadata": {},
   "source": [
    "#### Elastic Net  <a class=\"anchor\" id=\"TR-EN\"></a>"
   ]
  },
  {
   "cell_type": "code",
   "execution_count": 218,
   "metadata": {},
   "outputs": [
    {
     "data": {
      "text/plain": [
       "0.109"
      ]
     },
     "execution_count": 218,
     "metadata": {},
     "output_type": "execute_result"
    }
   ],
   "source": [
    "modelo_elegido=SGDClassifier(loss='log', penalty='elasticnet', alpha=0.1, l1_ratio=0)\n",
    "modelo_elegido.fit(X_val_train, y_val_train)  # Entrenamos con .fit\n",
    "AC_EN=modelo_elegido.score(X_val_test, y_val_test)  # calculamos Accuracy\n",
    "AC_EN"
   ]
  },
  {
   "cell_type": "markdown",
   "metadata": {},
   "source": [
    "#### kNN  <a class=\"anchor\" id=\"TR-kNN\"></a>"
   ]
  },
  {
   "cell_type": "code",
   "execution_count": 222,
   "metadata": {},
   "outputs": [
    {
     "data": {
      "text/plain": [
       "0.9718333333333333"
      ]
     },
     "execution_count": 222,
     "metadata": {},
     "output_type": "execute_result"
    }
   ],
   "source": [
    "modelo_elegido=neighbors.KNeighborsClassifier(n_neighbors= 4, weights= 'distance')\n",
    "modelo_elegido.fit(X_val_train, y_val_train)  # Entrenamos con .fit\n",
    "AC_kNN=modelo_elegido.score(X_val_test, y_val_test)  # calculamos Accuracy\n",
    "AC_kNN"
   ]
  },
  {
   "cell_type": "markdown",
   "metadata": {},
   "source": [
    "### Conclusiones finales ML Clasico  <a class=\"anchor\" id=\"Conclu-MLClasico\"></a>"
   ]
  },
  {
   "cell_type": "code",
   "execution_count": 227,
   "metadata": {},
   "outputs": [
    {
     "data": {
      "text/html": [
       "<div>\n",
       "<style scoped>\n",
       "    .dataframe tbody tr th:only-of-type {\n",
       "        vertical-align: middle;\n",
       "    }\n",
       "\n",
       "    .dataframe tbody tr th {\n",
       "        vertical-align: top;\n",
       "    }\n",
       "\n",
       "    .dataframe thead th {\n",
       "        text-align: right;\n",
       "    }\n",
       "</style>\n",
       "<table border=\"1\" class=\"dataframe\">\n",
       "  <thead>\n",
       "    <tr style=\"text-align: right;\">\n",
       "      <th></th>\n",
       "      <th>Accuracy</th>\n",
       "      <th>Hiperparametros</th>\n",
       "      <th>Accuracy vs Test</th>\n",
       "    </tr>\n",
       "    <tr>\n",
       "      <th>Modelo</th>\n",
       "      <th></th>\n",
       "      <th></th>\n",
       "      <th></th>\n",
       "    </tr>\n",
       "  </thead>\n",
       "  <tbody>\n",
       "    <tr>\n",
       "      <th>kNN</th>\n",
       "      <td>0.968750</td>\n",
       "      <td>{'n_neighbors': 4, 'weights': 'distance'}</td>\n",
       "      <td>0.971833</td>\n",
       "    </tr>\n",
       "    <tr>\n",
       "      <th>Random Forest</th>\n",
       "      <td>0.965583</td>\n",
       "      <td>{'criterion': 'gini', 'n_estimators': 700}</td>\n",
       "      <td>0.968167</td>\n",
       "    </tr>\n",
       "    <tr>\n",
       "      <th>SVM</th>\n",
       "      <td>0.900271</td>\n",
       "      <td>{'C': 1000}</td>\n",
       "      <td>0.891250</td>\n",
       "    </tr>\n",
       "    <tr>\n",
       "      <th>Reg_Log_Ridge</th>\n",
       "      <td>0.891062</td>\n",
       "      <td>{'C': 100}</td>\n",
       "      <td>0.898250</td>\n",
       "    </tr>\n",
       "    <tr>\n",
       "      <th>Arbol</th>\n",
       "      <td>0.857250</td>\n",
       "      <td>{'max_depth': 17}</td>\n",
       "      <td>0.870250</td>\n",
       "    </tr>\n",
       "    <tr>\n",
       "      <th>ElasticNet</th>\n",
       "      <td>0.112146</td>\n",
       "      <td>{'alpha': 0.1, 'l1_ratio': 0.0}</td>\n",
       "      <td>0.109000</td>\n",
       "    </tr>\n",
       "  </tbody>\n",
       "</table>\n",
       "</div>"
      ],
      "text/plain": [
       "               Accuracy                             Hiperparametros  \\\n",
       "Modelo                                                                \n",
       "kNN            0.968750   {'n_neighbors': 4, 'weights': 'distance'}   \n",
       "Random Forest  0.965583  {'criterion': 'gini', 'n_estimators': 700}   \n",
       "SVM            0.900271                                 {'C': 1000}   \n",
       "Reg_Log_Ridge  0.891062                                  {'C': 100}   \n",
       "Arbol          0.857250                           {'max_depth': 17}   \n",
       "ElasticNet     0.112146             {'alpha': 0.1, 'l1_ratio': 0.0}   \n",
       "\n",
       "               Accuracy vs Test  \n",
       "Modelo                           \n",
       "kNN                    0.971833  \n",
       "Random Forest          0.968167  \n",
       "SVM                    0.891250  \n",
       "Reg_Log_Ridge          0.898250  \n",
       "Arbol                  0.870250  \n",
       "ElasticNet             0.109000  "
      ]
     },
     "execution_count": 227,
     "metadata": {},
     "output_type": "execute_result"
    }
   ],
   "source": [
    "dfRtdos['Accuracy vs Test'] = [AC_kNN, AC_rf,AC_svm, AC_rl,AC_dt,AC_EN]\n",
    "dfRtdos"
   ]
  },
  {
   "cell_type": "markdown",
   "metadata": {},
   "source": [
    "### Modelizacion con Redes Neuronales  <a class=\"anchor\" id=\"Redes\"></a>"
   ]
  },
  {
   "cell_type": "markdown",
   "metadata": {},
   "source": [
    "#### Preprocesamiento <a class=\"anchor\" id=\"Preproc-Redes\"></a>"
   ]
  },
  {
   "cell_type": "code",
   "execution_count": 1,
   "metadata": {},
   "outputs": [],
   "source": [
    "import numpy as np\n",
    "import tensorflow as tf\n",
    "from tensorflow import keras"
   ]
  },
  {
   "cell_type": "markdown",
   "metadata": {},
   "source": [
    "##### Importo los datos"
   ]
  },
  {
   "cell_type": "code",
   "execution_count": 2,
   "metadata": {},
   "outputs": [],
   "source": [
    "import numpy as np\n",
    "X_train=np.load('Alumno/X_MNIST_60_mil.npy', allow_pickle=True)\n",
    "y_train=np.load('Alumno/Y_MNIST_60_mil.npy', allow_pickle=True)\n",
    "X_test=np.load('Alumno/X_MNIST_10_mil.npy', allow_pickle=True)"
   ]
  },
  {
   "cell_type": "code",
   "execution_count": 3,
   "metadata": {},
   "outputs": [
    {
     "data": {
      "text/plain": [
       "(60000, 784)"
      ]
     },
     "execution_count": 3,
     "metadata": {},
     "output_type": "execute_result"
    }
   ],
   "source": [
    "X_train.shape"
   ]
  },
  {
   "cell_type": "code",
   "execution_count": 4,
   "metadata": {},
   "outputs": [
    {
     "data": {
      "text/plain": [
       "(10000, 784)"
      ]
     },
     "execution_count": 4,
     "metadata": {},
     "output_type": "execute_result"
    }
   ],
   "source": [
    "X_test.shape"
   ]
  },
  {
   "cell_type": "code",
   "execution_count": 5,
   "metadata": {},
   "outputs": [
    {
     "data": {
      "text/plain": [
       "(array(['0', '1', '2', '3', '4', '5', '6', '7', '8', '9'], dtype=object),\n",
       " array([5919, 6691, 6027, 6137, 5846, 5382, 5938, 6274, 5812, 5974],\n",
       "       dtype=int64))"
      ]
     },
     "execution_count": 5,
     "metadata": {},
     "output_type": "execute_result"
    }
   ],
   "source": [
    "np.unique(y_train, return_counts=True)"
   ]
  },
  {
   "cell_type": "markdown",
   "metadata": {},
   "source": [
    "##### Los formateo como tensores"
   ]
  },
  {
   "cell_type": "code",
   "execution_count": 6,
   "metadata": {},
   "outputs": [],
   "source": [
    "X_train = X_train.reshape(60000,28,28)\n",
    "X_test = X_test.reshape(10000,28,28)"
   ]
  },
  {
   "cell_type": "markdown",
   "metadata": {},
   "source": [
    "##### Creo los sets de validacion"
   ]
  },
  {
   "cell_type": "code",
   "execution_count": 8,
   "metadata": {},
   "outputs": [],
   "source": [
    "from sklearn.model_selection import train_test_split\n",
    "\n",
    "X_val_train,X_val_test,y_val_train,y_val_test=train_test_split(X_train,y_train,test_size=0.2,random_state=123)"
   ]
  },
  {
   "cell_type": "markdown",
   "metadata": {},
   "source": [
    "##### Normalizo"
   ]
  },
  {
   "cell_type": "code",
   "execution_count": 9,
   "metadata": {},
   "outputs": [],
   "source": [
    "X_val_train=X_val_train/255\n",
    "X_val_test=X_val_test/255\n",
    "X_train=X_train/255\n",
    "X_test=X_test/255"
   ]
  },
  {
   "cell_type": "markdown",
   "metadata": {},
   "source": [
    "Como daba error, cambio los arrays a int para que tensor flow los pueda utilizar"
   ]
  },
  {
   "cell_type": "code",
   "execution_count": 10,
   "metadata": {},
   "outputs": [],
   "source": [
    "y_train = y_train.astype(int)\n",
    "y_val_train = y_val_train.astype(int)\n",
    "y_val_test = y_val_test.astype(int)"
   ]
  },
  {
   "cell_type": "markdown",
   "metadata": {},
   "source": [
    "### Modelizacion con DNN <a class=\"anchor\" id=\"Tuning-Redes\"></a>"
   ]
  },
  {
   "cell_type": "markdown",
   "metadata": {},
   "source": [
    "#### Modelo 1: 300 Relu 200 Relu sgd <a class=\"anchor\" id=\"Modelo1\"></a>"
   ]
  },
  {
   "cell_type": "markdown",
   "metadata": {},
   "source": [
    "Arquitectura"
   ]
  },
  {
   "cell_type": "code",
   "execution_count": 10,
   "metadata": {},
   "outputs": [],
   "source": [
    "model1 = keras.models.Sequential([keras.layers.Flatten(input_shape=[28, 28]),\n",
    "                                keras.layers.Dense(300, activation=\"relu\"),\n",
    "                                keras.layers.Dense(100, activation=\"relu\"),\n",
    "                                keras.layers.Dense(10, activation=\"softmax\")\n",
    "                                ])"
   ]
  },
  {
   "cell_type": "markdown",
   "metadata": {},
   "source": [
    "Resumen"
   ]
  },
  {
   "cell_type": "code",
   "execution_count": 11,
   "metadata": {},
   "outputs": [
    {
     "name": "stdout",
     "output_type": "stream",
     "text": [
      "Model: \"sequential\"\n",
      "_________________________________________________________________\n",
      "Layer (type)                 Output Shape              Param #   \n",
      "=================================================================\n",
      "flatten (Flatten)            (None, 784)               0         \n",
      "_________________________________________________________________\n",
      "dense (Dense)                (None, 300)               235500    \n",
      "_________________________________________________________________\n",
      "dense_1 (Dense)              (None, 100)               30100     \n",
      "_________________________________________________________________\n",
      "dense_2 (Dense)              (None, 10)                1010      \n",
      "=================================================================\n",
      "Total params: 266,610\n",
      "Trainable params: 266,610\n",
      "Non-trainable params: 0\n",
      "_________________________________________________________________\n"
     ]
    }
   ],
   "source": [
    "model1.summary()"
   ]
  },
  {
   "cell_type": "markdown",
   "metadata": {},
   "source": [
    "Compilo"
   ]
  },
  {
   "cell_type": "code",
   "execution_count": 12,
   "metadata": {},
   "outputs": [],
   "source": [
    "model1.compile(loss=\"sparse_categorical_crossentropy\",\n",
    "                optimizer=\"sgd\",\n",
    "                metrics=[\"accuracy\"])"
   ]
  },
  {
   "cell_type": "markdown",
   "metadata": {},
   "source": [
    "Entreno <a class=\"anchor\" id=\"Fit1\"></a>"
   ]
  },
  {
   "cell_type": "code",
   "execution_count": 13,
   "metadata": {},
   "outputs": [
    {
     "name": "stdout",
     "output_type": "stream",
     "text": [
      "Epoch 1/30\n",
      "1500/1500 [==============================] - 8s 5ms/step - loss: 0.6413 - accuracy: 0.8372 - val_loss: 0.3360 - val_accuracy: 0.9087\n",
      "Epoch 2/30\n",
      "1500/1500 [==============================] - 9s 6ms/step - loss: 0.2990 - accuracy: 0.9150 - val_loss: 0.2720 - val_accuracy: 0.9237\n",
      "Epoch 3/30\n",
      "1500/1500 [==============================] - 8s 5ms/step - loss: 0.2474 - accuracy: 0.9293 - val_loss: 0.2369 - val_accuracy: 0.9316\n",
      "Epoch 4/30\n",
      "1500/1500 [==============================] - 6s 4ms/step - loss: 0.2136 - accuracy: 0.9390 - val_loss: 0.2064 - val_accuracy: 0.9422accuracy\n",
      "Epoch 5/30\n",
      "1500/1500 [==============================] - 7s 5ms/step - loss: 0.1872 - accuracy: 0.9465 - val_loss: 0.1885 - val_accuracy: 0.9468\n",
      "Epoch 6/30\n",
      "1500/1500 [==============================] - 7s 5ms/step - loss: 0.1669 - accuracy: 0.9520 - val_loss: 0.1732 - val_accuracy: 0.9509\n",
      "Epoch 7/30\n",
      "1500/1500 [==============================] - 7s 4ms/step - loss: 0.1503 - accuracy: 0.9569 - val_loss: 0.1635 - val_accuracy: 0.9532\n",
      "Epoch 8/30\n",
      "1500/1500 [==============================] - 7s 4ms/step - loss: 0.1365 - accuracy: 0.9603 - val_loss: 0.1482 - val_accuracy: 0.9573\n",
      "Epoch 9/30\n",
      "1500/1500 [==============================] - 6s 4ms/step - loss: 0.1245 - accuracy: 0.9643 - val_loss: 0.1395 - val_accuracy: 0.9604\n",
      "Epoch 10/30\n",
      "1500/1500 [==============================] - 7s 5ms/step - loss: 0.1146 - accuracy: 0.9672 - val_loss: 0.1349 - val_accuracy: 0.9596\n",
      "Epoch 11/30\n",
      "1500/1500 [==============================] - 8s 5ms/step - loss: 0.1056 - accuracy: 0.9695 - val_loss: 0.1256 - val_accuracy: 0.9648\n",
      "Epoch 12/30\n",
      "1500/1500 [==============================] - 8s 5ms/step - loss: 0.0978 - accuracy: 0.9721 - val_loss: 0.1228 - val_accuracy: 0.9643\n",
      "Epoch 13/30\n",
      "1500/1500 [==============================] - 7s 4ms/step - loss: 0.0907 - accuracy: 0.9746 - val_loss: 0.1165 - val_accuracy: 0.9667\n",
      "Epoch 14/30\n",
      "1500/1500 [==============================] - 8s 5ms/step - loss: 0.0847 - accuracy: 0.9758 - val_loss: 0.1132 - val_accuracy: 0.9681\n",
      "Epoch 15/30\n",
      "1500/1500 [==============================] - 7s 5ms/step - loss: 0.0788 - accuracy: 0.9771 - val_loss: 0.1086 - val_accuracy: 0.9700\n",
      "Epoch 16/30\n",
      "1500/1500 [==============================] - 7s 5ms/step - loss: 0.0739 - accuracy: 0.9795 - val_loss: 0.1065 - val_accuracy: 0.9701\n",
      "Epoch 17/30\n",
      "1500/1500 [==============================] - 7s 5ms/step - loss: 0.0691 - accuracy: 0.9807 - val_loss: 0.1023 - val_accuracy: 0.9724\n",
      "Epoch 18/30\n",
      "1500/1500 [==============================] - 7s 5ms/step - loss: 0.0651 - accuracy: 0.9821 - val_loss: 0.1017 - val_accuracy: 0.9722\n",
      "Epoch 19/30\n",
      "1500/1500 [==============================] - 7s 5ms/step - loss: 0.0609 - accuracy: 0.9830 - val_loss: 0.0995 - val_accuracy: 0.9722\n",
      "Epoch 20/30\n",
      "1500/1500 [==============================] - 7s 5ms/step - loss: 0.0570 - accuracy: 0.9843 - val_loss: 0.0997 - val_accuracy: 0.9719\n",
      "Epoch 21/30\n",
      "1500/1500 [==============================] - 7s 5ms/step - loss: 0.0540 - accuracy: 0.9856 - val_loss: 0.0960 - val_accuracy: 0.9733\n",
      "Epoch 22/30\n",
      "1500/1500 [==============================] - 7s 5ms/step - loss: 0.0508 - accuracy: 0.9866 - val_loss: 0.0956 - val_accuracy: 0.9737\n",
      "Epoch 23/30\n",
      "1500/1500 [==============================] - 7s 5ms/step - loss: 0.0479 - accuracy: 0.9870 - val_loss: 0.0936 - val_accuracy: 0.9742\n",
      "Epoch 24/30\n",
      "1500/1500 [==============================] - 7s 5ms/step - loss: 0.0455 - accuracy: 0.9879 - val_loss: 0.0917 - val_accuracy: 0.9752\n",
      "Epoch 25/30\n",
      "1500/1500 [==============================] - 7s 5ms/step - loss: 0.0427 - accuracy: 0.9890 - val_loss: 0.0907 - val_accuracy: 0.9746\n",
      "Epoch 26/30\n",
      "1500/1500 [==============================] - 7s 5ms/step - loss: 0.0404 - accuracy: 0.9896 - val_loss: 0.0908 - val_accuracy: 0.9744\n",
      "Epoch 27/30\n",
      "1500/1500 [==============================] - 8s 5ms/step - loss: 0.0382 - accuracy: 0.9905 - val_loss: 0.0896 - val_accuracy: 0.9753\n",
      "Epoch 28/30\n",
      "1500/1500 [==============================] - 7s 5ms/step - loss: 0.0360 - accuracy: 0.9916 - val_loss: 0.0898 - val_accuracy: 0.9749\n",
      "Epoch 29/30\n",
      "1500/1500 [==============================] - 8s 5ms/step - loss: 0.0342 - accuracy: 0.9922 - val_loss: 0.0886 - val_accuracy: 0.9758\n",
      "Epoch 30/30\n",
      "1500/1500 [==============================] - 7s 5ms/step - loss: 0.0324 - accuracy: 0.9925 - val_loss: 0.0875 - val_accuracy: 0.9758\n"
     ]
    }
   ],
   "source": [
    "history1 = model1.fit(X_val_train, y_val_train, epochs=30,\n",
    "                    validation_data=(X_val_test, y_val_test))"
   ]
  },
  {
   "cell_type": "markdown",
   "metadata": {},
   "source": [
    "Learning curve <a class=\"anchor\" id=\"Curve1\"></a>"
   ]
  },
  {
   "cell_type": "code",
   "execution_count": 15,
   "metadata": {
    "scrolled": false
   },
   "outputs": [
    {
     "data": {
      "image/png": "[encoded data removed]",
      "text/plain": [
       "<Figure size 864x576 with 1 Axes>"
      ]
     },
     "metadata": {
      "needs_background": "light"
     },
     "output_type": "display_data"
    }
   ],
   "source": [
    "import pandas as pd\n",
    "df_historial1=pd.DataFrame(model1.history.history)\n",
    "df_historial1[['loss','val_loss','accuracy', 'val_accuracy']].plot(figsize=(12, 8),\n",
    "                                                                  grid=True, \n",
    "                                                                  title=\"Learning Curves\",\n",
    "                                                                  ylim=(0,1));"
   ]
  },
  {
   "cell_type": "markdown",
   "metadata": {},
   "source": [
    "#### Modelo 2: 300 Relu 200 Relu adam <a class=\"anchor\" id=\"Modelo2\"></a>"
   ]
  },
  {
   "cell_type": "markdown",
   "metadata": {},
   "source": [
    "Arquitectura"
   ]
  },
  {
   "cell_type": "code",
   "execution_count": 16,
   "metadata": {},
   "outputs": [],
   "source": [
    "model2 = keras.models.Sequential([keras.layers.Flatten(input_shape=[28, 28]),\n",
    "                                keras.layers.Dense(300, activation=\"relu\"),\n",
    "                                keras.layers.Dense(100, activation=\"relu\"),\n",
    "                                keras.layers.Dense(10, activation=\"softmax\")\n",
    "                                ])"
   ]
  },
  {
   "cell_type": "markdown",
   "metadata": {},
   "source": [
    "Resumen"
   ]
  },
  {
   "cell_type": "code",
   "execution_count": 17,
   "metadata": {},
   "outputs": [
    {
     "name": "stdout",
     "output_type": "stream",
     "text": [
      "Model: \"sequential_1\"\n",
      "_________________________________________________________________\n",
      "Layer (type)                 Output Shape              Param #   \n",
      "=================================================================\n",
      "flatten_1 (Flatten)          (None, 784)               0         \n",
      "_________________________________________________________________\n",
      "dense_3 (Dense)              (None, 300)               235500    \n",
      "_________________________________________________________________\n",
      "dense_4 (Dense)              (None, 100)               30100     \n",
      "_________________________________________________________________\n",
      "dense_5 (Dense)              (None, 10)                1010      \n",
      "=================================================================\n",
      "Total params: 266,610\n",
      "Trainable params: 266,610\n",
      "Non-trainable params: 0\n",
      "_________________________________________________________________\n"
     ]
    }
   ],
   "source": [
    "model2.summary()"
   ]
  },
  {
   "cell_type": "markdown",
   "metadata": {},
   "source": [
    "Compilo"
   ]
  },
  {
   "cell_type": "code",
   "execution_count": 18,
   "metadata": {},
   "outputs": [],
   "source": [
    "model2.compile(loss=\"sparse_categorical_crossentropy\",\n",
    "                optimizer=\"adam\",\n",
    "                metrics=[\"accuracy\"])"
   ]
  },
  {
   "cell_type": "markdown",
   "metadata": {},
   "source": [
    "Entreno <a class=\"anchor\" id=\"Fit2\"></a>"
   ]
  },
  {
   "cell_type": "code",
   "execution_count": 19,
   "metadata": {},
   "outputs": [
    {
     "name": "stdout",
     "output_type": "stream",
     "text": [
      "Epoch 1/30\n",
      "1500/1500 [==============================] - 9s 5ms/step - loss: 0.2217 - accuracy: 0.9330 - val_loss: 0.1218 - val_accuracy: 0.9626\n",
      "Epoch 2/30\n",
      "1500/1500 [==============================] - 8s 5ms/step - loss: 0.0897 - accuracy: 0.9722 - val_loss: 0.0996 - val_accuracy: 0.9717\n",
      "Epoch 3/30\n",
      "1500/1500 [==============================] - 8s 6ms/step - loss: 0.0598 - accuracy: 0.9808 - val_loss: 0.0968 - val_accuracy: 0.9725\n",
      "Epoch 4/30\n",
      "1500/1500 [==============================] - 8s 5ms/step - loss: 0.0441 - accuracy: 0.9859 - val_loss: 0.0826 - val_accuracy: 0.9775\n",
      "Epoch 5/30\n",
      "1500/1500 [==============================] - 8s 6ms/step - loss: 0.0358 - accuracy: 0.9880 - val_loss: 0.0786 - val_accuracy: 0.9792\n",
      "Epoch 6/30\n",
      "1500/1500 [==============================] - 7s 5ms/step - loss: 0.0285 - accuracy: 0.9910 - val_loss: 0.1055 - val_accuracy: 0.9751\n",
      "Epoch 7/30\n",
      "1500/1500 [==============================] - 8s 5ms/step - loss: 0.0231 - accuracy: 0.9922 - val_loss: 0.1160 - val_accuracy: 0.9711\n",
      "Epoch 8/30\n",
      "1500/1500 [==============================] - 8s 5ms/step - loss: 0.0197 - accuracy: 0.9936 - val_loss: 0.1055 - val_accuracy: 0.9761\n",
      "Epoch 9/30\n",
      "1500/1500 [==============================] - 8s 5ms/step - loss: 0.0186 - accuracy: 0.9938 - val_loss: 0.1243 - val_accuracy: 0.9755\n",
      "Epoch 10/30\n",
      "1500/1500 [==============================] - 7s 4ms/step - loss: 0.0191 - accuracy: 0.9939 - val_loss: 0.1139 - val_accuracy: 0.9772\n",
      "Epoch 11/30\n",
      "1500/1500 [==============================] - 6s 4ms/step - loss: 0.0122 - accuracy: 0.9959 - val_loss: 0.1293 - val_accuracy: 0.9743\n",
      "Epoch 12/30\n",
      "1500/1500 [==============================] - 7s 5ms/step - loss: 0.0140 - accuracy: 0.9954 - val_loss: 0.1189 - val_accuracy: 0.9782\n",
      "Epoch 13/30\n",
      "1500/1500 [==============================] - 8s 5ms/step - loss: 0.0136 - accuracy: 0.9958 - val_loss: 0.1369 - val_accuracy: 0.9768\n",
      "Epoch 14/30\n",
      "1500/1500 [==============================] - 8s 5ms/step - loss: 0.0109 - accuracy: 0.9965 - val_loss: 0.1113 - val_accuracy: 0.9793\n",
      "Epoch 15/30\n",
      "1500/1500 [==============================] - 7s 5ms/step - loss: 0.0121 - accuracy: 0.9963 - val_loss: 0.1194 - val_accuracy: 0.9789\n",
      "Epoch 16/30\n",
      "1500/1500 [==============================] - 8s 6ms/step - loss: 0.0115 - accuracy: 0.9967 - val_loss: 0.1269 - val_accuracy: 0.9806\n",
      "Epoch 17/30\n",
      "1500/1500 [==============================] - 8s 5ms/step - loss: 0.0090 - accuracy: 0.9971 - val_loss: 0.1445 - val_accuracy: 0.9775\n",
      "Epoch 18/30\n",
      "1500/1500 [==============================] - 7s 5ms/step - loss: 0.0125 - accuracy: 0.9962 - val_loss: 0.1214 - val_accuracy: 0.9803\n",
      "Epoch 19/30\n",
      "1500/1500 [==============================] - 8s 5ms/step - loss: 0.0088 - accuracy: 0.9971 - val_loss: 0.1193 - val_accuracy: 0.9817\n",
      "Epoch 20/30\n",
      "1500/1500 [==============================] - 8s 5ms/step - loss: 0.0073 - accuracy: 0.9979 - val_loss: 0.1611 - val_accuracy: 0.9768\n",
      "Epoch 21/30\n",
      "1500/1500 [==============================] - 8s 5ms/step - loss: 0.0118 - accuracy: 0.9969 - val_loss: 0.1744 - val_accuracy: 0.9757\n",
      "Epoch 22/30\n",
      "1500/1500 [==============================] - 8s 5ms/step - loss: 0.0084 - accuracy: 0.9975 - val_loss: 0.1548 - val_accuracy: 0.9794\n",
      "Epoch 23/30\n",
      "1500/1500 [==============================] - 7s 5ms/step - loss: 0.0124 - accuracy: 0.9964 - val_loss: 0.1301 - val_accuracy: 0.9801\n",
      "Epoch 24/30\n",
      "1500/1500 [==============================] - 8s 5ms/step - loss: 0.0066 - accuracy: 0.9980 - val_loss: 0.1541 - val_accuracy: 0.9798\n",
      "Epoch 25/30\n",
      "1500/1500 [==============================] - 7s 4ms/step - loss: 0.0065 - accuracy: 0.9981 - val_loss: 0.1768 - val_accuracy: 0.9768\n",
      "Epoch 26/30\n",
      "1500/1500 [==============================] - 7s 5ms/step - loss: 0.0090 - accuracy: 0.9977 - val_loss: 0.1872 - val_accuracy: 0.9753\n",
      "Epoch 27/30\n",
      "1500/1500 [==============================] - 7s 5ms/step - loss: 0.0071 - accuracy: 0.9979 - val_loss: 0.1927 - val_accuracy: 0.9735\n",
      "Epoch 28/30\n",
      "1500/1500 [==============================] - 8s 5ms/step - loss: 0.0076 - accuracy: 0.9980 - val_loss: 0.1588 - val_accuracy: 0.9809\n",
      "Epoch 29/30\n",
      "1500/1500 [==============================] - 8s 5ms/step - loss: 0.0056 - accuracy: 0.9981 - val_loss: 0.1831 - val_accuracy: 0.9800\n",
      "Epoch 30/30\n",
      "1500/1500 [==============================] - 8s 5ms/step - loss: 0.0112 - accuracy: 0.9971 - val_loss: 0.1753 - val_accuracy: 0.9795\n"
     ]
    }
   ],
   "source": [
    "history2 = model2.fit(X_val_train, y_val_train, epochs=30,\n",
    "                    validation_data=(X_val_test, y_val_test))"
   ]
  },
  {
   "cell_type": "markdown",
   "metadata": {},
   "source": [
    "Learning curve <a class=\"anchor\" id=\"Curve2\"></a>"
   ]
  },
  {
   "cell_type": "code",
   "execution_count": null,
   "metadata": {
    "scrolled": false
   },
   "outputs": [],
   "source": [
    "df_historial2=pd.DataFrame(model2.history.history)\n",
    "df_historial2[['loss','val_loss','accuracy', 'val_accuracy']].plot(figsize=(12, 8),\n",
    "                                                                  grid=True, \n",
    "                                                                  title=\"Learning Curves\",\n",
    "                                                                  ylim=(0,1));"
   ]
  },
  {
   "cell_type": "markdown",
   "metadata": {},
   "source": [
    "### Seleccion final de modelo y entrenamiento con todos los datos (X_train, y_train)  <a class=\"anchor\" id=\"SeleccionFinal\"></a>"
   ]
  },
  {
   "cell_type": "markdown",
   "metadata": {},
   "source": [
    "De acuerdo a los resultados anteriores, se decide elegir el modelo de red neuronal con dos capas ocultas de 300 y 100 neuronas, con funcion de activacion relu, la capa de salida con softmax y el optimizer ADAM. <a class=\"anchor\" id=\"ModeloFinal\"></a>"
   ]
  },
  {
   "cell_type": "markdown",
   "metadata": {},
   "source": [
    "Arquitectura"
   ]
  },
  {
   "cell_type": "code",
   "execution_count": 11,
   "metadata": {},
   "outputs": [],
   "source": [
    "model_final = keras.models.Sequential([keras.layers.Flatten(input_shape=[28, 28]),\n",
    "                                keras.layers.Dense(300, activation=\"relu\"),\n",
    "                                keras.layers.Dense(100, activation=\"relu\"),\n",
    "                                keras.layers.Dense(10, activation=\"softmax\")\n",
    "                                ])"
   ]
  },
  {
   "cell_type": "markdown",
   "metadata": {},
   "source": [
    "Resumen"
   ]
  },
  {
   "cell_type": "code",
   "execution_count": 12,
   "metadata": {},
   "outputs": [
    {
     "name": "stdout",
     "output_type": "stream",
     "text": [
      "Model: \"sequential\"\n",
      "_________________________________________________________________\n",
      "Layer (type)                 Output Shape              Param #   \n",
      "=================================================================\n",
      "flatten (Flatten)            (None, 784)               0         \n",
      "_________________________________________________________________\n",
      "dense (Dense)                (None, 300)               235500    \n",
      "_________________________________________________________________\n",
      "dense_1 (Dense)              (None, 100)               30100     \n",
      "_________________________________________________________________\n",
      "dense_2 (Dense)              (None, 10)                1010      \n",
      "=================================================================\n",
      "Total params: 266,610\n",
      "Trainable params: 266,610\n",
      "Non-trainable params: 0\n",
      "_________________________________________________________________\n"
     ]
    }
   ],
   "source": [
    "model_final.summary()"
   ]
  },
  {
   "cell_type": "markdown",
   "metadata": {},
   "source": [
    "Compilo"
   ]
  },
  {
   "cell_type": "code",
   "execution_count": 13,
   "metadata": {},
   "outputs": [],
   "source": [
    "model_final.compile(loss=\"sparse_categorical_crossentropy\",\n",
    "                optimizer=\"adam\",\n",
    "                metrics=[\"accuracy\"])"
   ]
  },
  {
   "cell_type": "markdown",
   "metadata": {},
   "source": [
    "Entrenamiento"
   ]
  },
  {
   "cell_type": "code",
   "execution_count": 14,
   "metadata": {},
   "outputs": [
    {
     "name": "stdout",
     "output_type": "stream",
     "text": [
      "Epoch 1/30\n",
      "1875/1875 [==============================] - 9s 4ms/step - loss: 0.3449 - accuracy: 0.9012\n",
      "Epoch 2/30\n",
      "1875/1875 [==============================] - 8s 4ms/step - loss: 0.0865 - accuracy: 0.9741\n",
      "Epoch 3/30\n",
      "1875/1875 [==============================] - 8s 5ms/step - loss: 0.0543 - accuracy: 0.9830\n",
      "Epoch 4/30\n",
      "1875/1875 [==============================] - 9s 5ms/step - loss: 0.0382 - accuracy: 0.9877\n",
      "Epoch 5/30\n",
      "1875/1875 [==============================] - 8s 4ms/step - loss: 0.0308 - accuracy: 0.9898\n",
      "Epoch 6/30\n",
      "1875/1875 [==============================] - 9s 5ms/step - loss: 0.0245 - accuracy: 0.9922\n",
      "Epoch 7/30\n",
      "1875/1875 [==============================] - 8s 4ms/step - loss: 0.0219 - accuracy: 0.9929\n",
      "Epoch 8/30\n",
      "1875/1875 [==============================] - 9s 5ms/step - loss: 0.0187 - accuracy: 0.9937\n",
      "Epoch 9/30\n",
      "1875/1875 [==============================] - 9s 5ms/step - loss: 0.0138 - accuracy: 0.9961\n",
      "Epoch 10/30\n",
      "1875/1875 [==============================] - 10s 6ms/step - loss: 0.0137 - accuracy: 0.9953\n",
      "Epoch 11/30\n",
      "1875/1875 [==============================] - 10s 6ms/step - loss: 0.0122 - accuracy: 0.9959\n",
      "Epoch 12/30\n",
      "1875/1875 [==============================] - 10s 5ms/step - loss: 0.0097 - accuracy: 0.9965\n",
      "Epoch 13/30\n",
      "1875/1875 [==============================] - 10s 5ms/step - loss: 0.0137 - accuracy: 0.9960\n",
      "Epoch 14/30\n",
      "1875/1875 [==============================] - 10s 5ms/step - loss: 0.0087 - accuracy: 0.9972\n",
      "Epoch 15/30\n",
      "1875/1875 [==============================] - 9s 5ms/step - loss: 0.0143 - accuracy: 0.9955\n",
      "Epoch 16/30\n",
      "1875/1875 [==============================] - 9s 5ms/step - loss: 0.0095 - accuracy: 0.9968\n",
      "Epoch 17/30\n",
      "1875/1875 [==============================] - 10s 5ms/step - loss: 0.0085 - accuracy: 0.9974\n",
      "Epoch 18/30\n",
      "1875/1875 [==============================] - 10s 6ms/step - loss: 0.0091 - accuracy: 0.9972\n",
      "Epoch 19/30\n",
      "1875/1875 [==============================] - 10s 5ms/step - loss: 0.0125 - accuracy: 0.9972\n",
      "Epoch 20/30\n",
      "1875/1875 [==============================] - 9s 5ms/step - loss: 0.0069 - accuracy: 0.9980\n",
      "Epoch 21/30\n",
      "1875/1875 [==============================] - 9s 5ms/step - loss: 0.0099 - accuracy: 0.9975\n",
      "Epoch 22/30\n",
      "1875/1875 [==============================] - 8s 4ms/step - loss: 0.0068 - accuracy: 0.9979\n",
      "Epoch 23/30\n",
      "1875/1875 [==============================] - 9s 5ms/step - loss: 0.0063 - accuracy: 0.9982\n",
      "Epoch 24/30\n",
      "1875/1875 [==============================] - 8s 4ms/step - loss: 0.0089 - accuracy: 0.9975\n",
      "Epoch 25/30\n",
      "1875/1875 [==============================] - 9s 5ms/step - loss: 0.0061 - accuracy: 0.9982\n",
      "Epoch 26/30\n",
      "1875/1875 [==============================] - 9s 5ms/step - loss: 0.0083 - accuracy: 0.9976\n",
      "Epoch 27/30\n",
      "1875/1875 [==============================] - 9s 5ms/step - loss: 0.0092 - accuracy: 0.9978\n",
      "Epoch 28/30\n",
      "1875/1875 [==============================] - 9s 5ms/step - loss: 0.0107 - accuracy: 0.9970\n",
      "Epoch 29/30\n",
      "1875/1875 [==============================] - 9s 5ms/step - loss: 0.0047 - accuracy: 0.9985\n",
      "Epoch 30/30\n",
      "1875/1875 [==============================] - 9s 5ms/step - loss: 0.0065 - accuracy: 0.9980\n"
     ]
    }
   ],
   "source": [
    "history_final = model_final.fit(X_train, y_train, epochs=30)"
   ]
  },
  {
   "cell_type": "markdown",
   "metadata": {},
   "source": [
    "Curva de accuracy-loss <a class=\"anchor\" id=\"Accuracy-Final\"></a>"
   ]
  },
  {
   "cell_type": "code",
   "execution_count": 16,
   "metadata": {
    "scrolled": false
   },
   "outputs": [
    {
     "data": {
      "image/png": "[encoded data removed]",
      "text/plain": [
       "<Figure size 864x576 with 1 Axes>"
      ]
     },
     "metadata": {
      "needs_background": "light"
     },
     "output_type": "display_data"
    }
   ],
   "source": [
    "import pandas as pd\n",
    "df_historial_final=pd.DataFrame(model_final.history.history)\n",
    "df_historial_final[['loss','accuracy']].plot(figsize=(12, 8),\n",
    "                                                                  grid=True, \n",
    "                                                                  title=\"Learning Curves\",\n",
    "                                                                  ylim=(0,1));"
   ]
  },
  {
   "cell_type": "markdown",
   "metadata": {},
   "source": [
    "### Prediccion de resultados sobre las nuevas observaciones (X_test) <a class=\"anchor\" id=\"Prediccion\"></a> <a class=\"anchor\" id=\"Predi1\"></a>"
   ]
  },
  {
   "cell_type": "code",
   "execution_count": null,
   "metadata": {},
   "outputs": [],
   "source": []
  },
  {
   "cell_type": "code",
   "execution_count": 17,
   "metadata": {},
   "outputs": [
    {
     "name": "stderr",
     "output_type": "stream",
     "text": [
      "C:\\Users\\Mateio\\Anaconda3\\lib\\site-packages\\tensorflow\\python\\keras\\engine\\sequential.py:450: UserWarning: `model.predict_classes()` is deprecated and will be removed after 2021-01-01. Please use instead:* `np.argmax(model.predict(x), axis=-1)`,   if your model does multi-class classification   (e.g. if it uses a `softmax` last-layer activation).* `(model.predict(x) > 0.5).astype(\"int32\")`,   if your model does binary classification   (e.g. if it uses a `sigmoid` last-layer activation).\n",
      "  warnings.warn('`model.predict_classes()` is deprecated and '\n"
     ]
    },
    {
     "data": {
      "text/plain": [
       "array([0, 9, 4, ..., 5, 9, 7], dtype=int64)"
      ]
     },
     "execution_count": 17,
     "metadata": {},
     "output_type": "execute_result"
    }
   ],
   "source": [
    "predicciones=model_final.predict_classes(X_test)\n",
    "predicciones"
   ]
  },
  {
   "cell_type": "code",
   "execution_count": 18,
   "metadata": {},
   "outputs": [
    {
     "data": {
      "text/plain": [
       "(10000,)"
      ]
     },
     "execution_count": 18,
     "metadata": {},
     "output_type": "execute_result"
    }
   ],
   "source": [
    "predicciones.shape"
   ]
  },
  {
   "cell_type": "markdown",
   "metadata": {},
   "source": [
    "Guardo el resultado en el formato requerido  <a class=\"anchor\" id=\"Guarda-npy\">"
   ]
  },
  {
   "cell_type": "code",
   "execution_count": 19,
   "metadata": {},
   "outputs": [],
   "source": [
    "np.save('Comba_1',predicciones)"
   ]
  },
  {
   "cell_type": "markdown",
   "metadata": {},
   "source": [
    "### Guardar el modelo de produccion   <a class=\"anchor\" id=\"Guarda-modelo\">"
   ]
  },
  {
   "cell_type": "code",
   "execution_count": null,
   "metadata": {},
   "outputs": [],
   "source": [
    "model_final.save('Produccion_1')"
   ]
  }
 ],
 "metadata": {
  "hide_input": false,
  "kernelspec": {
   "display_name": "Python 3",
   "language": "python",
   "name": "python3"
  },
  "language_info": {
   "codemirror_mode": {
    "name": "ipython",
    "version": 3
   },
   "file_extension": ".py",
   "mimetype": "text/x-python",
   "name": "python",
   "nbconvert_exporter": "python",
   "pygments_lexer": "ipython3",
   "version": "3.7.3"
  },
  "toc": {
   "base_numbering": 1,
   "nav_menu": {},
   "number_sections": true,
   "sideBar": true,
   "skip_h1_title": false,
   "title_cell": "Table of Contents",
   "title_sidebar": "Contents",
   "toc_cell": false,
   "toc_position": {},
   "toc_section_display": true,
   "toc_window_display": true
  },
  "varInspector": {
   "cols": {
    "lenName": 16,
    "lenType": 16,
    "lenVar": 40
   },
   "kernels_config": {
    "python": {
     "delete_cmd_postfix": "",
     "delete_cmd_prefix": "del ",
     "library": "var_list.py",
     "varRefreshCmd": "print(var_dic_list())"
    },
    "r": {
     "delete_cmd_postfix": ") ",
     "delete_cmd_prefix": "rm(",
     "library": "var_list.r",
     "varRefreshCmd": "cat(var_dic_list()) "
    }
   },
   "types_to_exclude": [
    "module",
    "function",
    "builtin_function_or_method",
    "instance",
    "_Feature"
   ],
   "window_display": false
  }
 },
 "nbformat": 4,
 "nbformat_minor": 4
}
