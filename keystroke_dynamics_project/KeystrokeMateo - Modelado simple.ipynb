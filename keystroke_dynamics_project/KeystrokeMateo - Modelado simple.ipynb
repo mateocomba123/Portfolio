{
 "cells": [
  {
   "cell_type": "markdown",
   "metadata": {
    "ExecuteTime": {
     "end_time": "2020-09-08T02:03:07.133098Z",
     "start_time": "2020-09-08T02:03:07.129108Z"
    }
   },
   "source": [
    "# Keystroke Dynamics - Primer parcial"
   ]
  },
  {
   "cell_type": "code",
   "execution_count": 99,
   "metadata": {
    "ExecuteTime": {
     "end_time": "2020-09-08T12:40:18.532627Z",
     "start_time": "2020-09-08T12:40:14.889720Z"
    }
   },
   "outputs": [],
   "source": [
    "import numpy as np\n",
    "import pandas as pd\n",
    "import matplotlib.pyplot as pl\n",
    "from sklearn.model_selection import train_test_split\n",
    "from sklearn import linear_model\n",
    "from sklearn.metrics import f1_score, confusion_matrix"
   ]
  },
  {
   "cell_type": "markdown",
   "metadata": {
    "ExecuteTime": {
     "end_time": "2020-09-08T03:39:56.554667Z",
     "start_time": "2020-09-08T03:39:56.549681Z"
    }
   },
   "source": [
    "## Los Datos"
   ]
  },
  {
   "cell_type": "code",
   "execution_count": 100,
   "metadata": {
    "ExecuteTime": {
     "end_time": "2020-09-08T12:40:18.631112Z",
     "start_time": "2020-09-08T12:40:18.534370Z"
    }
   },
   "outputs": [
    {
     "data": {
      "text/html": [
       "<div>\n",
       "<style scoped>\n",
       "    .dataframe tbody tr th:only-of-type {\n",
       "        vertical-align: middle;\n",
       "    }\n",
       "\n",
       "    .dataframe tbody tr th {\n",
       "        vertical-align: top;\n",
       "    }\n",
       "\n",
       "    .dataframe thead th {\n",
       "        text-align: right;\n",
       "    }\n",
       "</style>\n",
       "<table border=\"1\" class=\"dataframe\">\n",
       "  <thead>\n",
       "    <tr style=\"text-align: right;\">\n",
       "      <th></th>\n",
       "      <th>Hold_1</th>\n",
       "      <th>Hold_2</th>\n",
       "      <th>Hold_3</th>\n",
       "      <th>Hold_4</th>\n",
       "      <th>Hold_5</th>\n",
       "      <th>Hold_9</th>\n",
       "      <th>Hold_10</th>\n",
       "      <th>Hold_11</th>\n",
       "      <th>Hold_12</th>\n",
       "      <th>Hold_13</th>\n",
       "      <th>...</th>\n",
       "      <th>Hold_102</th>\n",
       "      <th>Hold_103</th>\n",
       "      <th>Hold_104</th>\n",
       "      <th>Hold_105</th>\n",
       "      <th>Hold_106</th>\n",
       "      <th>Hold_107</th>\n",
       "      <th>Hold_108</th>\n",
       "      <th>Hold_109</th>\n",
       "      <th>Hold_110</th>\n",
       "      <th>Usuario</th>\n",
       "    </tr>\n",
       "  </thead>\n",
       "  <tbody>\n",
       "    <tr>\n",
       "      <th>0</th>\n",
       "      <td>40</td>\n",
       "      <td>106</td>\n",
       "      <td>104</td>\n",
       "      <td>112</td>\n",
       "      <td>95</td>\n",
       "      <td>113</td>\n",
       "      <td>105</td>\n",
       "      <td>144</td>\n",
       "      <td>72</td>\n",
       "      <td>80</td>\n",
       "      <td>...</td>\n",
       "      <td>89</td>\n",
       "      <td>102</td>\n",
       "      <td>122</td>\n",
       "      <td>120</td>\n",
       "      <td>127</td>\n",
       "      <td>105</td>\n",
       "      <td>113</td>\n",
       "      <td>126</td>\n",
       "      <td>102</td>\n",
       "      <td>69</td>\n",
       "    </tr>\n",
       "    <tr>\n",
       "      <th>1</th>\n",
       "      <td>64</td>\n",
       "      <td>116</td>\n",
       "      <td>78</td>\n",
       "      <td>171</td>\n",
       "      <td>152</td>\n",
       "      <td>57</td>\n",
       "      <td>123</td>\n",
       "      <td>157</td>\n",
       "      <td>111</td>\n",
       "      <td>92</td>\n",
       "      <td>...</td>\n",
       "      <td>113</td>\n",
       "      <td>85</td>\n",
       "      <td>78</td>\n",
       "      <td>115</td>\n",
       "      <td>79</td>\n",
       "      <td>97</td>\n",
       "      <td>73</td>\n",
       "      <td>179</td>\n",
       "      <td>95</td>\n",
       "      <td>76</td>\n",
       "    </tr>\n",
       "    <tr>\n",
       "      <th>2</th>\n",
       "      <td>55</td>\n",
       "      <td>121</td>\n",
       "      <td>79</td>\n",
       "      <td>119</td>\n",
       "      <td>87</td>\n",
       "      <td>56</td>\n",
       "      <td>105</td>\n",
       "      <td>114</td>\n",
       "      <td>102</td>\n",
       "      <td>127</td>\n",
       "      <td>...</td>\n",
       "      <td>96</td>\n",
       "      <td>57</td>\n",
       "      <td>48</td>\n",
       "      <td>72</td>\n",
       "      <td>137</td>\n",
       "      <td>88</td>\n",
       "      <td>97</td>\n",
       "      <td>70</td>\n",
       "      <td>103</td>\n",
       "      <td>64</td>\n",
       "    </tr>\n",
       "    <tr>\n",
       "      <th>3</th>\n",
       "      <td>63</td>\n",
       "      <td>79</td>\n",
       "      <td>95</td>\n",
       "      <td>144</td>\n",
       "      <td>47</td>\n",
       "      <td>80</td>\n",
       "      <td>96</td>\n",
       "      <td>128</td>\n",
       "      <td>80</td>\n",
       "      <td>96</td>\n",
       "      <td>...</td>\n",
       "      <td>96</td>\n",
       "      <td>96</td>\n",
       "      <td>64</td>\n",
       "      <td>79</td>\n",
       "      <td>127</td>\n",
       "      <td>111</td>\n",
       "      <td>63</td>\n",
       "      <td>95</td>\n",
       "      <td>95</td>\n",
       "      <td>1</td>\n",
       "    </tr>\n",
       "    <tr>\n",
       "      <th>4</th>\n",
       "      <td>81</td>\n",
       "      <td>126</td>\n",
       "      <td>114</td>\n",
       "      <td>96</td>\n",
       "      <td>85</td>\n",
       "      <td>88</td>\n",
       "      <td>78</td>\n",
       "      <td>112</td>\n",
       "      <td>80</td>\n",
       "      <td>73</td>\n",
       "      <td>...</td>\n",
       "      <td>97</td>\n",
       "      <td>104</td>\n",
       "      <td>141</td>\n",
       "      <td>144</td>\n",
       "      <td>145</td>\n",
       "      <td>104</td>\n",
       "      <td>98</td>\n",
       "      <td>105</td>\n",
       "      <td>78</td>\n",
       "      <td>69</td>\n",
       "    </tr>\n",
       "    <tr>\n",
       "      <th>...</th>\n",
       "      <td>...</td>\n",
       "      <td>...</td>\n",
       "      <td>...</td>\n",
       "      <td>...</td>\n",
       "      <td>...</td>\n",
       "      <td>...</td>\n",
       "      <td>...</td>\n",
       "      <td>...</td>\n",
       "      <td>...</td>\n",
       "      <td>...</td>\n",
       "      <td>...</td>\n",
       "      <td>...</td>\n",
       "      <td>...</td>\n",
       "      <td>...</td>\n",
       "      <td>...</td>\n",
       "      <td>...</td>\n",
       "      <td>...</td>\n",
       "      <td>...</td>\n",
       "      <td>...</td>\n",
       "      <td>...</td>\n",
       "      <td>...</td>\n",
       "    </tr>\n",
       "    <tr>\n",
       "      <th>255</th>\n",
       "      <td>116</td>\n",
       "      <td>140</td>\n",
       "      <td>230</td>\n",
       "      <td>185</td>\n",
       "      <td>145</td>\n",
       "      <td>99</td>\n",
       "      <td>135</td>\n",
       "      <td>166</td>\n",
       "      <td>177</td>\n",
       "      <td>232</td>\n",
       "      <td>...</td>\n",
       "      <td>136</td>\n",
       "      <td>114</td>\n",
       "      <td>160</td>\n",
       "      <td>201</td>\n",
       "      <td>246</td>\n",
       "      <td>124</td>\n",
       "      <td>195</td>\n",
       "      <td>140</td>\n",
       "      <td>140</td>\n",
       "      <td>65</td>\n",
       "    </tr>\n",
       "    <tr>\n",
       "      <th>256</th>\n",
       "      <td>63</td>\n",
       "      <td>96</td>\n",
       "      <td>143</td>\n",
       "      <td>191</td>\n",
       "      <td>111</td>\n",
       "      <td>79</td>\n",
       "      <td>128</td>\n",
       "      <td>126</td>\n",
       "      <td>95</td>\n",
       "      <td>112</td>\n",
       "      <td>...</td>\n",
       "      <td>127</td>\n",
       "      <td>95</td>\n",
       "      <td>79</td>\n",
       "      <td>64</td>\n",
       "      <td>127</td>\n",
       "      <td>113</td>\n",
       "      <td>95</td>\n",
       "      <td>95</td>\n",
       "      <td>111</td>\n",
       "      <td>1</td>\n",
       "    </tr>\n",
       "    <tr>\n",
       "      <th>257</th>\n",
       "      <td>71</td>\n",
       "      <td>104</td>\n",
       "      <td>89</td>\n",
       "      <td>93</td>\n",
       "      <td>95</td>\n",
       "      <td>96</td>\n",
       "      <td>82</td>\n",
       "      <td>109</td>\n",
       "      <td>79</td>\n",
       "      <td>70</td>\n",
       "      <td>...</td>\n",
       "      <td>97</td>\n",
       "      <td>87</td>\n",
       "      <td>87</td>\n",
       "      <td>113</td>\n",
       "      <td>119</td>\n",
       "      <td>120</td>\n",
       "      <td>99</td>\n",
       "      <td>104</td>\n",
       "      <td>80</td>\n",
       "      <td>69</td>\n",
       "    </tr>\n",
       "    <tr>\n",
       "      <th>258</th>\n",
       "      <td>109</td>\n",
       "      <td>148</td>\n",
       "      <td>111</td>\n",
       "      <td>152</td>\n",
       "      <td>145</td>\n",
       "      <td>171</td>\n",
       "      <td>156</td>\n",
       "      <td>156</td>\n",
       "      <td>166</td>\n",
       "      <td>193</td>\n",
       "      <td>...</td>\n",
       "      <td>132</td>\n",
       "      <td>114</td>\n",
       "      <td>118</td>\n",
       "      <td>92</td>\n",
       "      <td>167</td>\n",
       "      <td>151</td>\n",
       "      <td>127</td>\n",
       "      <td>101</td>\n",
       "      <td>122</td>\n",
       "      <td>66</td>\n",
       "    </tr>\n",
       "    <tr>\n",
       "      <th>259</th>\n",
       "      <td>61</td>\n",
       "      <td>92</td>\n",
       "      <td>84</td>\n",
       "      <td>134</td>\n",
       "      <td>137</td>\n",
       "      <td>67</td>\n",
       "      <td>126</td>\n",
       "      <td>166</td>\n",
       "      <td>108</td>\n",
       "      <td>144</td>\n",
       "      <td>...</td>\n",
       "      <td>122</td>\n",
       "      <td>95</td>\n",
       "      <td>129</td>\n",
       "      <td>119</td>\n",
       "      <td>70</td>\n",
       "      <td>85</td>\n",
       "      <td>78</td>\n",
       "      <td>82</td>\n",
       "      <td>116</td>\n",
       "      <td>76</td>\n",
       "    </tr>\n",
       "  </tbody>\n",
       "</table>\n",
       "<p>260 rows × 94 columns</p>\n",
       "</div>"
      ],
      "text/plain": [
       "     Hold_1  Hold_2  Hold_3  Hold_4  Hold_5  Hold_9  Hold_10  Hold_11  \\\n",
       "0        40     106     104     112      95     113      105      144   \n",
       "1        64     116      78     171     152      57      123      157   \n",
       "2        55     121      79     119      87      56      105      114   \n",
       "3        63      79      95     144      47      80       96      128   \n",
       "4        81     126     114      96      85      88       78      112   \n",
       "..      ...     ...     ...     ...     ...     ...      ...      ...   \n",
       "255     116     140     230     185     145      99      135      166   \n",
       "256      63      96     143     191     111      79      128      126   \n",
       "257      71     104      89      93      95      96       82      109   \n",
       "258     109     148     111     152     145     171      156      156   \n",
       "259      61      92      84     134     137      67      126      166   \n",
       "\n",
       "     Hold_12  Hold_13  ...  Hold_102  Hold_103  Hold_104  Hold_105  Hold_106  \\\n",
       "0         72       80  ...        89       102       122       120       127   \n",
       "1        111       92  ...       113        85        78       115        79   \n",
       "2        102      127  ...        96        57        48        72       137   \n",
       "3         80       96  ...        96        96        64        79       127   \n",
       "4         80       73  ...        97       104       141       144       145   \n",
       "..       ...      ...  ...       ...       ...       ...       ...       ...   \n",
       "255      177      232  ...       136       114       160       201       246   \n",
       "256       95      112  ...       127        95        79        64       127   \n",
       "257       79       70  ...        97        87        87       113       119   \n",
       "258      166      193  ...       132       114       118        92       167   \n",
       "259      108      144  ...       122        95       129       119        70   \n",
       "\n",
       "     Hold_107  Hold_108  Hold_109  Hold_110  Usuario  \n",
       "0         105       113       126       102       69  \n",
       "1          97        73       179        95       76  \n",
       "2          88        97        70       103       64  \n",
       "3         111        63        95        95        1  \n",
       "4         104        98       105        78       69  \n",
       "..        ...       ...       ...       ...      ...  \n",
       "255       124       195       140       140       65  \n",
       "256       113        95        95       111        1  \n",
       "257       120        99       104        80       69  \n",
       "258       151       127       101       122       66  \n",
       "259        85        78        82       116       76  \n",
       "\n",
       "[260 rows x 94 columns]"
      ]
     },
     "execution_count": 100,
     "metadata": {},
     "output_type": "execute_result"
    }
   ],
   "source": [
    "df=pd.read_csv('keystroke_data_alumno', sep=',')\n",
    "df"
   ]
  },
  {
   "cell_type": "code",
   "execution_count": 101,
   "metadata": {
    "ExecuteTime": {
     "end_time": "2020-09-08T12:40:18.666057Z",
     "start_time": "2020-09-08T12:40:18.633108Z"
    }
   },
   "outputs": [
    {
     "name": "stdout",
     "output_type": "stream",
     "text": [
      "<class 'pandas.core.frame.DataFrame'>\n",
      "RangeIndex: 260 entries, 0 to 259\n",
      "Data columns (total 94 columns):\n",
      " #   Column    Non-Null Count  Dtype\n",
      "---  ------    --------------  -----\n",
      " 0   Hold_1    260 non-null    int64\n",
      " 1   Hold_2    260 non-null    int64\n",
      " 2   Hold_3    260 non-null    int64\n",
      " 3   Hold_4    260 non-null    int64\n",
      " 4   Hold_5    260 non-null    int64\n",
      " 5   Hold_9    260 non-null    int64\n",
      " 6   Hold_10   260 non-null    int64\n",
      " 7   Hold_11   260 non-null    int64\n",
      " 8   Hold_12   260 non-null    int64\n",
      " 9   Hold_13   260 non-null    int64\n",
      " 10  Hold_14   260 non-null    int64\n",
      " 11  Hold_15   260 non-null    int64\n",
      " 12  Hold_16   260 non-null    int64\n",
      " 13  Hold_17   260 non-null    int64\n",
      " 14  Hold_18   260 non-null    int64\n",
      " 15  Hold_19   260 non-null    int64\n",
      " 16  Hold_20   260 non-null    int64\n",
      " 17  Hold_21   260 non-null    int64\n",
      " 18  Hold_22   260 non-null    int64\n",
      " 19  Hold_23   260 non-null    int64\n",
      " 20  Hold_24   260 non-null    int64\n",
      " 21  Hold_25   260 non-null    int64\n",
      " 22  Hold_26   260 non-null    int64\n",
      " 23  Hold_27   260 non-null    int64\n",
      " 24  Hold_28   260 non-null    int64\n",
      " 25  Hold_29   260 non-null    int64\n",
      " 26  Hold_30   260 non-null    int64\n",
      " 27  Hold_31   260 non-null    int64\n",
      " 28  Hold_33   260 non-null    int64\n",
      " 29  Hold_34   260 non-null    int64\n",
      " 30  Hold_35   260 non-null    int64\n",
      " 31  Hold_36   260 non-null    int64\n",
      " 32  Hold_37   260 non-null    int64\n",
      " 33  Hold_38   260 non-null    int64\n",
      " 34  Hold_39   260 non-null    int64\n",
      " 35  Hold_40   260 non-null    int64\n",
      " 36  Hold_41   260 non-null    int64\n",
      " 37  Hold_42   260 non-null    int64\n",
      " 38  Hold_49   260 non-null    int64\n",
      " 39  Hold_50   260 non-null    int64\n",
      " 40  Hold_51   260 non-null    int64\n",
      " 41  Hold_52   260 non-null    int64\n",
      " 42  Hold_53   260 non-null    int64\n",
      " 43  Hold_54   260 non-null    int64\n",
      " 44  Hold_55   260 non-null    int64\n",
      " 45  Hold_56   260 non-null    int64\n",
      " 46  Hold_57   260 non-null    int64\n",
      " 47  Hold_58   260 non-null    int64\n",
      " 48  Hold_59   260 non-null    int64\n",
      " 49  Hold_60   260 non-null    int64\n",
      " 50  Hold_61   260 non-null    int64\n",
      " 51  Hold_62   260 non-null    int64\n",
      " 52  Hold_63   260 non-null    int64\n",
      " 53  Hold_64   260 non-null    int64\n",
      " 54  Hold_65   260 non-null    int64\n",
      " 55  Hold_73   260 non-null    int64\n",
      " 56  Hold_74   260 non-null    int64\n",
      " 57  Hold_75   260 non-null    int64\n",
      " 58  Hold_76   260 non-null    int64\n",
      " 59  Hold_77   260 non-null    int64\n",
      " 60  Hold_78   260 non-null    int64\n",
      " 61  Hold_79   260 non-null    int64\n",
      " 62  Hold_80   260 non-null    int64\n",
      " 63  Hold_81   260 non-null    int64\n",
      " 64  Hold_82   260 non-null    int64\n",
      " 65  Hold_83   260 non-null    int64\n",
      " 66  Hold_84   260 non-null    int64\n",
      " 67  Hold_85   260 non-null    int64\n",
      " 68  Hold_86   260 non-null    int64\n",
      " 69  Hold_87   260 non-null    int64\n",
      " 70  Hold_88   260 non-null    int64\n",
      " 71  Hold_89   260 non-null    int64\n",
      " 72  Hold_90   260 non-null    int64\n",
      " 73  Hold_91   260 non-null    int64\n",
      " 74  Hold_92   260 non-null    int64\n",
      " 75  Hold_93   260 non-null    int64\n",
      " 76  Hold_94   260 non-null    int64\n",
      " 77  Hold_95   260 non-null    int64\n",
      " 78  Hold_96   260 non-null    int64\n",
      " 79  Hold_97   260 non-null    int64\n",
      " 80  Hold_98   260 non-null    int64\n",
      " 81  Hold_99   260 non-null    int64\n",
      " 82  Hold_100  260 non-null    int64\n",
      " 83  Hold_101  260 non-null    int64\n",
      " 84  Hold_102  260 non-null    int64\n",
      " 85  Hold_103  260 non-null    int64\n",
      " 86  Hold_104  260 non-null    int64\n",
      " 87  Hold_105  260 non-null    int64\n",
      " 88  Hold_106  260 non-null    int64\n",
      " 89  Hold_107  260 non-null    int64\n",
      " 90  Hold_108  260 non-null    int64\n",
      " 91  Hold_109  260 non-null    int64\n",
      " 92  Hold_110  260 non-null    int64\n",
      " 93  Usuario   260 non-null    int64\n",
      "dtypes: int64(94)\n",
      "memory usage: 191.1 KB\n"
     ]
    }
   ],
   "source": [
    "df.info()"
   ]
  },
  {
   "cell_type": "code",
   "execution_count": 102,
   "metadata": {
    "ExecuteTime": {
     "end_time": "2020-09-08T12:40:20.097294Z",
     "start_time": "2020-09-08T12:40:18.669010Z"
    },
    "scrolled": true
   },
   "outputs": [
    {
     "data": {
      "text/html": [
       "<div>\n",
       "<style scoped>\n",
       "    .dataframe tbody tr th:only-of-type {\n",
       "        vertical-align: middle;\n",
       "    }\n",
       "\n",
       "    .dataframe tbody tr th {\n",
       "        vertical-align: top;\n",
       "    }\n",
       "\n",
       "    .dataframe thead th {\n",
       "        text-align: right;\n",
       "    }\n",
       "</style>\n",
       "<table border=\"1\" class=\"dataframe\">\n",
       "  <thead>\n",
       "    <tr style=\"text-align: right;\">\n",
       "      <th></th>\n",
       "      <th>Hold_1</th>\n",
       "      <th>Hold_2</th>\n",
       "      <th>Hold_3</th>\n",
       "      <th>Hold_4</th>\n",
       "      <th>Hold_5</th>\n",
       "      <th>Hold_9</th>\n",
       "      <th>Hold_10</th>\n",
       "      <th>Hold_11</th>\n",
       "      <th>Hold_12</th>\n",
       "      <th>Hold_13</th>\n",
       "      <th>...</th>\n",
       "      <th>Hold_102</th>\n",
       "      <th>Hold_103</th>\n",
       "      <th>Hold_104</th>\n",
       "      <th>Hold_105</th>\n",
       "      <th>Hold_106</th>\n",
       "      <th>Hold_107</th>\n",
       "      <th>Hold_108</th>\n",
       "      <th>Hold_109</th>\n",
       "      <th>Hold_110</th>\n",
       "      <th>Usuario</th>\n",
       "    </tr>\n",
       "  </thead>\n",
       "  <tbody>\n",
       "    <tr>\n",
       "      <th>count</th>\n",
       "      <td>260.000000</td>\n",
       "      <td>260.000000</td>\n",
       "      <td>260.000000</td>\n",
       "      <td>260.000000</td>\n",
       "      <td>260.000000</td>\n",
       "      <td>260.000000</td>\n",
       "      <td>260.000000</td>\n",
       "      <td>260.000000</td>\n",
       "      <td>260.000000</td>\n",
       "      <td>260.000000</td>\n",
       "      <td>...</td>\n",
       "      <td>260.000000</td>\n",
       "      <td>260.000000</td>\n",
       "      <td>260.000000</td>\n",
       "      <td>260.000000</td>\n",
       "      <td>260.000000</td>\n",
       "      <td>260.000000</td>\n",
       "      <td>260.000000</td>\n",
       "      <td>260.000000</td>\n",
       "      <td>260.000000</td>\n",
       "      <td>260.000000</td>\n",
       "    </tr>\n",
       "    <tr>\n",
       "      <th>mean</th>\n",
       "      <td>81.515385</td>\n",
       "      <td>105.792308</td>\n",
       "      <td>95.946154</td>\n",
       "      <td>111.011538</td>\n",
       "      <td>100.715385</td>\n",
       "      <td>91.573077</td>\n",
       "      <td>102.488462</td>\n",
       "      <td>117.161538</td>\n",
       "      <td>94.650000</td>\n",
       "      <td>103.534615</td>\n",
       "      <td>...</td>\n",
       "      <td>101.957692</td>\n",
       "      <td>95.950000</td>\n",
       "      <td>92.823077</td>\n",
       "      <td>98.684615</td>\n",
       "      <td>122.388462</td>\n",
       "      <td>101.919231</td>\n",
       "      <td>108.653846</td>\n",
       "      <td>103.992308</td>\n",
       "      <td>101.876923</td>\n",
       "      <td>63.911538</td>\n",
       "    </tr>\n",
       "    <tr>\n",
       "      <th>std</th>\n",
       "      <td>24.514037</td>\n",
       "      <td>31.593752</td>\n",
       "      <td>32.690147</td>\n",
       "      <td>38.803980</td>\n",
       "      <td>32.025626</td>\n",
       "      <td>31.662409</td>\n",
       "      <td>31.426999</td>\n",
       "      <td>34.373893</td>\n",
       "      <td>32.010927</td>\n",
       "      <td>43.593094</td>\n",
       "      <td>...</td>\n",
       "      <td>25.395142</td>\n",
       "      <td>33.838838</td>\n",
       "      <td>31.613121</td>\n",
       "      <td>32.958740</td>\n",
       "      <td>42.155795</td>\n",
       "      <td>26.841829</td>\n",
       "      <td>30.089368</td>\n",
       "      <td>28.138240</td>\n",
       "      <td>23.263976</td>\n",
       "      <td>18.108954</td>\n",
       "    </tr>\n",
       "    <tr>\n",
       "      <th>min</th>\n",
       "      <td>15.000000</td>\n",
       "      <td>48.000000</td>\n",
       "      <td>48.000000</td>\n",
       "      <td>36.000000</td>\n",
       "      <td>47.000000</td>\n",
       "      <td>17.000000</td>\n",
       "      <td>11.000000</td>\n",
       "      <td>50.000000</td>\n",
       "      <td>3.000000</td>\n",
       "      <td>10.000000</td>\n",
       "      <td>...</td>\n",
       "      <td>48.000000</td>\n",
       "      <td>7.000000</td>\n",
       "      <td>28.000000</td>\n",
       "      <td>47.000000</td>\n",
       "      <td>49.000000</td>\n",
       "      <td>39.000000</td>\n",
       "      <td>53.000000</td>\n",
       "      <td>41.000000</td>\n",
       "      <td>53.000000</td>\n",
       "      <td>1.000000</td>\n",
       "    </tr>\n",
       "    <tr>\n",
       "      <th>25%</th>\n",
       "      <td>69.750000</td>\n",
       "      <td>84.000000</td>\n",
       "      <td>75.000000</td>\n",
       "      <td>83.000000</td>\n",
       "      <td>77.000000</td>\n",
       "      <td>71.000000</td>\n",
       "      <td>82.000000</td>\n",
       "      <td>89.750000</td>\n",
       "      <td>73.000000</td>\n",
       "      <td>72.000000</td>\n",
       "      <td>...</td>\n",
       "      <td>82.500000</td>\n",
       "      <td>76.750000</td>\n",
       "      <td>70.000000</td>\n",
       "      <td>78.000000</td>\n",
       "      <td>95.000000</td>\n",
       "      <td>84.750000</td>\n",
       "      <td>88.750000</td>\n",
       "      <td>83.500000</td>\n",
       "      <td>81.750000</td>\n",
       "      <td>65.000000</td>\n",
       "    </tr>\n",
       "    <tr>\n",
       "      <th>50%</th>\n",
       "      <td>79.500000</td>\n",
       "      <td>97.000000</td>\n",
       "      <td>86.000000</td>\n",
       "      <td>104.000000</td>\n",
       "      <td>96.000000</td>\n",
       "      <td>86.000000</td>\n",
       "      <td>97.000000</td>\n",
       "      <td>118.000000</td>\n",
       "      <td>87.000000</td>\n",
       "      <td>95.500000</td>\n",
       "      <td>...</td>\n",
       "      <td>97.500000</td>\n",
       "      <td>91.500000</td>\n",
       "      <td>89.000000</td>\n",
       "      <td>95.000000</td>\n",
       "      <td>119.500000</td>\n",
       "      <td>100.500000</td>\n",
       "      <td>100.000000</td>\n",
       "      <td>100.000000</td>\n",
       "      <td>98.500000</td>\n",
       "      <td>68.000000</td>\n",
       "    </tr>\n",
       "    <tr>\n",
       "      <th>75%</th>\n",
       "      <td>90.000000</td>\n",
       "      <td>123.250000</td>\n",
       "      <td>111.000000</td>\n",
       "      <td>128.250000</td>\n",
       "      <td>118.250000</td>\n",
       "      <td>104.250000</td>\n",
       "      <td>117.250000</td>\n",
       "      <td>142.000000</td>\n",
       "      <td>112.000000</td>\n",
       "      <td>122.000000</td>\n",
       "      <td>...</td>\n",
       "      <td>118.250000</td>\n",
       "      <td>111.000000</td>\n",
       "      <td>112.000000</td>\n",
       "      <td>113.000000</td>\n",
       "      <td>142.000000</td>\n",
       "      <td>116.000000</td>\n",
       "      <td>126.250000</td>\n",
       "      <td>120.000000</td>\n",
       "      <td>116.000000</td>\n",
       "      <td>73.000000</td>\n",
       "    </tr>\n",
       "    <tr>\n",
       "      <th>max</th>\n",
       "      <td>244.000000</td>\n",
       "      <td>244.000000</td>\n",
       "      <td>242.000000</td>\n",
       "      <td>325.000000</td>\n",
       "      <td>255.000000</td>\n",
       "      <td>220.000000</td>\n",
       "      <td>250.000000</td>\n",
       "      <td>236.000000</td>\n",
       "      <td>206.000000</td>\n",
       "      <td>290.000000</td>\n",
       "      <td>...</td>\n",
       "      <td>194.000000</td>\n",
       "      <td>457.000000</td>\n",
       "      <td>270.000000</td>\n",
       "      <td>236.000000</td>\n",
       "      <td>318.000000</td>\n",
       "      <td>233.000000</td>\n",
       "      <td>235.000000</td>\n",
       "      <td>185.000000</td>\n",
       "      <td>180.000000</td>\n",
       "      <td>76.000000</td>\n",
       "    </tr>\n",
       "  </tbody>\n",
       "</table>\n",
       "<p>8 rows × 94 columns</p>\n",
       "</div>"
      ],
      "text/plain": [
       "           Hold_1      Hold_2      Hold_3      Hold_4      Hold_5      Hold_9  \\\n",
       "count  260.000000  260.000000  260.000000  260.000000  260.000000  260.000000   \n",
       "mean    81.515385  105.792308   95.946154  111.011538  100.715385   91.573077   \n",
       "std     24.514037   31.593752   32.690147   38.803980   32.025626   31.662409   \n",
       "min     15.000000   48.000000   48.000000   36.000000   47.000000   17.000000   \n",
       "25%     69.750000   84.000000   75.000000   83.000000   77.000000   71.000000   \n",
       "50%     79.500000   97.000000   86.000000  104.000000   96.000000   86.000000   \n",
       "75%     90.000000  123.250000  111.000000  128.250000  118.250000  104.250000   \n",
       "max    244.000000  244.000000  242.000000  325.000000  255.000000  220.000000   \n",
       "\n",
       "          Hold_10     Hold_11     Hold_12     Hold_13  ...    Hold_102  \\\n",
       "count  260.000000  260.000000  260.000000  260.000000  ...  260.000000   \n",
       "mean   102.488462  117.161538   94.650000  103.534615  ...  101.957692   \n",
       "std     31.426999   34.373893   32.010927   43.593094  ...   25.395142   \n",
       "min     11.000000   50.000000    3.000000   10.000000  ...   48.000000   \n",
       "25%     82.000000   89.750000   73.000000   72.000000  ...   82.500000   \n",
       "50%     97.000000  118.000000   87.000000   95.500000  ...   97.500000   \n",
       "75%    117.250000  142.000000  112.000000  122.000000  ...  118.250000   \n",
       "max    250.000000  236.000000  206.000000  290.000000  ...  194.000000   \n",
       "\n",
       "         Hold_103    Hold_104    Hold_105    Hold_106    Hold_107    Hold_108  \\\n",
       "count  260.000000  260.000000  260.000000  260.000000  260.000000  260.000000   \n",
       "mean    95.950000   92.823077   98.684615  122.388462  101.919231  108.653846   \n",
       "std     33.838838   31.613121   32.958740   42.155795   26.841829   30.089368   \n",
       "min      7.000000   28.000000   47.000000   49.000000   39.000000   53.000000   \n",
       "25%     76.750000   70.000000   78.000000   95.000000   84.750000   88.750000   \n",
       "50%     91.500000   89.000000   95.000000  119.500000  100.500000  100.000000   \n",
       "75%    111.000000  112.000000  113.000000  142.000000  116.000000  126.250000   \n",
       "max    457.000000  270.000000  236.000000  318.000000  233.000000  235.000000   \n",
       "\n",
       "         Hold_109    Hold_110     Usuario  \n",
       "count  260.000000  260.000000  260.000000  \n",
       "mean   103.992308  101.876923   63.911538  \n",
       "std     28.138240   23.263976   18.108954  \n",
       "min     41.000000   53.000000    1.000000  \n",
       "25%     83.500000   81.750000   65.000000  \n",
       "50%    100.000000   98.500000   68.000000  \n",
       "75%    120.000000  116.000000   73.000000  \n",
       "max    185.000000  180.000000   76.000000  \n",
       "\n",
       "[8 rows x 94 columns]"
      ]
     },
     "execution_count": 102,
     "metadata": {},
     "output_type": "execute_result"
    }
   ],
   "source": [
    "df.describe()"
   ]
  },
  {
   "cell_type": "markdown",
   "metadata": {
    "ExecuteTime": {
     "end_time": "2020-09-08T04:20:13.314094Z",
     "start_time": "2020-09-08T04:20:13.311077Z"
    }
   },
   "source": [
    "## Train y Test sets"
   ]
  },
  {
   "cell_type": "markdown",
   "metadata": {},
   "source": [
    "Dividimos en train y test sets, con muestreo estratificado"
   ]
  },
  {
   "cell_type": "code",
   "execution_count": 103,
   "metadata": {},
   "outputs": [],
   "source": [
    "X_train,X_test,y_train,y_test=train_test_split(df.drop(axis=1,columns='Usuario'),df['Usuario'],test_size=0.20,random_state=123, stratify= df['Usuario'])"
   ]
  },
  {
   "cell_type": "code",
   "execution_count": 104,
   "metadata": {},
   "outputs": [
    {
     "data": {
      "text/plain": [
       "69    40\n",
       "74    33\n",
       "67    29\n",
       "64    24\n",
       "73    15\n",
       "1     15\n",
       "66    13\n",
       "76    11\n",
       "65    10\n",
       "68     9\n",
       "62     9\n",
       "Name: Usuario, dtype: int64"
      ]
     },
     "execution_count": 104,
     "metadata": {},
     "output_type": "execute_result"
    }
   ],
   "source": [
    "y_train.value_counts()"
   ]
  },
  {
   "cell_type": "code",
   "execution_count": 105,
   "metadata": {},
   "outputs": [
    {
     "data": {
      "text/plain": [
       "69    10\n",
       "74     8\n",
       "67     7\n",
       "64     6\n",
       "1      4\n",
       "73     4\n",
       "76     3\n",
       "66     3\n",
       "65     3\n",
       "62     2\n",
       "68     2\n",
       "Name: Usuario, dtype: int64"
      ]
     },
     "execution_count": 105,
     "metadata": {},
     "output_type": "execute_result"
    }
   ],
   "source": [
    "y_test.value_counts()"
   ]
  },
  {
   "cell_type": "code",
   "execution_count": 106,
   "metadata": {},
   "outputs": [],
   "source": [
    "from sklearn.model_selection import cross_validate"
   ]
  },
  {
   "cell_type": "code",
   "execution_count": 107,
   "metadata": {},
   "outputs": [],
   "source": [
    "from sklearn.model_selection import GridSearchCV"
   ]
  },
  {
   "cell_type": "markdown",
   "metadata": {},
   "source": [
    "# Modelizacion"
   ]
  },
  {
   "cell_type": "markdown",
   "metadata": {
    "ExecuteTime": {
     "end_time": "2020-09-08T04:21:46.198181Z",
     "start_time": "2020-09-08T04:21:46.195153Z"
    }
   },
   "source": [
    "### Modelización Regresión Logística Ridge"
   ]
  },
  {
   "cell_type": "code",
   "execution_count": 108,
   "metadata": {
    "ExecuteTime": {
     "end_time": "2020-09-08T12:40:20.340604Z",
     "start_time": "2020-09-08T12:40:20.335618Z"
    }
   },
   "outputs": [],
   "source": [
    "from sklearn.linear_model import LogisticRegression"
   ]
  },
  {
   "cell_type": "code",
   "execution_count": 109,
   "metadata": {
    "scrolled": true
   },
   "outputs": [
    {
     "name": "stdout",
     "output_type": "stream",
     "text": [
      "Fitting 5 folds for each of 10 candidates, totalling 50 fits\n"
     ]
    },
    {
     "name": "stderr",
     "output_type": "stream",
     "text": [
      "[Parallel(n_jobs=-1)]: Using backend LokyBackend with 4 concurrent workers.\n",
      "[Parallel(n_jobs=-1)]: Done  42 tasks      | elapsed:    9.3s\n",
      "[Parallel(n_jobs=-1)]: Done  50 out of  50 | elapsed:    9.6s finished\n"
     ]
    }
   ],
   "source": [
    "# Creamos el modelo con los parámetros que no cambiarán, observe que no le pasamos el valor de C de regulrización\n",
    "Log_Ridge=LogisticRegression(penalty='l2', max_iter=10000, tol=0.0001) \n",
    "\n",
    "# Armamos el diccionario con el  nombre y valores para los Hiperparámetros\n",
    "parametros_RL = {'C':[0.000001,0.00001,0.0001,0.001,0.01,0.1,1,10,100,1000]}   \n",
    "\n",
    "# Armamos el GridSearchCV\n",
    "grid_RL = GridSearchCV(estimator = Log_Ridge,param_grid = parametros_RL,scoring = 'accuracy', cv = 5, verbose = 1,\n",
    "                        n_jobs = -1)\n",
    "\n",
    "# Lo entrenamos en el Train Set (él lo dividirá internamente y en cada fold estarán en ValTrain y ValTest)\n",
    "grid_RL.fit(X_train, y_train);"
   ]
  },
  {
   "cell_type": "markdown",
   "metadata": {},
   "source": [
    "##### Mejor accuracy obtenido"
   ]
  },
  {
   "cell_type": "code",
   "execution_count": 110,
   "metadata": {
    "ExecuteTime": {
     "end_time": "2020-09-08T12:40:31.030009Z",
     "start_time": "2020-09-08T12:40:20.343597Z"
    },
    "scrolled": true
   },
   "outputs": [
    {
     "data": {
      "text/plain": [
       "1.0"
      ]
     },
     "execution_count": 110,
     "metadata": {},
     "output_type": "execute_result"
    }
   ],
   "source": [
    "# Obtenemos el mejor AC \n",
    "AC_RL_best=grid_RL.best_score_\n",
    "AC_RL_best"
   ]
  },
  {
   "cell_type": "markdown",
   "metadata": {},
   "source": [
    "##### Con la regularizacion C:"
   ]
  },
  {
   "cell_type": "code",
   "execution_count": 111,
   "metadata": {},
   "outputs": [
    {
     "data": {
      "text/plain": [
       "{'C': 0.001}"
      ]
     },
     "execution_count": 111,
     "metadata": {},
     "output_type": "execute_result"
    }
   ],
   "source": [
    "parametros_RL_best=grid_RL.best_params_\n",
    "parametros_RL_best"
   ]
  },
  {
   "cell_type": "markdown",
   "metadata": {},
   "source": [
    "##### Siendo el mejor modelo:"
   ]
  },
  {
   "cell_type": "code",
   "execution_count": 112,
   "metadata": {},
   "outputs": [
    {
     "data": {
      "text/plain": [
       "LogisticRegression(C=0.001, class_weight=None, dual=False, fit_intercept=True,\n",
       "                   intercept_scaling=1, l1_ratio=None, max_iter=10000,\n",
       "                   multi_class='auto', n_jobs=None, penalty='l2',\n",
       "                   random_state=None, solver='lbfgs', tol=0.0001, verbose=0,\n",
       "                   warm_start=False)"
      ]
     },
     "execution_count": 112,
     "metadata": {},
     "output_type": "execute_result"
    }
   ],
   "source": [
    "modelo_RL_best=grid_RL.best_estimator_\n",
    "modelo_RL_best"
   ]
  },
  {
   "cell_type": "code",
   "execution_count": 113,
   "metadata": {},
   "outputs": [
    {
     "data": {
      "text/plain": [
       "0.0"
      ]
     },
     "execution_count": 113,
     "metadata": {},
     "output_type": "execute_result"
    }
   ],
   "source": [
    "# Podemos calcular el desvío standard para el mejor caso:\n",
    "desvios_RL = grid_RL.cv_results_['std_test_score'] \n",
    "desvio_mejor_RL=desvios_RL[grid_RL.best_index_]\n",
    "desvio_mejor_RL"
   ]
  },
  {
   "cell_type": "markdown",
   "metadata": {},
   "source": [
    "##### Conclusiones"
   ]
  },
  {
   "cell_type": "code",
   "execution_count": 114,
   "metadata": {},
   "outputs": [
    {
     "name": "stdout",
     "output_type": "stream",
     "text": [
      "Modelo de Regresión Logística  con Regularización Ridge\n",
      "Mejor Accuracy:  1.0  +/-  0.0 ( 95% )\n",
      "Lectura del intervalo: Con un 95% de confianza, podemos decir que el modelo clasificará correctamente en producción entre el:  100.0 % y el  100.0 % de las observaciones\n"
     ]
    }
   ],
   "source": [
    "print(\"Modelo de Regresión Logística  con Regularización Ridge\")\n",
    "\n",
    "print(\"Mejor Accuracy: \",round(AC_RL_best,3),' +/- ', round(2*desvio_mejor_RL,3), '( 95% )')\n",
    "\n",
    "print(\"Lectura del intervalo: Con un 95% de confianza, podemos decir que el modelo clasificará correctamente en producción entre el: \",round(AC_RL_best - desvio_mejor_RL,2)*100,'% y el ',round(AC_RL_best + 2*desvio_mejor_RL,2)*100 , '% de las observaciones')"
   ]
  },
  {
   "cell_type": "markdown",
   "metadata": {},
   "source": [
    "### Modelización kNN"
   ]
  },
  {
   "cell_type": "code",
   "execution_count": 115,
   "metadata": {},
   "outputs": [
    {
     "name": "stdout",
     "output_type": "stream",
     "text": [
      "Evaluación modelo kNN en el Validation\n",
      "Fitting 5 folds for each of 38 candidates, totalling 190 fits\n"
     ]
    },
    {
     "name": "stderr",
     "output_type": "stream",
     "text": [
      "[Parallel(n_jobs=-1)]: Using backend LokyBackend with 4 concurrent workers.\n",
      "[Parallel(n_jobs=-1)]: Done 190 out of 190 | elapsed:    1.1s finished\n"
     ]
    }
   ],
   "source": [
    "from sklearn import neighbors \n",
    "from sklearn.metrics import confusion_matrix, accuracy_score, f1_score\n",
    "\n",
    "import warnings\n",
    "warnings.simplefilter('ignore')\n",
    "\n",
    "print(\"Evaluación modelo kNN en el Validation\")\n",
    "\n",
    "# Creamos el modelo con los parámetros que no cambiarán, observe que no le pasamos el valor de C de regulrización\n",
    "kNN=neighbors.KNeighborsClassifier()\n",
    "\n",
    "# Armamos el diccionario con el  nombre y valores para los Hiperparámetros\n",
    "parametros_kNN = {'n_neighbors':np.arange(2,21,1),'weights':['uniform','distance']}\n",
    "\n",
    "# Armamos el GridSearchCV\n",
    "grid_kNN = GridSearchCV(estimator = kNN,param_grid = parametros_kNN,scoring = 'accuracy', cv = 5, verbose = 1,\n",
    "                        n_jobs = -1)\n",
    "\n",
    "# Lo entrenamos en el Train Set (él lo dividirá internamente y en cada fold estarán en ValTrain y ValTest)\n",
    "grid_kNN.fit(X_train, y_train);"
   ]
  },
  {
   "cell_type": "markdown",
   "metadata": {},
   "source": [
    "##### Mejor accuracy obtenido"
   ]
  },
  {
   "cell_type": "code",
   "execution_count": 116,
   "metadata": {
    "ExecuteTime": {
     "end_time": "2020-09-08T12:40:31.030009Z",
     "start_time": "2020-09-08T12:40:20.343597Z"
    },
    "scrolled": true
   },
   "outputs": [
    {
     "data": {
      "text/plain": [
       "1.0"
      ]
     },
     "execution_count": 116,
     "metadata": {},
     "output_type": "execute_result"
    }
   ],
   "source": [
    "# Obtenemos el mejor AC \n",
    "AC_kNN_best=grid_kNN.best_score_\n",
    "AC_kNN_best"
   ]
  },
  {
   "cell_type": "markdown",
   "metadata": {},
   "source": [
    "##### Con los siguientes parametros:"
   ]
  },
  {
   "cell_type": "code",
   "execution_count": 117,
   "metadata": {},
   "outputs": [
    {
     "data": {
      "text/plain": [
       "{'n_neighbors': 4, 'weights': 'distance'}"
      ]
     },
     "execution_count": 117,
     "metadata": {},
     "output_type": "execute_result"
    }
   ],
   "source": [
    "parametros_kNN_best=grid_kNN.best_params_\n",
    "parametros_kNN_best"
   ]
  },
  {
   "cell_type": "markdown",
   "metadata": {},
   "source": [
    "##### Siendo el mejor modelo:"
   ]
  },
  {
   "cell_type": "code",
   "execution_count": 118,
   "metadata": {},
   "outputs": [
    {
     "data": {
      "text/plain": [
       "KNeighborsClassifier(algorithm='auto', leaf_size=30, metric='minkowski',\n",
       "                     metric_params=None, n_jobs=None, n_neighbors=4, p=2,\n",
       "                     weights='distance')"
      ]
     },
     "execution_count": 118,
     "metadata": {},
     "output_type": "execute_result"
    }
   ],
   "source": [
    "modelo_RL_best=grid_kNN.best_estimator_\n",
    "modelo_RL_best"
   ]
  },
  {
   "cell_type": "code",
   "execution_count": 119,
   "metadata": {},
   "outputs": [
    {
     "data": {
      "text/plain": [
       "0.0"
      ]
     },
     "execution_count": 119,
     "metadata": {},
     "output_type": "execute_result"
    }
   ],
   "source": [
    "# Podemos calcular el desvío standard para el mejor caso:\n",
    "desvios_kNN = grid_kNN.cv_results_['std_test_score'] \n",
    "desvio_mejor_kNN=desvios_kNN[grid_kNN.best_index_]\n",
    "desvio_mejor_kNN"
   ]
  },
  {
   "cell_type": "markdown",
   "metadata": {},
   "source": [
    "##### Conclusiones"
   ]
  },
  {
   "cell_type": "code",
   "execution_count": 120,
   "metadata": {},
   "outputs": [
    {
     "name": "stdout",
     "output_type": "stream",
     "text": [
      "Modelo de kNN\n",
      "Mejor Accuracy:  1.0  +/-  0.0 ( 95% )\n",
      "Lectura del intervalo: Con un 95% de confianza, podemos decir que el modelo clasificará correctamente en producción entre el:  100.0 % y el  100.0 % de las observaciones\n"
     ]
    }
   ],
   "source": [
    "print(\"Modelo de kNN\")\n",
    "\n",
    "print(\"Mejor Accuracy: \",round(AC_kNN_best,3),' +/- ', round(2*desvio_mejor_kNN,3), '( 95% )')\n",
    "\n",
    "print(\"Lectura del intervalo: Con un 95% de confianza, podemos decir que el modelo clasificará correctamente en producción entre el: \",round(AC_RL_best - desvio_mejor_RL,2)*100,'% y el ',round(AC_RL_best + 2*desvio_mejor_RL,2)*100 , '% de las observaciones')"
   ]
  },
  {
   "cell_type": "markdown",
   "metadata": {},
   "source": [
    "## Modelización Arbol"
   ]
  },
  {
   "cell_type": "code",
   "execution_count": 121,
   "metadata": {},
   "outputs": [],
   "source": [
    "from sklearn.tree import DecisionTreeClassifier "
   ]
  },
  {
   "cell_type": "code",
   "execution_count": 122,
   "metadata": {},
   "outputs": [
    {
     "name": "stderr",
     "output_type": "stream",
     "text": [
      "[Parallel(n_jobs=-1)]: Using backend LokyBackend with 4 concurrent workers.\n"
     ]
    },
    {
     "name": "stdout",
     "output_type": "stream",
     "text": [
      "Fitting 5 folds for each of 19 candidates, totalling 95 fits\n"
     ]
    },
    {
     "name": "stderr",
     "output_type": "stream",
     "text": [
      "[Parallel(n_jobs=-1)]: Done  95 out of  95 | elapsed:    0.6s finished\n"
     ]
    }
   ],
   "source": [
    "parametros_arbol = {'max_depth':np.arange(1,20,1)}\n",
    "arbol=DecisionTreeClassifier(random_state=123)  # para que sea repetible\n",
    "grid_arbol = GridSearchCV(estimator = arbol,param_grid = parametros_arbol,scoring = 'accuracy', cv = 5, verbose = 1,n_jobs = -1)\n",
    "grid_arbol.fit(X_train, y_train);   # el \";\" al final es para que no muestre toodos los parámetros que va a usar."
   ]
  },
  {
   "cell_type": "markdown",
   "metadata": {},
   "source": [
    "##### Mejor accuracy obtenido"
   ]
  },
  {
   "cell_type": "code",
   "execution_count": 123,
   "metadata": {},
   "outputs": [
    {
     "data": {
      "text/plain": [
       "0.7930313588850174"
      ]
     },
     "execution_count": 123,
     "metadata": {},
     "output_type": "execute_result"
    }
   ],
   "source": [
    "AC_arbol_best=grid_arbol.best_score_\n",
    "AC_arbol_best"
   ]
  },
  {
   "cell_type": "markdown",
   "metadata": {},
   "source": [
    "##### En la profundidad:"
   ]
  },
  {
   "cell_type": "code",
   "execution_count": 124,
   "metadata": {},
   "outputs": [
    {
     "data": {
      "text/plain": [
       "{'max_depth': 6}"
      ]
     },
     "execution_count": 124,
     "metadata": {},
     "output_type": "execute_result"
    }
   ],
   "source": [
    "parametros_arbol_best=grid_arbol.best_params_\n",
    "parametros_arbol_best"
   ]
  },
  {
   "cell_type": "markdown",
   "metadata": {},
   "source": [
    "##### El mejor modelo es:"
   ]
  },
  {
   "cell_type": "code",
   "execution_count": 125,
   "metadata": {},
   "outputs": [
    {
     "data": {
      "text/plain": [
       "DecisionTreeClassifier(ccp_alpha=0.0, class_weight=None, criterion='gini',\n",
       "                       max_depth=6, max_features=None, max_leaf_nodes=None,\n",
       "                       min_impurity_decrease=0.0, min_impurity_split=None,\n",
       "                       min_samples_leaf=1, min_samples_split=2,\n",
       "                       min_weight_fraction_leaf=0.0, presort='deprecated',\n",
       "                       random_state=123, splitter='best')"
      ]
     },
     "execution_count": 125,
     "metadata": {},
     "output_type": "execute_result"
    }
   ],
   "source": [
    "modelo_arbol_best=grid_arbol.best_estimator_\n",
    "modelo_arbol_best"
   ]
  },
  {
   "cell_type": "code",
   "execution_count": 126,
   "metadata": {},
   "outputs": [
    {
     "data": {
      "text/plain": [
       "array([0.00796582, 0.05466918, 0.07200142, 0.08328992, 0.06058823,\n",
       "       0.05844087, 0.06738295, 0.06617804, 0.06617804, 0.06747518,\n",
       "       0.06617804, 0.06617804, 0.06617804, 0.06617804, 0.06617804,\n",
       "       0.06617804, 0.06617804, 0.06617804, 0.06617804])"
      ]
     },
     "execution_count": 126,
     "metadata": {},
     "output_type": "execute_result"
    }
   ],
   "source": [
    "desvios_arbol=grid_arbol.cv_results_['std_test_score']\n",
    "desvios_arbol"
   ]
  },
  {
   "cell_type": "code",
   "execution_count": 127,
   "metadata": {},
   "outputs": [],
   "source": [
    "desvio_arbol_mejor=desvios_arbol[grid_arbol.best_index_] #Obtengo el desvío del mejor arbol"
   ]
  },
  {
   "cell_type": "markdown",
   "metadata": {},
   "source": [
    "##### Conclusiones:"
   ]
  },
  {
   "cell_type": "code",
   "execution_count": 128,
   "metadata": {
    "scrolled": true
   },
   "outputs": [
    {
     "name": "stdout",
     "output_type": "stream",
     "text": [
      "Modelo de Árbol\n",
      "Mejor Accuracy:  0.793  +/-  0.117 ( 95% )\n",
      "Lectura del intervalo: Con un 95% de confianza, podemos decir que el modelo clasificará correctamente en producción entre el:  73.0 % y el  91.0 % de las observaciones\n"
     ]
    }
   ],
   "source": [
    "print(\"Modelo de Árbol\")\n",
    "\n",
    "print(\"Mejor Accuracy: \",round(AC_arbol_best,3),' +/- ', round(2*desvio_arbol_mejor,3), '( 95% )')\n",
    "\n",
    "print(\"Lectura del intervalo: Con un 95% de confianza, podemos decir que el modelo clasificará correctamente en producción entre el: \",round(AC_arbol_best - desvio_arbol_mejor,2)*100,'% y el ',round(AC_arbol_best + 2*desvio_arbol_mejor,2)*100 , '% de las observaciones')"
   ]
  },
  {
   "cell_type": "markdown",
   "metadata": {},
   "source": [
    "## Modelización SVM"
   ]
  },
  {
   "cell_type": "code",
   "execution_count": 129,
   "metadata": {},
   "outputs": [],
   "source": [
    "from sklearn.svm import LinearSVC"
   ]
  },
  {
   "cell_type": "code",
   "execution_count": 130,
   "metadata": {},
   "outputs": [
    {
     "name": "stderr",
     "output_type": "stream",
     "text": [
      "[Parallel(n_jobs=-1)]: Using backend LokyBackend with 4 concurrent workers.\n"
     ]
    },
    {
     "name": "stdout",
     "output_type": "stream",
     "text": [
      "Fitting 5 folds for each of 5 candidates, totalling 25 fits\n"
     ]
    },
    {
     "name": "stderr",
     "output_type": "stream",
     "text": [
      "[Parallel(n_jobs=-1)]: Done  25 out of  25 | elapsed:    1.1s finished\n"
     ]
    },
    {
     "data": {
      "text/plain": [
       "GridSearchCV(cv=5, error_score=nan,\n",
       "             estimator=LinearSVC(C=1.0, class_weight=None, dual=True,\n",
       "                                 fit_intercept=True, intercept_scaling=1,\n",
       "                                 loss='hinge', max_iter=1000, multi_class='ovr',\n",
       "                                 penalty='l2', random_state=None, tol=0.0001,\n",
       "                                 verbose=0),\n",
       "             iid='deprecated', n_jobs=-1,\n",
       "             param_grid={'C': [0.1, 1, 10, 100, 1000]}, pre_dispatch='2*n_jobs',\n",
       "             refit=True, return_train_score=False, scoring='accuracy',\n",
       "             verbose=1)"
      ]
     },
     "execution_count": 130,
     "metadata": {},
     "output_type": "execute_result"
    }
   ],
   "source": [
    "parametros_SVM = {'C': [0.1, 1, 10, 100, 1000]} \n",
    "\n",
    "SVM = LinearSVC(loss=\"hinge\", multi_class='ovr')\n",
    "\n",
    "grid_SVM = GridSearchCV(estimator= SVM, param_grid = parametros_SVM, scoring = 'accuracy', cv = 5, verbose = 1, n_jobs = -1) \n",
    "  \n",
    "# fitting the model for grid search \n",
    "grid_SVM.fit(X_train, y_train)"
   ]
  },
  {
   "cell_type": "markdown",
   "metadata": {},
   "source": [
    "##### Mejor accuracy obtenido"
   ]
  },
  {
   "cell_type": "code",
   "execution_count": 131,
   "metadata": {},
   "outputs": [
    {
     "data": {
      "text/plain": [
       "0.9952380952380953"
      ]
     },
     "execution_count": 131,
     "metadata": {},
     "output_type": "execute_result"
    }
   ],
   "source": [
    "AC_SVM_best=grid_SVM.best_score_\n",
    "AC_SVM_best"
   ]
  },
  {
   "cell_type": "markdown",
   "metadata": {},
   "source": [
    "##### Con el parametro C:"
   ]
  },
  {
   "cell_type": "code",
   "execution_count": 132,
   "metadata": {},
   "outputs": [
    {
     "data": {
      "text/plain": [
       "{'C': 0.1}"
      ]
     },
     "execution_count": 132,
     "metadata": {},
     "output_type": "execute_result"
    }
   ],
   "source": [
    "parametros_SVM_best=grid_SVM.best_params_\n",
    "parametros_SVM_best"
   ]
  },
  {
   "cell_type": "markdown",
   "metadata": {},
   "source": [
    "##### El mejor modelo es:"
   ]
  },
  {
   "cell_type": "code",
   "execution_count": 133,
   "metadata": {},
   "outputs": [
    {
     "data": {
      "text/plain": [
       "LinearSVC(C=0.1, class_weight=None, dual=True, fit_intercept=True,\n",
       "          intercept_scaling=1, loss='hinge', max_iter=1000, multi_class='ovr',\n",
       "          penalty='l2', random_state=None, tol=0.0001, verbose=0)"
      ]
     },
     "execution_count": 133,
     "metadata": {},
     "output_type": "execute_result"
    }
   ],
   "source": [
    "modelo_SVM_best=grid_SVM.best_estimator_\n",
    "modelo_SVM_best"
   ]
  },
  {
   "cell_type": "code",
   "execution_count": 134,
   "metadata": {},
   "outputs": [
    {
     "data": {
      "text/plain": [
       "array([0.00952381, 0.00952381, 0.00952381, 0.00952381, 0.00952381])"
      ]
     },
     "execution_count": 134,
     "metadata": {},
     "output_type": "execute_result"
    }
   ],
   "source": [
    "desvios_SVM=grid_SVM.cv_results_['std_test_score']\n",
    "desvios_SVM"
   ]
  },
  {
   "cell_type": "code",
   "execution_count": 135,
   "metadata": {},
   "outputs": [],
   "source": [
    "desvio_SVM_mejor=desvios_SVM[grid_SVM.best_index_] #Obtengo el desvío del mejor arbol"
   ]
  },
  {
   "cell_type": "markdown",
   "metadata": {},
   "source": [
    "##### Conclusiones:"
   ]
  },
  {
   "cell_type": "code",
   "execution_count": 136,
   "metadata": {
    "scrolled": true
   },
   "outputs": [
    {
     "name": "stdout",
     "output_type": "stream",
     "text": [
      "Modelo SVM\n",
      "Mejor Accuracy:  0.995  +/-  0.019 ( 95% )\n",
      "Lectura del intervalo: Con un 95% de confianza, podemos decir que el modelo clasificará correctamente en producción entre el:  99.0 % y el  101.0 % de las observaciones\n"
     ]
    }
   ],
   "source": [
    "print(\"Modelo SVM\")\n",
    "\n",
    "print(\"Mejor Accuracy: \",round(AC_SVM_best,3),' +/- ', round(2*desvio_SVM_mejor,3), '( 95% )')\n",
    "\n",
    "print(\"Lectura del intervalo: Con un 95% de confianza, podemos decir que el modelo clasificará correctamente en producción entre el: \",round(AC_SVM_best - desvio_SVM_mejor,2)*100,'% y el ',round(AC_SVM_best + 2*desvio_SVM_mejor,2)*100 , '% de las observaciones')"
   ]
  },
  {
   "cell_type": "markdown",
   "metadata": {},
   "source": [
    "## Modelización Elastic Net"
   ]
  },
  {
   "cell_type": "code",
   "execution_count": 137,
   "metadata": {},
   "outputs": [],
   "source": [
    "from sklearn.linear_model import SGDClassifier"
   ]
  },
  {
   "cell_type": "code",
   "execution_count": 138,
   "metadata": {},
   "outputs": [
    {
     "name": "stdout",
     "output_type": "stream",
     "text": [
      "Fitting 5 folds for each of 70 candidates, totalling 350 fits\n"
     ]
    },
    {
     "name": "stderr",
     "output_type": "stream",
     "text": [
      "[Parallel(n_jobs=-1)]: Using backend LokyBackend with 4 concurrent workers.\n",
      "[Parallel(n_jobs=-1)]: Done  76 tasks      | elapsed:    1.3s\n",
      "[Parallel(n_jobs=-1)]: Done 343 out of 350 | elapsed:    7.6s remaining:    0.1s\n",
      "[Parallel(n_jobs=-1)]: Done 350 out of 350 | elapsed:    8.8s finished\n"
     ]
    },
    {
     "data": {
      "text/plain": [
       "GridSearchCV(cv=5, error_score=nan,\n",
       "             estimator=SGDClassifier(alpha=0.0001, average=False,\n",
       "                                     class_weight=None, early_stopping=False,\n",
       "                                     epsilon=0.1, eta0=0.0, fit_intercept=True,\n",
       "                                     l1_ratio=0.15, learning_rate='optimal',\n",
       "                                     loss='log', max_iter=1000,\n",
       "                                     n_iter_no_change=5, n_jobs=None,\n",
       "                                     penalty='elasticnet', power_t=0.5,\n",
       "                                     random_state=None, shuffle=True, tol=0.001,\n",
       "                                     validation_fraction=0.1, verbose=0,\n",
       "                                     warm_start=False),\n",
       "             iid='deprecated', n_jobs=-1,\n",
       "             param_grid={'alpha': [0.0001, 0.001, 0.01, 0.1, 1, 10, 100],\n",
       "                         'l1_ratio': array([0. , 0.1, 0.2, 0.3, 0.4, 0.5, 0.6, 0.7, 0.8, 0.9])},\n",
       "             pre_dispatch='2*n_jobs', refit=True, return_train_score=False,\n",
       "             scoring='accuracy', verbose=1)"
      ]
     },
     "execution_count": 138,
     "metadata": {},
     "output_type": "execute_result"
    }
   ],
   "source": [
    "parametros_EN = {\"alpha\": [0.0001, 0.001, 0.01, 0.1, 1, 10, 100],\"l1_ratio\": np.arange(0.0, 1.0, 0.1)}\n",
    "\n",
    "EN = SGDClassifier(loss='log', penalty='elasticnet')\n",
    "\n",
    "grid_EN = GridSearchCV(estimator= EN, param_grid = parametros_EN, scoring = 'accuracy', cv = 5, verbose = 1, n_jobs = -1) \n",
    "  \n",
    "# fitting the model for grid search \n",
    "grid_EN.fit(X_train, y_train)"
   ]
  },
  {
   "cell_type": "markdown",
   "metadata": {},
   "source": [
    "##### Mejor accuracy obtenido"
   ]
  },
  {
   "cell_type": "code",
   "execution_count": 139,
   "metadata": {},
   "outputs": [
    {
     "data": {
      "text/plain": [
       "0.9952380952380953"
      ]
     },
     "execution_count": 139,
     "metadata": {},
     "output_type": "execute_result"
    }
   ],
   "source": [
    "AC_EN_best=grid_EN.best_score_\n",
    "AC_EN_best"
   ]
  },
  {
   "cell_type": "markdown",
   "metadata": {},
   "source": [
    "##### Con los parametros:"
   ]
  },
  {
   "cell_type": "code",
   "execution_count": 140,
   "metadata": {},
   "outputs": [
    {
     "data": {
      "text/plain": [
       "{'alpha': 0.0001, 'l1_ratio': 0.4}"
      ]
     },
     "execution_count": 140,
     "metadata": {},
     "output_type": "execute_result"
    }
   ],
   "source": [
    "parametros_EN_best=grid_EN.best_params_\n",
    "parametros_EN_best"
   ]
  },
  {
   "cell_type": "markdown",
   "metadata": {},
   "source": [
    "##### El mejor modelo es:"
   ]
  },
  {
   "cell_type": "code",
   "execution_count": 141,
   "metadata": {},
   "outputs": [
    {
     "data": {
      "text/plain": [
       "SGDClassifier(alpha=0.0001, average=False, class_weight=None,\n",
       "              early_stopping=False, epsilon=0.1, eta0=0.0, fit_intercept=True,\n",
       "              l1_ratio=0.4, learning_rate='optimal', loss='log', max_iter=1000,\n",
       "              n_iter_no_change=5, n_jobs=None, penalty='elasticnet',\n",
       "              power_t=0.5, random_state=None, shuffle=True, tol=0.001,\n",
       "              validation_fraction=0.1, verbose=0, warm_start=False)"
      ]
     },
     "execution_count": 141,
     "metadata": {},
     "output_type": "execute_result"
    }
   ],
   "source": [
    "modelo_EN_best=grid_EN.best_estimator_\n",
    "modelo_EN_best"
   ]
  },
  {
   "cell_type": "code",
   "execution_count": 142,
   "metadata": {},
   "outputs": [],
   "source": [
    "desvios_EN=grid_EN.cv_results_['std_test_score']"
   ]
  },
  {
   "cell_type": "code",
   "execution_count": 143,
   "metadata": {},
   "outputs": [],
   "source": [
    "desvio_EN_mejor=desvios_EN[grid_EN.best_index_] #Obtengo el desvío del mejor arbol"
   ]
  },
  {
   "cell_type": "markdown",
   "metadata": {},
   "source": [
    "##### Conclusiones:"
   ]
  },
  {
   "cell_type": "code",
   "execution_count": 144,
   "metadata": {
    "scrolled": false
   },
   "outputs": [
    {
     "name": "stdout",
     "output_type": "stream",
     "text": [
      "Modelo Regresion Logistica con Elastic Net\n",
      "Mejor Accuracy:  0.995  +/-  0.019 ( 95% )\n",
      "Lectura del intervalo: Con un 95% de confianza, podemos decir que el modelo clasificará correctamente en producción entre el:  99.0 % y el  101.0 % de las observaciones\n"
     ]
    }
   ],
   "source": [
    "print(\"Modelo Regresion Logistica con Elastic Net\")\n",
    "\n",
    "print(\"Mejor Accuracy: \",round(AC_EN_best,3),' +/- ', round(2*desvio_EN_mejor,3), '( 95% )')\n",
    "\n",
    "print(\"Lectura del intervalo: Con un 95% de confianza, podemos decir que el modelo clasificará correctamente en producción entre el: \",round(AC_EN_best - desvio_EN_mejor,2)*100,'% y el ',round(AC_EN_best + 2*desvio_EN_mejor,2)*100 , '% de las observaciones')"
   ]
  },
  {
   "cell_type": "markdown",
   "metadata": {},
   "source": [
    "# Conclusiones de modelizacion"
   ]
  },
  {
   "cell_type": "code",
   "execution_count": 146,
   "metadata": {},
   "outputs": [
    {
     "data": {
      "text/html": [
       "<div>\n",
       "<style scoped>\n",
       "    .dataframe tbody tr th:only-of-type {\n",
       "        vertical-align: middle;\n",
       "    }\n",
       "\n",
       "    .dataframe tbody tr th {\n",
       "        vertical-align: top;\n",
       "    }\n",
       "\n",
       "    .dataframe thead th {\n",
       "        text-align: right;\n",
       "    }\n",
       "</style>\n",
       "<table border=\"1\" class=\"dataframe\">\n",
       "  <thead>\n",
       "    <tr style=\"text-align: right;\">\n",
       "      <th></th>\n",
       "      <th>Accuracy</th>\n",
       "      <th>Hiperparametros</th>\n",
       "    </tr>\n",
       "    <tr>\n",
       "      <th>Modelo</th>\n",
       "      <th></th>\n",
       "      <th></th>\n",
       "    </tr>\n",
       "  </thead>\n",
       "  <tbody>\n",
       "    <tr>\n",
       "      <th>Reg_Log_Ridge</th>\n",
       "      <td>1.000000</td>\n",
       "      <td>{'C': 0.001}</td>\n",
       "    </tr>\n",
       "    <tr>\n",
       "      <th>kNN</th>\n",
       "      <td>1.000000</td>\n",
       "      <td>{'n_neighbors': 4, 'weights': 'distance'}</td>\n",
       "    </tr>\n",
       "    <tr>\n",
       "      <th>SVM</th>\n",
       "      <td>0.995238</td>\n",
       "      <td>{'C': 0.1}</td>\n",
       "    </tr>\n",
       "    <tr>\n",
       "      <th>ElasticNet</th>\n",
       "      <td>0.995238</td>\n",
       "      <td>{'alpha': 0.0001, 'l1_ratio': 0.4}</td>\n",
       "    </tr>\n",
       "    <tr>\n",
       "      <th>Arbol</th>\n",
       "      <td>0.793031</td>\n",
       "      <td>{'max_depth': 6}</td>\n",
       "    </tr>\n",
       "  </tbody>\n",
       "</table>\n",
       "</div>"
      ],
      "text/plain": [
       "               Accuracy                            Hiperparametros\n",
       "Modelo                                                            \n",
       "Reg_Log_Ridge  1.000000                               {'C': 0.001}\n",
       "kNN            1.000000  {'n_neighbors': 4, 'weights': 'distance'}\n",
       "SVM            0.995238                                 {'C': 0.1}\n",
       "ElasticNet     0.995238         {'alpha': 0.0001, 'l1_ratio': 0.4}\n",
       "Arbol          0.793031                           {'max_depth': 6}"
      ]
     },
     "execution_count": 146,
     "metadata": {},
     "output_type": "execute_result"
    }
   ],
   "source": [
    "#Creo DataFrame con los valores obtenidos de cada modelo\n",
    "dfRtdos= pd.DataFrame({'Modelo': ['Reg_Log_Ridge', 'kNN', 'Arbol','SVM', 'ElasticNet'],\n",
    "                       'Accuracy': [AC_RL_best, AC_kNN_best,AC_arbol_best, AC_SVM_best,AC_EN_best],\n",
    "                       'Hiperparametros': [parametros_RL_best , parametros_kNN_best, parametros_arbol_best, parametros_SVM_best, parametros_EN_best]})\n",
    "#Pongo los modelos como indice\n",
    "dfRtdos = dfRtdos.set_index('Modelo').sort_values(['Accuracy'], ascending=False)\n",
    "dfRtdos"
   ]
  },
  {
   "cell_type": "markdown",
   "metadata": {},
   "source": [
    "#### Entonces, concluimos que el modelo seleccionado sera, Regresion Logistica con Ridge, regularizacion C igual a 0.001, debido a que lo preferimos ante kNN, porque a pesar de tener un accuracy perfecto, kNN es un modelo mas lento que la regresion logistica por tener que recalcular las distancias ante cada nueva observacion."
   ]
  },
  {
   "cell_type": "markdown",
   "metadata": {},
   "source": [
    "# Veamos como funciona el modelo seleccionado en el test set"
   ]
  },
  {
   "cell_type": "code",
   "execution_count": 155,
   "metadata": {},
   "outputs": [
    {
     "name": "stdout",
     "output_type": "stream",
     "text": [
      "El accuracy obtenido en el test es: 0.981\n"
     ]
    }
   ],
   "source": [
    "#Entrenara con todo dataset, con el mejor hiperparametro.\n",
    "AC=grid_RL.score(X_test, y_test)\n",
    "print('El accuracy obtenido en el test es: ' + str(round(AC,3)))"
   ]
  },
  {
   "cell_type": "markdown",
   "metadata": {},
   "source": [
    "# Entrenamos el modelo para produccion con todo el dataset"
   ]
  },
  {
   "cell_type": "code",
   "execution_count": 157,
   "metadata": {},
   "outputs": [
    {
     "data": {
      "text/plain": [
       "LogisticRegression(C=0.001, class_weight=None, dual=False, fit_intercept=True,\n",
       "                   intercept_scaling=1, l1_ratio=None, max_iter=10000,\n",
       "                   multi_class='auto', n_jobs=None, penalty='l2',\n",
       "                   random_state=None, solver='lbfgs', tol=0.0001, verbose=0,\n",
       "                   warm_start=False)"
      ]
     },
     "execution_count": 157,
     "metadata": {},
     "output_type": "execute_result"
    }
   ],
   "source": [
    "X=df.drop('Usuario', axis='columns')\n",
    "y=df['Usuario']\n",
    "modelo_produccion=grid_RL.best_estimator_\n",
    "modelo_produccion.fit(X,y)"
   ]
  },
  {
   "cell_type": "code",
   "execution_count": 158,
   "metadata": {},
   "outputs": [],
   "source": [
    "import pickle\n",
    "# Comenté las siguientes líneas porque sino cada vez que corro este archivo, guardaría.\n",
    "\n",
    "archivo = 'data/modelo_produccion.sav'\n",
    "pickle.dump(modelo_produccion, open(archivo, 'wb'))"
   ]
  }
 ],
 "metadata": {
  "hide_input": false,
  "kernelspec": {
   "display_name": "Python 3",
   "language": "python",
   "name": "python3"
  },
  "language_info": {
   "codemirror_mode": {
    "name": "ipython",
    "version": 3
   },
   "file_extension": ".py",
   "mimetype": "text/x-python",
   "name": "python",
   "nbconvert_exporter": "python",
   "pygments_lexer": "ipython3",
   "version": "3.7.3"
  },
  "toc": {
   "base_numbering": 1,
   "nav_menu": {},
   "number_sections": true,
   "sideBar": true,
   "skip_h1_title": true,
   "title_cell": "Tabla de Contenidos",
   "title_sidebar": "Contenidos",
   "toc_cell": false,
   "toc_position": {
    "height": "calc(100% - 180px)",
    "left": "10px",
    "top": "150px",
    "width": "165px"
   },
   "toc_section_display": true,
   "toc_window_display": true
  }
 },
 "nbformat": 4,
 "nbformat_minor": 4
}
