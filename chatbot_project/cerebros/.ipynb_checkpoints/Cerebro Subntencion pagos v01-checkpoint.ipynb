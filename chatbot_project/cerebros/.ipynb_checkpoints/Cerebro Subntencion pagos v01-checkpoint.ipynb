{
 "cells": [
  {
   "cell_type": "markdown",
   "metadata": {},
   "source": [
    "# Cerebro Subintenciones pagos"
   ]
  },
  {
   "cell_type": "code",
   "execution_count": 2,
   "metadata": {
    "ExecuteTime": {
     "end_time": "2020-10-14T22:59:23.280070Z",
     "start_time": "2020-10-14T22:59:21.828896Z"
    }
   },
   "outputs": [],
   "source": [
    "import numpy as np\n",
    "import pandas as pd\n",
    "import sklearn\n",
    "import nltk"
   ]
  },
  {
   "cell_type": "markdown",
   "metadata": {},
   "source": [
    "###### Para este cerebro solo voy a tomar las oraciones que esten clasificadas como pagos, para evitar el ruido del resto"
   ]
  },
  {
   "cell_type": "code",
   "execution_count": 3,
   "metadata": {
    "ExecuteTime": {
     "end_time": "2020-10-14T22:59:23.310989Z",
     "start_time": "2020-10-14T22:59:23.282066Z"
    }
   },
   "outputs": [],
   "source": [
    "df_textos=pd.read_csv('dataIntents06depurado.csv', sep=';', encoding = \"ISO-8859-1\")\n",
    "df_textos = df_textos[df_textos['intencion']=='pagos']\n",
    "\n",
    "df_textos\n",
    "\n",
    "df_textos = df_textos.reset_index()"
   ]
  },
  {
   "cell_type": "code",
   "execution_count": 4,
   "metadata": {
    "ExecuteTime": {
     "end_time": "2020-10-14T22:59:23.325948Z",
     "start_time": "2020-10-14T22:59:23.313981Z"
    }
   },
   "outputs": [],
   "source": [
    "from sklearn.feature_extraction.text import CountVectorizer\n",
    "corpus=df_textos.oracion\n",
    "\n",
    "import json\n",
    "# Opening JSON file \n",
    "f = open('stopwords.json',) \n",
    "stopwords = json.load(f)['words']\n",
    "\n",
    "vectorizer = CountVectorizer(binary=False)#, stop_words= stopwords)\n",
    "X = vectorizer.fit_transform(corpus)"
   ]
  },
  {
   "cell_type": "markdown",
   "metadata": {},
   "source": [
    "## Vocabulario"
   ]
  },
  {
   "cell_type": "code",
   "execution_count": 5,
   "metadata": {
    "ExecuteTime": {
     "end_time": "2020-10-14T22:59:23.339911Z",
     "start_time": "2020-10-14T22:59:23.327944Z"
    },
    "scrolled": false
   },
   "outputs": [],
   "source": [
    "vocabulario=vectorizer.get_feature_names()"
   ]
  },
  {
   "cell_type": "code",
   "execution_count": 6,
   "metadata": {
    "ExecuteTime": {
     "end_time": "2020-10-14T22:59:23.349884Z",
     "start_time": "2020-10-14T22:59:23.342904Z"
    }
   },
   "outputs": [
    {
     "data": {
      "text/plain": [
       "162"
      ]
     },
     "execution_count": 6,
     "metadata": {},
     "output_type": "execute_result"
    }
   ],
   "source": [
    "# Cuántas palabras distintas hay en el Vocabulario?\n",
    "len(vocabulario)"
   ]
  },
  {
   "cell_type": "code",
   "execution_count": 7,
   "metadata": {
    "ExecuteTime": {
     "end_time": "2020-10-14T22:59:23.380802Z",
     "start_time": "2020-10-14T22:59:23.351879Z"
    }
   },
   "outputs": [
    {
     "data": {
      "text/html": [
       "<div>\n",
       "<style scoped>\n",
       "    .dataframe tbody tr th:only-of-type {\n",
       "        vertical-align: middle;\n",
       "    }\n",
       "\n",
       "    .dataframe tbody tr th {\n",
       "        vertical-align: top;\n",
       "    }\n",
       "\n",
       "    .dataframe thead th {\n",
       "        text-align: right;\n",
       "    }\n",
       "</style>\n",
       "<table border=\"1\" class=\"dataframe\">\n",
       "  <thead>\n",
       "    <tr style=\"text-align: right;\">\n",
       "      <th></th>\n",
       "      <th>abonar</th>\n",
       "      <th>aceptan</th>\n",
       "      <th>adelantado</th>\n",
       "      <th>ahí</th>\n",
       "      <th>al</th>\n",
       "      <th>algun</th>\n",
       "      <th>algunas</th>\n",
       "      <th>algún</th>\n",
       "      <th>aparezco</th>\n",
       "      <th>arancel</th>\n",
       "      <th>...</th>\n",
       "      <th>todo</th>\n",
       "      <th>todos</th>\n",
       "      <th>un</th>\n",
       "      <th>usar</th>\n",
       "      <th>varias</th>\n",
       "      <th>varios</th>\n",
       "      <th>veraz</th>\n",
       "      <th>vez</th>\n",
       "      <th>visa</th>\n",
       "      <th>voy</th>\n",
       "    </tr>\n",
       "  </thead>\n",
       "  <tbody>\n",
       "    <tr>\n",
       "      <th>0</th>\n",
       "      <td>0</td>\n",
       "      <td>0</td>\n",
       "      <td>0</td>\n",
       "      <td>0</td>\n",
       "      <td>0</td>\n",
       "      <td>0</td>\n",
       "      <td>0</td>\n",
       "      <td>0</td>\n",
       "      <td>0</td>\n",
       "      <td>0</td>\n",
       "      <td>...</td>\n",
       "      <td>0</td>\n",
       "      <td>0</td>\n",
       "      <td>0</td>\n",
       "      <td>0</td>\n",
       "      <td>0</td>\n",
       "      <td>0</td>\n",
       "      <td>0</td>\n",
       "      <td>0</td>\n",
       "      <td>0</td>\n",
       "      <td>0</td>\n",
       "    </tr>\n",
       "    <tr>\n",
       "      <th>1</th>\n",
       "      <td>0</td>\n",
       "      <td>0</td>\n",
       "      <td>0</td>\n",
       "      <td>0</td>\n",
       "      <td>0</td>\n",
       "      <td>0</td>\n",
       "      <td>0</td>\n",
       "      <td>0</td>\n",
       "      <td>0</td>\n",
       "      <td>0</td>\n",
       "      <td>...</td>\n",
       "      <td>0</td>\n",
       "      <td>0</td>\n",
       "      <td>0</td>\n",
       "      <td>0</td>\n",
       "      <td>0</td>\n",
       "      <td>0</td>\n",
       "      <td>0</td>\n",
       "      <td>0</td>\n",
       "      <td>0</td>\n",
       "      <td>0</td>\n",
       "    </tr>\n",
       "    <tr>\n",
       "      <th>2</th>\n",
       "      <td>0</td>\n",
       "      <td>0</td>\n",
       "      <td>0</td>\n",
       "      <td>0</td>\n",
       "      <td>0</td>\n",
       "      <td>0</td>\n",
       "      <td>0</td>\n",
       "      <td>0</td>\n",
       "      <td>0</td>\n",
       "      <td>0</td>\n",
       "      <td>...</td>\n",
       "      <td>0</td>\n",
       "      <td>0</td>\n",
       "      <td>0</td>\n",
       "      <td>0</td>\n",
       "      <td>0</td>\n",
       "      <td>0</td>\n",
       "      <td>0</td>\n",
       "      <td>0</td>\n",
       "      <td>0</td>\n",
       "      <td>0</td>\n",
       "    </tr>\n",
       "    <tr>\n",
       "      <th>3</th>\n",
       "      <td>0</td>\n",
       "      <td>0</td>\n",
       "      <td>0</td>\n",
       "      <td>0</td>\n",
       "      <td>0</td>\n",
       "      <td>0</td>\n",
       "      <td>0</td>\n",
       "      <td>0</td>\n",
       "      <td>0</td>\n",
       "      <td>0</td>\n",
       "      <td>...</td>\n",
       "      <td>0</td>\n",
       "      <td>0</td>\n",
       "      <td>0</td>\n",
       "      <td>0</td>\n",
       "      <td>0</td>\n",
       "      <td>0</td>\n",
       "      <td>0</td>\n",
       "      <td>0</td>\n",
       "      <td>0</td>\n",
       "      <td>0</td>\n",
       "    </tr>\n",
       "    <tr>\n",
       "      <th>4</th>\n",
       "      <td>0</td>\n",
       "      <td>0</td>\n",
       "      <td>0</td>\n",
       "      <td>0</td>\n",
       "      <td>0</td>\n",
       "      <td>0</td>\n",
       "      <td>0</td>\n",
       "      <td>0</td>\n",
       "      <td>0</td>\n",
       "      <td>0</td>\n",
       "      <td>...</td>\n",
       "      <td>0</td>\n",
       "      <td>0</td>\n",
       "      <td>0</td>\n",
       "      <td>0</td>\n",
       "      <td>0</td>\n",
       "      <td>0</td>\n",
       "      <td>0</td>\n",
       "      <td>0</td>\n",
       "      <td>0</td>\n",
       "      <td>0</td>\n",
       "    </tr>\n",
       "    <tr>\n",
       "      <th>...</th>\n",
       "      <td>...</td>\n",
       "      <td>...</td>\n",
       "      <td>...</td>\n",
       "      <td>...</td>\n",
       "      <td>...</td>\n",
       "      <td>...</td>\n",
       "      <td>...</td>\n",
       "      <td>...</td>\n",
       "      <td>...</td>\n",
       "      <td>...</td>\n",
       "      <td>...</td>\n",
       "      <td>...</td>\n",
       "      <td>...</td>\n",
       "      <td>...</td>\n",
       "      <td>...</td>\n",
       "      <td>...</td>\n",
       "      <td>...</td>\n",
       "      <td>...</td>\n",
       "      <td>...</td>\n",
       "      <td>...</td>\n",
       "      <td>...</td>\n",
       "    </tr>\n",
       "    <tr>\n",
       "      <th>131</th>\n",
       "      <td>0</td>\n",
       "      <td>0</td>\n",
       "      <td>0</td>\n",
       "      <td>0</td>\n",
       "      <td>0</td>\n",
       "      <td>0</td>\n",
       "      <td>0</td>\n",
       "      <td>0</td>\n",
       "      <td>0</td>\n",
       "      <td>0</td>\n",
       "      <td>...</td>\n",
       "      <td>0</td>\n",
       "      <td>0</td>\n",
       "      <td>0</td>\n",
       "      <td>0</td>\n",
       "      <td>0</td>\n",
       "      <td>0</td>\n",
       "      <td>0</td>\n",
       "      <td>0</td>\n",
       "      <td>0</td>\n",
       "      <td>0</td>\n",
       "    </tr>\n",
       "    <tr>\n",
       "      <th>132</th>\n",
       "      <td>0</td>\n",
       "      <td>0</td>\n",
       "      <td>0</td>\n",
       "      <td>0</td>\n",
       "      <td>0</td>\n",
       "      <td>0</td>\n",
       "      <td>0</td>\n",
       "      <td>0</td>\n",
       "      <td>0</td>\n",
       "      <td>0</td>\n",
       "      <td>...</td>\n",
       "      <td>0</td>\n",
       "      <td>0</td>\n",
       "      <td>0</td>\n",
       "      <td>0</td>\n",
       "      <td>0</td>\n",
       "      <td>0</td>\n",
       "      <td>0</td>\n",
       "      <td>0</td>\n",
       "      <td>0</td>\n",
       "      <td>0</td>\n",
       "    </tr>\n",
       "    <tr>\n",
       "      <th>133</th>\n",
       "      <td>0</td>\n",
       "      <td>0</td>\n",
       "      <td>0</td>\n",
       "      <td>0</td>\n",
       "      <td>0</td>\n",
       "      <td>0</td>\n",
       "      <td>0</td>\n",
       "      <td>0</td>\n",
       "      <td>0</td>\n",
       "      <td>0</td>\n",
       "      <td>...</td>\n",
       "      <td>0</td>\n",
       "      <td>0</td>\n",
       "      <td>0</td>\n",
       "      <td>0</td>\n",
       "      <td>0</td>\n",
       "      <td>0</td>\n",
       "      <td>0</td>\n",
       "      <td>0</td>\n",
       "      <td>0</td>\n",
       "      <td>0</td>\n",
       "    </tr>\n",
       "    <tr>\n",
       "      <th>134</th>\n",
       "      <td>0</td>\n",
       "      <td>0</td>\n",
       "      <td>0</td>\n",
       "      <td>0</td>\n",
       "      <td>0</td>\n",
       "      <td>0</td>\n",
       "      <td>0</td>\n",
       "      <td>0</td>\n",
       "      <td>0</td>\n",
       "      <td>0</td>\n",
       "      <td>...</td>\n",
       "      <td>0</td>\n",
       "      <td>0</td>\n",
       "      <td>0</td>\n",
       "      <td>0</td>\n",
       "      <td>0</td>\n",
       "      <td>0</td>\n",
       "      <td>0</td>\n",
       "      <td>0</td>\n",
       "      <td>0</td>\n",
       "      <td>0</td>\n",
       "    </tr>\n",
       "    <tr>\n",
       "      <th>135</th>\n",
       "      <td>0</td>\n",
       "      <td>0</td>\n",
       "      <td>0</td>\n",
       "      <td>0</td>\n",
       "      <td>0</td>\n",
       "      <td>1</td>\n",
       "      <td>0</td>\n",
       "      <td>0</td>\n",
       "      <td>0</td>\n",
       "      <td>0</td>\n",
       "      <td>...</td>\n",
       "      <td>0</td>\n",
       "      <td>0</td>\n",
       "      <td>0</td>\n",
       "      <td>0</td>\n",
       "      <td>0</td>\n",
       "      <td>0</td>\n",
       "      <td>0</td>\n",
       "      <td>0</td>\n",
       "      <td>0</td>\n",
       "      <td>0</td>\n",
       "    </tr>\n",
       "  </tbody>\n",
       "</table>\n",
       "<p>136 rows × 162 columns</p>\n",
       "</div>"
      ],
      "text/plain": [
       "     abonar  aceptan  adelantado  ahí  al  algun  algunas  algún  aparezco  \\\n",
       "0         0        0           0    0   0      0        0      0         0   \n",
       "1         0        0           0    0   0      0        0      0         0   \n",
       "2         0        0           0    0   0      0        0      0         0   \n",
       "3         0        0           0    0   0      0        0      0         0   \n",
       "4         0        0           0    0   0      0        0      0         0   \n",
       "..      ...      ...         ...  ...  ..    ...      ...    ...       ...   \n",
       "131       0        0           0    0   0      0        0      0         0   \n",
       "132       0        0           0    0   0      0        0      0         0   \n",
       "133       0        0           0    0   0      0        0      0         0   \n",
       "134       0        0           0    0   0      0        0      0         0   \n",
       "135       0        0           0    0   0      1        0      0         0   \n",
       "\n",
       "     arancel  ...  todo  todos  un  usar  varias  varios  veraz  vez  visa  \\\n",
       "0          0  ...     0      0   0     0       0       0      0    0     0   \n",
       "1          0  ...     0      0   0     0       0       0      0    0     0   \n",
       "2          0  ...     0      0   0     0       0       0      0    0     0   \n",
       "3          0  ...     0      0   0     0       0       0      0    0     0   \n",
       "4          0  ...     0      0   0     0       0       0      0    0     0   \n",
       "..       ...  ...   ...    ...  ..   ...     ...     ...    ...  ...   ...   \n",
       "131        0  ...     0      0   0     0       0       0      0    0     0   \n",
       "132        0  ...     0      0   0     0       0       0      0    0     0   \n",
       "133        0  ...     0      0   0     0       0       0      0    0     0   \n",
       "134        0  ...     0      0   0     0       0       0      0    0     0   \n",
       "135        0  ...     0      0   0     0       0       0      0    0     0   \n",
       "\n",
       "     voy  \n",
       "0      0  \n",
       "1      0  \n",
       "2      0  \n",
       "3      0  \n",
       "4      0  \n",
       "..   ...  \n",
       "131    0  \n",
       "132    0  \n",
       "133    0  \n",
       "134    0  \n",
       "135    0  \n",
       "\n",
       "[136 rows x 162 columns]"
      ]
     },
     "execution_count": 7,
     "metadata": {},
     "output_type": "execute_result"
    }
   ],
   "source": [
    "X.toarray()\n",
    "df_X=pd.DataFrame(X.toarray(), columns=vectorizer.get_feature_names())\n",
    "df_X"
   ]
  },
  {
   "cell_type": "code",
   "execution_count": 8,
   "metadata": {
    "ExecuteTime": {
     "end_time": "2020-10-14T22:59:23.415709Z",
     "start_time": "2020-10-14T22:59:23.382796Z"
    }
   },
   "outputs": [
    {
     "data": {
      "text/html": [
       "<div>\n",
       "<style scoped>\n",
       "    .dataframe tbody tr th:only-of-type {\n",
       "        vertical-align: middle;\n",
       "    }\n",
       "\n",
       "    .dataframe tbody tr th {\n",
       "        vertical-align: top;\n",
       "    }\n",
       "\n",
       "    .dataframe thead th {\n",
       "        text-align: right;\n",
       "    }\n",
       "</style>\n",
       "<table border=\"1\" class=\"dataframe\">\n",
       "  <thead>\n",
       "    <tr style=\"text-align: right;\">\n",
       "      <th></th>\n",
       "      <th>oracion</th>\n",
       "      <th>intencion</th>\n",
       "      <th>subIntencion</th>\n",
       "      <th>abonar</th>\n",
       "      <th>aceptan</th>\n",
       "      <th>adelantado</th>\n",
       "      <th>ahí</th>\n",
       "      <th>al</th>\n",
       "      <th>algun</th>\n",
       "      <th>algunas</th>\n",
       "      <th>...</th>\n",
       "      <th>todo</th>\n",
       "      <th>todos</th>\n",
       "      <th>un</th>\n",
       "      <th>usar</th>\n",
       "      <th>varias</th>\n",
       "      <th>varios</th>\n",
       "      <th>veraz</th>\n",
       "      <th>vez</th>\n",
       "      <th>visa</th>\n",
       "      <th>voy</th>\n",
       "    </tr>\n",
       "  </thead>\n",
       "  <tbody>\n",
       "    <tr>\n",
       "      <th>0</th>\n",
       "      <td>cuánto cuesta la carrera</td>\n",
       "      <td>pagos</td>\n",
       "      <td>precio</td>\n",
       "      <td>0</td>\n",
       "      <td>0</td>\n",
       "      <td>0</td>\n",
       "      <td>0</td>\n",
       "      <td>0</td>\n",
       "      <td>0</td>\n",
       "      <td>0</td>\n",
       "      <td>...</td>\n",
       "      <td>0</td>\n",
       "      <td>0</td>\n",
       "      <td>0</td>\n",
       "      <td>0</td>\n",
       "      <td>0</td>\n",
       "      <td>0</td>\n",
       "      <td>0</td>\n",
       "      <td>0</td>\n",
       "      <td>0</td>\n",
       "      <td>0</td>\n",
       "    </tr>\n",
       "    <tr>\n",
       "      <th>1</th>\n",
       "      <td>cuánto cuesta</td>\n",
       "      <td>pagos</td>\n",
       "      <td>precio</td>\n",
       "      <td>0</td>\n",
       "      <td>0</td>\n",
       "      <td>0</td>\n",
       "      <td>0</td>\n",
       "      <td>0</td>\n",
       "      <td>0</td>\n",
       "      <td>0</td>\n",
       "      <td>...</td>\n",
       "      <td>0</td>\n",
       "      <td>0</td>\n",
       "      <td>0</td>\n",
       "      <td>0</td>\n",
       "      <td>0</td>\n",
       "      <td>0</td>\n",
       "      <td>0</td>\n",
       "      <td>0</td>\n",
       "      <td>0</td>\n",
       "      <td>0</td>\n",
       "    </tr>\n",
       "    <tr>\n",
       "      <th>2</th>\n",
       "      <td>cómo se pude pagar</td>\n",
       "      <td>pagos</td>\n",
       "      <td>medios</td>\n",
       "      <td>0</td>\n",
       "      <td>0</td>\n",
       "      <td>0</td>\n",
       "      <td>0</td>\n",
       "      <td>0</td>\n",
       "      <td>0</td>\n",
       "      <td>0</td>\n",
       "      <td>...</td>\n",
       "      <td>0</td>\n",
       "      <td>0</td>\n",
       "      <td>0</td>\n",
       "      <td>0</td>\n",
       "      <td>0</td>\n",
       "      <td>0</td>\n",
       "      <td>0</td>\n",
       "      <td>0</td>\n",
       "      <td>0</td>\n",
       "      <td>0</td>\n",
       "    </tr>\n",
       "    <tr>\n",
       "      <th>3</th>\n",
       "      <td>cuánto cuesta estudiar</td>\n",
       "      <td>pagos</td>\n",
       "      <td>precio</td>\n",
       "      <td>0</td>\n",
       "      <td>0</td>\n",
       "      <td>0</td>\n",
       "      <td>0</td>\n",
       "      <td>0</td>\n",
       "      <td>0</td>\n",
       "      <td>0</td>\n",
       "      <td>...</td>\n",
       "      <td>0</td>\n",
       "      <td>0</td>\n",
       "      <td>0</td>\n",
       "      <td>0</td>\n",
       "      <td>0</td>\n",
       "      <td>0</td>\n",
       "      <td>0</td>\n",
       "      <td>0</td>\n",
       "      <td>0</td>\n",
       "      <td>0</td>\n",
       "    </tr>\n",
       "    <tr>\n",
       "      <th>4</th>\n",
       "      <td>disculpe quería preguntar cuánto cuesta</td>\n",
       "      <td>pagos</td>\n",
       "      <td>precio</td>\n",
       "      <td>0</td>\n",
       "      <td>0</td>\n",
       "      <td>0</td>\n",
       "      <td>0</td>\n",
       "      <td>0</td>\n",
       "      <td>0</td>\n",
       "      <td>0</td>\n",
       "      <td>...</td>\n",
       "      <td>0</td>\n",
       "      <td>0</td>\n",
       "      <td>0</td>\n",
       "      <td>0</td>\n",
       "      <td>0</td>\n",
       "      <td>0</td>\n",
       "      <td>0</td>\n",
       "      <td>0</td>\n",
       "      <td>0</td>\n",
       "      <td>0</td>\n",
       "    </tr>\n",
       "    <tr>\n",
       "      <th>...</th>\n",
       "      <td>...</td>\n",
       "      <td>...</td>\n",
       "      <td>...</td>\n",
       "      <td>...</td>\n",
       "      <td>...</td>\n",
       "      <td>...</td>\n",
       "      <td>...</td>\n",
       "      <td>...</td>\n",
       "      <td>...</td>\n",
       "      <td>...</td>\n",
       "      <td>...</td>\n",
       "      <td>...</td>\n",
       "      <td>...</td>\n",
       "      <td>...</td>\n",
       "      <td>...</td>\n",
       "      <td>...</td>\n",
       "      <td>...</td>\n",
       "      <td>...</td>\n",
       "      <td>...</td>\n",
       "      <td>...</td>\n",
       "      <td>...</td>\n",
       "    </tr>\n",
       "    <tr>\n",
       "      <th>131</th>\n",
       "      <td>que forma de pagos tiene la carrera de ciencia...</td>\n",
       "      <td>pagos</td>\n",
       "      <td>medios</td>\n",
       "      <td>0</td>\n",
       "      <td>0</td>\n",
       "      <td>0</td>\n",
       "      <td>0</td>\n",
       "      <td>0</td>\n",
       "      <td>0</td>\n",
       "      <td>0</td>\n",
       "      <td>...</td>\n",
       "      <td>0</td>\n",
       "      <td>0</td>\n",
       "      <td>0</td>\n",
       "      <td>0</td>\n",
       "      <td>0</td>\n",
       "      <td>0</td>\n",
       "      <td>0</td>\n",
       "      <td>0</td>\n",
       "      <td>0</td>\n",
       "      <td>0</td>\n",
       "    </tr>\n",
       "    <tr>\n",
       "      <th>132</th>\n",
       "      <td>se puede pagar por materia la carrea de ia</td>\n",
       "      <td>pagos</td>\n",
       "      <td>medios</td>\n",
       "      <td>0</td>\n",
       "      <td>0</td>\n",
       "      <td>0</td>\n",
       "      <td>0</td>\n",
       "      <td>0</td>\n",
       "      <td>0</td>\n",
       "      <td>0</td>\n",
       "      <td>...</td>\n",
       "      <td>0</td>\n",
       "      <td>0</td>\n",
       "      <td>0</td>\n",
       "      <td>0</td>\n",
       "      <td>0</td>\n",
       "      <td>0</td>\n",
       "      <td>0</td>\n",
       "      <td>0</td>\n",
       "      <td>0</td>\n",
       "      <td>0</td>\n",
       "    </tr>\n",
       "    <tr>\n",
       "      <th>133</th>\n",
       "      <td>hay que pagar inscripción en la carrera de ia</td>\n",
       "      <td>pagos</td>\n",
       "      <td>precios</td>\n",
       "      <td>0</td>\n",
       "      <td>0</td>\n",
       "      <td>0</td>\n",
       "      <td>0</td>\n",
       "      <td>0</td>\n",
       "      <td>0</td>\n",
       "      <td>0</td>\n",
       "      <td>...</td>\n",
       "      <td>0</td>\n",
       "      <td>0</td>\n",
       "      <td>0</td>\n",
       "      <td>0</td>\n",
       "      <td>0</td>\n",
       "      <td>0</td>\n",
       "      <td>0</td>\n",
       "      <td>0</td>\n",
       "      <td>0</td>\n",
       "      <td>0</td>\n",
       "    </tr>\n",
       "    <tr>\n",
       "      <th>134</th>\n",
       "      <td>los exámenes tienen costo</td>\n",
       "      <td>pagos</td>\n",
       "      <td>precios</td>\n",
       "      <td>0</td>\n",
       "      <td>0</td>\n",
       "      <td>0</td>\n",
       "      <td>0</td>\n",
       "      <td>0</td>\n",
       "      <td>0</td>\n",
       "      <td>0</td>\n",
       "      <td>...</td>\n",
       "      <td>0</td>\n",
       "      <td>0</td>\n",
       "      <td>0</td>\n",
       "      <td>0</td>\n",
       "      <td>0</td>\n",
       "      <td>0</td>\n",
       "      <td>0</td>\n",
       "      <td>0</td>\n",
       "      <td>0</td>\n",
       "      <td>0</td>\n",
       "    </tr>\n",
       "    <tr>\n",
       "      <th>135</th>\n",
       "      <td>tienen algun tipo de descuento?</td>\n",
       "      <td>pagos</td>\n",
       "      <td>medios</td>\n",
       "      <td>0</td>\n",
       "      <td>0</td>\n",
       "      <td>0</td>\n",
       "      <td>0</td>\n",
       "      <td>0</td>\n",
       "      <td>1</td>\n",
       "      <td>0</td>\n",
       "      <td>...</td>\n",
       "      <td>0</td>\n",
       "      <td>0</td>\n",
       "      <td>0</td>\n",
       "      <td>0</td>\n",
       "      <td>0</td>\n",
       "      <td>0</td>\n",
       "      <td>0</td>\n",
       "      <td>0</td>\n",
       "      <td>0</td>\n",
       "      <td>0</td>\n",
       "    </tr>\n",
       "  </tbody>\n",
       "</table>\n",
       "<p>136 rows × 165 columns</p>\n",
       "</div>"
      ],
      "text/plain": [
       "                                               oracion intencion subIntencion  \\\n",
       "0                             cuánto cuesta la carrera     pagos       precio   \n",
       "1                                        cuánto cuesta     pagos       precio   \n",
       "2                                   cómo se pude pagar     pagos       medios   \n",
       "3                               cuánto cuesta estudiar     pagos       precio   \n",
       "4              disculpe quería preguntar cuánto cuesta     pagos       precio   \n",
       "..                                                 ...       ...          ...   \n",
       "131  que forma de pagos tiene la carrera de ciencia...     pagos       medios   \n",
       "132         se puede pagar por materia la carrea de ia     pagos       medios   \n",
       "133      hay que pagar inscripción en la carrera de ia     pagos      precios   \n",
       "134                          los exámenes tienen costo     pagos      precios   \n",
       "135                    tienen algun tipo de descuento?     pagos       medios   \n",
       "\n",
       "     abonar  aceptan  adelantado  ahí  al  algun  algunas  ...  todo  todos  \\\n",
       "0         0        0           0    0   0      0        0  ...     0      0   \n",
       "1         0        0           0    0   0      0        0  ...     0      0   \n",
       "2         0        0           0    0   0      0        0  ...     0      0   \n",
       "3         0        0           0    0   0      0        0  ...     0      0   \n",
       "4         0        0           0    0   0      0        0  ...     0      0   \n",
       "..      ...      ...         ...  ...  ..    ...      ...  ...   ...    ...   \n",
       "131       0        0           0    0   0      0        0  ...     0      0   \n",
       "132       0        0           0    0   0      0        0  ...     0      0   \n",
       "133       0        0           0    0   0      0        0  ...     0      0   \n",
       "134       0        0           0    0   0      0        0  ...     0      0   \n",
       "135       0        0           0    0   0      1        0  ...     0      0   \n",
       "\n",
       "     un  usar  varias  varios  veraz  vez  visa  voy  \n",
       "0     0     0       0       0      0    0     0    0  \n",
       "1     0     0       0       0      0    0     0    0  \n",
       "2     0     0       0       0      0    0     0    0  \n",
       "3     0     0       0       0      0    0     0    0  \n",
       "4     0     0       0       0      0    0     0    0  \n",
       "..   ..   ...     ...     ...    ...  ...   ...  ...  \n",
       "131   0     0       0       0      0    0     0    0  \n",
       "132   0     0       0       0      0    0     0    0  \n",
       "133   0     0       0       0      0    0     0    0  \n",
       "134   0     0       0       0      0    0     0    0  \n",
       "135   0     0       0       0      0    0     0    0  \n",
       "\n",
       "[136 rows x 165 columns]"
      ]
     },
     "execution_count": 8,
     "metadata": {},
     "output_type": "execute_result"
    }
   ],
   "source": [
    "df=df_textos.join(df_X)\n",
    "df = df.drop(['index'], axis=1) #Al resetear index al principio, me quedo esta de mas\n",
    "df"
   ]
  },
  {
   "cell_type": "markdown",
   "metadata": {},
   "source": [
    "### Modelizacion"
   ]
  },
  {
   "cell_type": "code",
   "execution_count": 9,
   "metadata": {
    "ExecuteTime": {
     "end_time": "2020-10-14T22:59:23.423687Z",
     "start_time": "2020-10-14T22:59:23.419697Z"
    }
   },
   "outputs": [],
   "source": [
    "from sklearn.model_selection import train_test_split\n",
    "from sklearn import linear_model\n",
    "from sklearn.metrics import confusion_matrix, accuracy_score, f1_score\n",
    "from sklearn.model_selection import GridSearchCV"
   ]
  },
  {
   "cell_type": "code",
   "execution_count": 10,
   "metadata": {
    "ExecuteTime": {
     "end_time": "2020-10-14T22:59:23.437649Z",
     "start_time": "2020-10-14T22:59:23.426679Z"
    }
   },
   "outputs": [],
   "source": [
    "X=df.drop(axis=1,columns=['oracion','intencion','subIntencion'])\n",
    "y=df['subIntencion']\n",
    "\n",
    "X_train,X_test,y_train,y_test=train_test_split(X,y,test_size=0.20,random_state=123)"
   ]
  },
  {
   "cell_type": "markdown",
   "metadata": {},
   "source": [
    "#### REGRESION LOGISTICA"
   ]
  },
  {
   "cell_type": "code",
   "execution_count": 11,
   "metadata": {},
   "outputs": [
    {
     "name": "stdout",
     "output_type": "stream",
     "text": [
      "Modelo: Regresión Logística sin regularizacion\n",
      "Fitting 5 folds for each of 1 candidates, totalling 5 fits\n"
     ]
    },
    {
     "name": "stderr",
     "output_type": "stream",
     "text": [
      "C:\\Users\\Mateio\\Anaconda3\\lib\\site-packages\\sklearn\\model_selection\\_split.py:667: UserWarning: The least populated class in y has only 1 members, which is less than n_splits=5.\n",
      "  % (min_groups, self.n_splits)), UserWarning)\n",
      "[Parallel(n_jobs=-1)]: Using backend LokyBackend with 4 concurrent workers.\n"
     ]
    },
    {
     "name": "stdout",
     "output_type": "stream",
     "text": [
      "Mejor accuracy: 0.8515\n",
      "Mejor C: {'C': 1}\n"
     ]
    },
    {
     "name": "stderr",
     "output_type": "stream",
     "text": [
      "[Parallel(n_jobs=-1)]: Done   5 out of   5 | elapsed:    4.3s finished\n"
     ]
    }
   ],
   "source": [
    "print(\"Modelo: Regresión Logística sin regularizacion\")\n",
    "\n",
    "from sklearn.linear_model import LogisticRegression\n",
    "\n",
    "# Creamos el modelo con los parámetros que no cambiarán, observe que no le pasamos el valor de C de regulrización\n",
    "RLog=LogisticRegression(penalty='none', max_iter=10000, tol=0.0001, multi_class='ovr',)\n",
    "\n",
    "# Armamos el diccionario con el  nombre y valores para los Hiperparámetros\n",
    "parametros_RLog = {'C':[1]}\n",
    "\n",
    "# Armamos el GridSearchCV\n",
    "grid_RLog = GridSearchCV(estimator = RLog,scoring = 'accuracy',param_grid = parametros_RLog, cv = 5, verbose = 1,\n",
    "                        n_jobs = -1)\n",
    "\n",
    "# Lo entrenamos en el Train Set (él lo dividirá internamente y en cada fold estarán en ValTrain y ValTest)\n",
    "grid_RLog.fit(X_train, y_train);\n",
    "# Listo!\n",
    "\n",
    "# Obtenemos el mejor AC \n",
    "AC_RLog_best=grid_RLog.best_score_\n",
    "print('Mejor accuracy: ' + str(round(AC_RLog_best,4)))\n",
    "\n",
    "C_RLog_best=grid_RLog.best_params_ \n",
    "print('Mejor C: ' + str(C_RLog_best))"
   ]
  },
  {
   "cell_type": "markdown",
   "metadata": {},
   "source": [
    "#### REGRESION LOGISTICA CON REGULARIZACION RIDGE"
   ]
  },
  {
   "cell_type": "code",
   "execution_count": 12,
   "metadata": {},
   "outputs": [
    {
     "name": "stderr",
     "output_type": "stream",
     "text": [
      "C:\\Users\\Mateio\\Anaconda3\\lib\\site-packages\\sklearn\\model_selection\\_split.py:667: UserWarning: The least populated class in y has only 1 members, which is less than n_splits=5.\n",
      "  % (min_groups, self.n_splits)), UserWarning)\n",
      "[Parallel(n_jobs=-1)]: Using backend LokyBackend with 4 concurrent workers.\n"
     ]
    },
    {
     "name": "stdout",
     "output_type": "stream",
     "text": [
      "Modelo: Regresión Logística con Regularización Ridge\n",
      "Fitting 5 folds for each of 11 candidates, totalling 55 fits\n",
      "Mejor accuracy: 0.8515\n",
      "Mejor C: {'C': 1000}\n"
     ]
    },
    {
     "name": "stderr",
     "output_type": "stream",
     "text": [
      "[Parallel(n_jobs=-1)]: Done  55 out of  55 | elapsed:    1.0s finished\n"
     ]
    }
   ],
   "source": [
    "print(\"Modelo: Regresión Logística con Regularización Ridge\")\n",
    "\n",
    "from sklearn.linear_model import LogisticRegression\n",
    "\n",
    "# Creamos el modelo con los parámetros que no cambiarán, observe que no le pasamos el valor de C de regulrización\n",
    "Log_Ridge=LogisticRegression(penalty='l2', max_iter=20000, multi_class='ovr') \n",
    "\n",
    "# Armamos el diccionario con el  nombre y valores para los Hiperparámetros\n",
    "parametros_Ridge = {'C':[1e-6,1e-5,1e-4,0.001,0.01,0.1,1,10,100,1000,10000]}\n",
    "\n",
    "# Armamos el GridSearchCV\n",
    "grid_Ridge = GridSearchCV(estimator = Log_Ridge,param_grid = parametros_Ridge,scoring = 'accuracy', cv = 5, verbose = 1,\n",
    "                        n_jobs = -1)\n",
    "\n",
    "# Lo entrenamos en el Train Set (él lo dividirá internamente y en cada fold estarán en ValTrain y ValTest)\n",
    "grid_Ridge.fit(X_train, y_train)\n",
    "# Listo!\n",
    "\n",
    "# Obtenemos el mejor AC \n",
    "AC_Ridge_best=grid_Ridge.best_score_\n",
    "print(\"Mejor accuracy: \" + str(round(AC_Ridge_best,4)))\n",
    "\n",
    "C_Ridge_best=grid_Ridge.best_params_ \n",
    "print('Mejor C: ' + str(C_Ridge_best))"
   ]
  },
  {
   "cell_type": "markdown",
   "metadata": {},
   "source": [
    "##### REGRESION LOGISTICA CON REGULARIZACION LASSO"
   ]
  },
  {
   "cell_type": "code",
   "execution_count": 13,
   "metadata": {
    "scrolled": false
   },
   "outputs": [
    {
     "name": "stderr",
     "output_type": "stream",
     "text": [
      "C:\\Users\\Mateio\\Anaconda3\\lib\\site-packages\\sklearn\\model_selection\\_split.py:667: UserWarning: The least populated class in y has only 1 members, which is less than n_splits=5.\n",
      "  % (min_groups, self.n_splits)), UserWarning)\n",
      "[Parallel(n_jobs=-1)]: Using backend LokyBackend with 4 concurrent workers.\n"
     ]
    },
    {
     "name": "stdout",
     "output_type": "stream",
     "text": [
      "Modelo: Regresión Logística con Regularización Lasso\n",
      "Fitting 5 folds for each of 10 candidates, totalling 50 fits\n"
     ]
    },
    {
     "name": "stderr",
     "output_type": "stream",
     "text": [
      "[Parallel(n_jobs=-1)]: Done  43 out of  50 | elapsed:    0.1s remaining:    0.0s\n"
     ]
    },
    {
     "name": "stdout",
     "output_type": "stream",
     "text": [
      "Mejor accuracy: 0.8693\n",
      "Mejor C: {'C': 1000}\n"
     ]
    },
    {
     "name": "stderr",
     "output_type": "stream",
     "text": [
      "[Parallel(n_jobs=-1)]: Done  50 out of  50 | elapsed:   19.8s finished\n"
     ]
    }
   ],
   "source": [
    "print(\"Modelo: Regresión Logística con Regularización Lasso\")\n",
    "\n",
    "from sklearn.linear_model import LogisticRegression\n",
    "\n",
    "# Creamos el modelo con los parámetros que no cambiarán, observe que no le pasamos el valor de C de regulrización\n",
    "Log_Lasso=LogisticRegression(penalty='l1', solver= 'liblinear', max_iter=10000, tol=0.0001, multi_class='ovr') \n",
    "\n",
    "# Armamos el diccionario con el  nombre y valores para los Hiperparámetros\n",
    "parametros_Lasso = {'C':[1e-6,1e-5,1e-4,0.001,0.01,0.1,1,10,100,1000]}\n",
    "\n",
    "# Armamos el GridSearchCV\n",
    "grid_Lasso = GridSearchCV(estimator = Log_Lasso,param_grid = parametros_Lasso,scoring = 'accuracy', cv = 5, verbose = 1,\n",
    "                        n_jobs = -1)\n",
    "\n",
    "# Lo entrenamos en el Train Set (él lo dividirá internamente y en cada fold estarán en ValTrain y ValTest)\n",
    "grid_Lasso.fit(X_train, y_train);\n",
    "# Listo!\n",
    "\n",
    "# Obtenemos el mejor AC \n",
    "AC_Lasso_best=grid_Lasso.best_score_\n",
    "print('Mejor accuracy: ' + str(round(AC_Lasso_best,4)))\n",
    "\n",
    "C_Lasso_best=grid_Lasso.best_params_ \n",
    "print('Mejor C: ' + str(C_Lasso_best))"
   ]
  },
  {
   "cell_type": "markdown",
   "metadata": {},
   "source": [
    "##### RANDOM FOREST"
   ]
  },
  {
   "cell_type": "code",
   "execution_count": 14,
   "metadata": {},
   "outputs": [
    {
     "name": "stderr",
     "output_type": "stream",
     "text": [
      "C:\\Users\\Mateio\\Anaconda3\\lib\\site-packages\\sklearn\\model_selection\\_split.py:667: UserWarning: The least populated class in y has only 1 members, which is less than n_splits=5.\n",
      "  % (min_groups, self.n_splits)), UserWarning)\n"
     ]
    },
    {
     "name": "stdout",
     "output_type": "stream",
     "text": [
      "Mejor accuracy: 0.8693\n",
      "Mejor Nro arboles: {'n_estimators': 300}\n"
     ]
    }
   ],
   "source": [
    "from sklearn.ensemble import RandomForestClassifier\n",
    "from sklearn.model_selection import GridSearchCV\n",
    "\n",
    "#Creo el modelo\n",
    "rf=RandomForestClassifier(n_jobs=-1,random_state=123)\n",
    "\n",
    "#Le paso el modelo al grid search con los parametros\n",
    "grid_rf= GridSearchCV(estimator=rf, param_grid={'n_estimators':[100,150,200,250,300,400,500]}, cv=5,n_jobs=-1, return_train_score=True)\n",
    "\n",
    "#Entreno el modelo\n",
    "grid_rf.fit(X_train, y_train)\n",
    "\n",
    "#Obtengo el accuracy del mejor\n",
    "AC_rf_best=grid_rf.best_score_\n",
    "print('Mejor accuracy: ' + str(round(AC_rf_best,4)))\n",
    "    \n",
    "NroArboles_rf_best = grid_rf.best_params_\n",
    "print('Mejor Nro arboles: ' + str(NroArboles_rf_best))\n"
   ]
  },
  {
   "cell_type": "code",
   "execution_count": 15,
   "metadata": {},
   "outputs": [
    {
     "name": "stdout",
     "output_type": "stream",
     "text": [
      "El mejor modelo es:\n"
     ]
    },
    {
     "data": {
      "text/html": [
       "<div>\n",
       "<style scoped>\n",
       "    .dataframe tbody tr th:only-of-type {\n",
       "        vertical-align: middle;\n",
       "    }\n",
       "\n",
       "    .dataframe tbody tr th {\n",
       "        vertical-align: top;\n",
       "    }\n",
       "\n",
       "    .dataframe thead th {\n",
       "        text-align: right;\n",
       "    }\n",
       "</style>\n",
       "<table border=\"1\" class=\"dataframe\">\n",
       "  <thead>\n",
       "    <tr style=\"text-align: right;\">\n",
       "      <th></th>\n",
       "      <th>params</th>\n",
       "      <th>mean_test_score</th>\n",
       "      <th>modelo</th>\n",
       "    </tr>\n",
       "  </thead>\n",
       "  <tbody>\n",
       "    <tr>\n",
       "      <th>4</th>\n",
       "      <td>{'n_estimators': 300}</td>\n",
       "      <td>0.869264</td>\n",
       "      <td>Random Forest</td>\n",
       "    </tr>\n",
       "    <tr>\n",
       "      <th>5</th>\n",
       "      <td>{'n_estimators': 400}</td>\n",
       "      <td>0.869264</td>\n",
       "      <td>Random Forest</td>\n",
       "    </tr>\n",
       "    <tr>\n",
       "      <th>6</th>\n",
       "      <td>{'n_estimators': 500}</td>\n",
       "      <td>0.869264</td>\n",
       "      <td>Random Forest</td>\n",
       "    </tr>\n",
       "    <tr>\n",
       "      <th>9</th>\n",
       "      <td>{'C': 1000}</td>\n",
       "      <td>0.869264</td>\n",
       "      <td>RLog con Lasso</td>\n",
       "    </tr>\n",
       "  </tbody>\n",
       "</table>\n",
       "</div>"
      ],
      "text/plain": [
       "                  params  mean_test_score          modelo\n",
       "4  {'n_estimators': 300}         0.869264   Random Forest\n",
       "5  {'n_estimators': 400}         0.869264   Random Forest\n",
       "6  {'n_estimators': 500}         0.869264   Random Forest\n",
       "9            {'C': 1000}         0.869264  RLog con Lasso"
      ]
     },
     "execution_count": 15,
     "metadata": {},
     "output_type": "execute_result"
    }
   ],
   "source": [
    "resultados_RLog=pd.DataFrame(grid_RLog.cv_results_)\n",
    "resultados_RLog = resultados_RLog[['params','mean_test_score']]\n",
    "resultados_RLog['modelo'] = 'Reg Log sin reg'\n",
    "resultados_RLog\n",
    "\n",
    "resultados_rf=pd.DataFrame(grid_rf.cv_results_)\n",
    "resultados_rf = resultados_rf[['params','mean_test_score']]\n",
    "resultados_rf['modelo'] = 'Random Forest'\n",
    "resultados_rf\n",
    "\n",
    "resultados_Ridge=pd.DataFrame(grid_Ridge.cv_results_)\n",
    "resultados_Ridge = resultados_Ridge[['params','mean_test_score']]\n",
    "resultados_Ridge['modelo'] = 'RLog con Ridge'\n",
    "resultados_Ridge\n",
    "\n",
    "resultados_Lasso=pd.DataFrame(grid_Lasso.cv_results_)\n",
    "resultados_Lasso = resultados_Lasso[['params','mean_test_score']]\n",
    "resultados_Lasso['modelo'] = 'RLog con Lasso'\n",
    "resultados_Lasso\n",
    "\n",
    "resultados_todos = pd.concat([resultados_RLog, resultados_rf, resultados_Ridge, resultados_Lasso])\n",
    "\n",
    "print('El mejor modelo es:')\n",
    "resultados_todos.sort_values('mean_test_score', ascending=False).head(4)\n",
    "\n"
   ]
  },
  {
   "cell_type": "markdown",
   "metadata": {},
   "source": [
    "##### Generemos el \"cerebrito\" con este valor entrenando en todo el dataset."
   ]
  },
  {
   "cell_type": "code",
   "execution_count": 16,
   "metadata": {
    "ExecuteTime": {
     "end_time": "2020-10-14T22:59:27.892542Z",
     "start_time": "2020-10-14T22:59:27.700057Z"
    }
   },
   "outputs": [
    {
     "data": {
      "text/plain": [
       "LogisticRegression(C=1000, class_weight=None, dual=False, fit_intercept=True,\n",
       "                   intercept_scaling=1, l1_ratio=None, max_iter=20000,\n",
       "                   multi_class='ovr', n_jobs=None, penalty='l2',\n",
       "                   random_state=None, solver='lbfgs', tol=0.0001, verbose=0,\n",
       "                   warm_start=False)"
      ]
     },
     "execution_count": 16,
     "metadata": {},
     "output_type": "execute_result"
    }
   ],
   "source": [
    "mejor_parametro = 1000\n",
    "modelo_produccion=LogisticRegression(penalty='l2', C=mejor_parametro, max_iter=20000, tol=0.0001, multi_class='ovr')\n",
    "modelo_produccion.fit(X, y)  # Entrenamos con .fit"
   ]
  },
  {
   "cell_type": "code",
   "execution_count": 17,
   "metadata": {},
   "outputs": [],
   "source": [
    "import pickle\n",
    "\n",
    "nombre_archivo='cerebro_SubintencionPagos.sav'\n",
    "\n",
    "pickle.dump(modelo_produccion, open(nombre_archivo, 'wb'))"
   ]
  },
  {
   "cell_type": "code",
   "execution_count": 18,
   "metadata": {},
   "outputs": [],
   "source": [
    "vectorizer_filename = 'vectorizador_SubintencionPagos.sav'\n",
    "pickle.dump(vectorizer, open(vectorizer_filename, 'wb'))"
   ]
  },
  {
   "cell_type": "markdown",
   "metadata": {},
   "source": [
    "## Probando\n",
    "\n",
    "Ingresemos una oración y veamos qué pronostica:"
   ]
  },
  {
   "cell_type": "code",
   "execution_count": 19,
   "metadata": {
    "ExecuteTime": {
     "end_time": "2020-10-14T23:26:06.163151Z",
     "start_time": "2020-10-14T23:26:06.155174Z"
    }
   },
   "outputs": [
    {
     "data": {
      "text/plain": [
       "array(['medios'], dtype=object)"
      ]
     },
     "execution_count": 19,
     "metadata": {},
     "output_type": "execute_result"
    }
   ],
   "source": [
    "nueva_oracion='quiero pagar con tarjeta'\n",
    "#Hay que vectorizarla:\n",
    "X_nueva_oracion = vectorizer.transform([nueva_oracion])\n",
    "#X_nueva_oracion\n",
    "\n",
    "# Pronosticamos:\n",
    "intencion_pronsticada=modelo_produccion.predict(X_nueva_oracion)\n",
    "intencion_pronsticada"
   ]
  }
 ],
 "metadata": {
  "hide_input": false,
  "kernelspec": {
   "display_name": "Python 3",
   "language": "python",
   "name": "python3"
  },
  "language_info": {
   "codemirror_mode": {
    "name": "ipython",
    "version": 3
   },
   "file_extension": ".py",
   "mimetype": "text/x-python",
   "name": "python",
   "nbconvert_exporter": "python",
   "pygments_lexer": "ipython3",
   "version": "3.7.3"
  },
  "toc": {
   "base_numbering": 1,
   "nav_menu": {},
   "number_sections": true,
   "sideBar": true,
   "skip_h1_title": true,
   "title_cell": "Tabla de Contenidos",
   "title_sidebar": "Contenidos",
   "toc_cell": false,
   "toc_position": {
    "height": "calc(100% - 180px)",
    "left": "10px",
    "top": "150px",
    "width": "186.225px"
   },
   "toc_section_display": true,
   "toc_window_display": true
  }
 },
 "nbformat": 4,
 "nbformat_minor": 4
}
